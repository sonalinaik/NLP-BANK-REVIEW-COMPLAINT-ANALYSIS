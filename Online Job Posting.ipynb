{
 "cells": [
  {
   "cell_type": "markdown",
   "metadata": {},
   "source": [
    "# Business Problem:"
   ]
  },
  {
   "cell_type": "markdown",
   "metadata": {},
   "source": [
    "Our main business objectives are to understand the dynamics of the labour market of Armenia using the online job portal post as a proxy."
   ]
  },
  {
   "cell_type": "markdown",
   "metadata": {},
   "source": [
    "### Import necessary packages"
   ]
  },
  {
   "cell_type": "code",
   "execution_count": 1,
   "metadata": {},
   "outputs": [],
   "source": [
    "import numpy as np\n",
    "import pandas as pd\n",
    "\n",
    "#for charts\n",
    "import matplotlib.pyplot as plt\n",
    "%matplotlib inline\n",
    "import seaborn as sns\n",
    "from wordcloud import WordCloud      #need to install wordcloud package"
   ]
  },
  {
   "cell_type": "code",
   "execution_count": 2,
   "metadata": {},
   "outputs": [],
   "source": [
    "#for text processing\n",
    "import string\n",
    "import re\n",
    "import nltk\n",
    "from textblob import TextBlob"
   ]
  },
  {
   "cell_type": "code",
   "execution_count": 3,
   "metadata": {},
   "outputs": [],
   "source": [
    "#for tokenization\n",
    "from sklearn.feature_extraction.text import CountVectorizer, TfidfVectorizer\n",
    "\n",
    "#for feature selection\n",
    "from sklearn import decomposition\n",
    "\n",
    "#for model building\n",
    "from sklearn.model_selection import train_test_split\n",
    "from sklearn import metrics\n",
    "from sklearn.metrics import classification_report"
   ]
  },
  {
   "cell_type": "markdown",
   "metadata": {},
   "source": [
    "### Import data"
   ]
  },
  {
   "cell_type": "code",
   "execution_count": 4,
   "metadata": {},
   "outputs": [],
   "source": [
    "jobs = pd.read_csv('data job posts.csv')"
   ]
  },
  {
   "cell_type": "code",
   "execution_count": 5,
   "metadata": {
    "scrolled": true
   },
   "outputs": [
    {
     "data": {
      "text/html": [
       "<div>\n",
       "<style scoped>\n",
       "    .dataframe tbody tr th:only-of-type {\n",
       "        vertical-align: middle;\n",
       "    }\n",
       "\n",
       "    .dataframe tbody tr th {\n",
       "        vertical-align: top;\n",
       "    }\n",
       "\n",
       "    .dataframe thead th {\n",
       "        text-align: right;\n",
       "    }\n",
       "</style>\n",
       "<table border=\"1\" class=\"dataframe\">\n",
       "  <thead>\n",
       "    <tr style=\"text-align: right;\">\n",
       "      <th></th>\n",
       "      <th>0</th>\n",
       "      <th>1</th>\n",
       "      <th>2</th>\n",
       "      <th>3</th>\n",
       "      <th>4</th>\n",
       "    </tr>\n",
       "  </thead>\n",
       "  <tbody>\n",
       "    <tr>\n",
       "      <th>jobpost</th>\n",
       "      <td>AMERIA Investment Consulting Company\\nJOB TITL...</td>\n",
       "      <td>International Research &amp; Exchanges Board (IREX...</td>\n",
       "      <td>Caucasus Environmental NGO Network (CENN)\\nJOB...</td>\n",
       "      <td>Manoff Group\\nJOB TITLE:  BCC Specialist\\nPOSI...</td>\n",
       "      <td>Yerevan Brandy Company\\nJOB TITLE:  Software D...</td>\n",
       "    </tr>\n",
       "    <tr>\n",
       "      <th>date</th>\n",
       "      <td>Jan 5, 2004</td>\n",
       "      <td>Jan 7, 2004</td>\n",
       "      <td>Jan 7, 2004</td>\n",
       "      <td>Jan 7, 2004</td>\n",
       "      <td>Jan 10, 2004</td>\n",
       "    </tr>\n",
       "    <tr>\n",
       "      <th>Title</th>\n",
       "      <td>Chief Financial Officer</td>\n",
       "      <td>Full-time Community Connections Intern (paid i...</td>\n",
       "      <td>Country Coordinator</td>\n",
       "      <td>BCC Specialist</td>\n",
       "      <td>Software Developer</td>\n",
       "    </tr>\n",
       "    <tr>\n",
       "      <th>Company</th>\n",
       "      <td>AMERIA Investment Consulting Company</td>\n",
       "      <td>International Research &amp; Exchanges Board (IREX)</td>\n",
       "      <td>Caucasus Environmental NGO Network (CENN)</td>\n",
       "      <td>Manoff Group</td>\n",
       "      <td>Yerevan Brandy Company</td>\n",
       "    </tr>\n",
       "    <tr>\n",
       "      <th>AnnouncementCode</th>\n",
       "      <td>NaN</td>\n",
       "      <td>NaN</td>\n",
       "      <td>NaN</td>\n",
       "      <td>NaN</td>\n",
       "      <td>NaN</td>\n",
       "    </tr>\n",
       "    <tr>\n",
       "      <th>Term</th>\n",
       "      <td>NaN</td>\n",
       "      <td>NaN</td>\n",
       "      <td>NaN</td>\n",
       "      <td>NaN</td>\n",
       "      <td>NaN</td>\n",
       "    </tr>\n",
       "    <tr>\n",
       "      <th>Eligibility</th>\n",
       "      <td>NaN</td>\n",
       "      <td>NaN</td>\n",
       "      <td>NaN</td>\n",
       "      <td>NaN</td>\n",
       "      <td>NaN</td>\n",
       "    </tr>\n",
       "    <tr>\n",
       "      <th>Audience</th>\n",
       "      <td>NaN</td>\n",
       "      <td>NaN</td>\n",
       "      <td>NaN</td>\n",
       "      <td>NaN</td>\n",
       "      <td>NaN</td>\n",
       "    </tr>\n",
       "    <tr>\n",
       "      <th>StartDate</th>\n",
       "      <td>NaN</td>\n",
       "      <td>NaN</td>\n",
       "      <td>NaN</td>\n",
       "      <td>NaN</td>\n",
       "      <td>NaN</td>\n",
       "    </tr>\n",
       "    <tr>\n",
       "      <th>Duration</th>\n",
       "      <td>NaN</td>\n",
       "      <td>3 months</td>\n",
       "      <td>Renewable annual contract\\nPOSITION</td>\n",
       "      <td>NaN</td>\n",
       "      <td>NaN</td>\n",
       "    </tr>\n",
       "    <tr>\n",
       "      <th>Location</th>\n",
       "      <td>Yerevan, Armenia</td>\n",
       "      <td>IREX Armenia Main Office; Yerevan, Armenia \\nD...</td>\n",
       "      <td>Yerevan, Armenia</td>\n",
       "      <td>Manila, Philippines</td>\n",
       "      <td>Yerevan, Armenia</td>\n",
       "    </tr>\n",
       "    <tr>\n",
       "      <th>JobDescription</th>\n",
       "      <td>AMERIA Investment Consulting Company is seekin...</td>\n",
       "      <td>NaN</td>\n",
       "      <td>Public outreach and strengthening of a growing...</td>\n",
       "      <td>The LEAD (Local Enhancement and Development fo...</td>\n",
       "      <td>NaN</td>\n",
       "    </tr>\n",
       "    <tr>\n",
       "      <th>JobRequirment</th>\n",
       "      <td>- Supervises financial management and administ...</td>\n",
       "      <td>NaN</td>\n",
       "      <td>- Working with the Country Director to provide...</td>\n",
       "      <td>- Identify gaps in knowledge and overseeing in...</td>\n",
       "      <td>- Rendering technical assistance to Database M...</td>\n",
       "    </tr>\n",
       "    <tr>\n",
       "      <th>RequiredQual</th>\n",
       "      <td>To perform this job successfully, an\\nindividu...</td>\n",
       "      <td>- Bachelor's Degree; Master's is preferred;\\n-...</td>\n",
       "      <td>- Degree in environmentally related field, or ...</td>\n",
       "      <td>- Advanced degree in public health, social sci...</td>\n",
       "      <td>- University degree; economical background is ...</td>\n",
       "    </tr>\n",
       "    <tr>\n",
       "      <th>Salary</th>\n",
       "      <td>NaN</td>\n",
       "      <td>NaN</td>\n",
       "      <td>NaN</td>\n",
       "      <td>NaN</td>\n",
       "      <td>NaN</td>\n",
       "    </tr>\n",
       "    <tr>\n",
       "      <th>ApplicationP</th>\n",
       "      <td>To apply for this position, please submit a\\nc...</td>\n",
       "      <td>Please submit a cover letter and resume to:\\nI...</td>\n",
       "      <td>Please send resume or CV toursula.kazarian@......</td>\n",
       "      <td>Please send cover letter and resume to Amy\\nPe...</td>\n",
       "      <td>Successful candidates should submit\\n- CV; \\n-...</td>\n",
       "    </tr>\n",
       "    <tr>\n",
       "      <th>OpeningDate</th>\n",
       "      <td>NaN</td>\n",
       "      <td>NaN</td>\n",
       "      <td>NaN</td>\n",
       "      <td>NaN</td>\n",
       "      <td>NaN</td>\n",
       "    </tr>\n",
       "    <tr>\n",
       "      <th>Deadline</th>\n",
       "      <td>26 January 2004</td>\n",
       "      <td>12 January 2004</td>\n",
       "      <td>20 January 2004\\nSTART DATE:  February 2004</td>\n",
       "      <td>23 January 2004\\nSTART DATE:  Immediate</td>\n",
       "      <td>20 January 2004, 18:00</td>\n",
       "    </tr>\n",
       "    <tr>\n",
       "      <th>Notes</th>\n",
       "      <td>NaN</td>\n",
       "      <td>NaN</td>\n",
       "      <td>NaN</td>\n",
       "      <td>NaN</td>\n",
       "      <td>NaN</td>\n",
       "    </tr>\n",
       "    <tr>\n",
       "      <th>AboutC</th>\n",
       "      <td>NaN</td>\n",
       "      <td>The International Research &amp; Exchanges Board (...</td>\n",
       "      <td>The Caucasus Environmental NGO Network is a\\nn...</td>\n",
       "      <td>NaN</td>\n",
       "      <td>NaN</td>\n",
       "    </tr>\n",
       "    <tr>\n",
       "      <th>Attach</th>\n",
       "      <td>NaN</td>\n",
       "      <td>NaN</td>\n",
       "      <td>NaN</td>\n",
       "      <td>NaN</td>\n",
       "      <td>NaN</td>\n",
       "    </tr>\n",
       "    <tr>\n",
       "      <th>Year</th>\n",
       "      <td>2004</td>\n",
       "      <td>2004</td>\n",
       "      <td>2004</td>\n",
       "      <td>2004</td>\n",
       "      <td>2004</td>\n",
       "    </tr>\n",
       "    <tr>\n",
       "      <th>Month</th>\n",
       "      <td>1</td>\n",
       "      <td>1</td>\n",
       "      <td>1</td>\n",
       "      <td>1</td>\n",
       "      <td>1</td>\n",
       "    </tr>\n",
       "    <tr>\n",
       "      <th>IT</th>\n",
       "      <td>False</td>\n",
       "      <td>False</td>\n",
       "      <td>False</td>\n",
       "      <td>False</td>\n",
       "      <td>True</td>\n",
       "    </tr>\n",
       "  </tbody>\n",
       "</table>\n",
       "</div>"
      ],
      "text/plain": [
       "                                                                  0  \\\n",
       "jobpost           AMERIA Investment Consulting Company\\nJOB TITL...   \n",
       "date                                                    Jan 5, 2004   \n",
       "Title                                       Chief Financial Officer   \n",
       "Company                        AMERIA Investment Consulting Company   \n",
       "AnnouncementCode                                                NaN   \n",
       "Term                                                            NaN   \n",
       "Eligibility                                                     NaN   \n",
       "Audience                                                        NaN   \n",
       "StartDate                                                       NaN   \n",
       "Duration                                                        NaN   \n",
       "Location                                           Yerevan, Armenia   \n",
       "JobDescription    AMERIA Investment Consulting Company is seekin...   \n",
       "JobRequirment     - Supervises financial management and administ...   \n",
       "RequiredQual      To perform this job successfully, an\\nindividu...   \n",
       "Salary                                                          NaN   \n",
       "ApplicationP      To apply for this position, please submit a\\nc...   \n",
       "OpeningDate                                                     NaN   \n",
       "Deadline                                            26 January 2004   \n",
       "Notes                                                           NaN   \n",
       "AboutC                                                          NaN   \n",
       "Attach                                                          NaN   \n",
       "Year                                                           2004   \n",
       "Month                                                             1   \n",
       "IT                                                            False   \n",
       "\n",
       "                                                                  1  \\\n",
       "jobpost           International Research & Exchanges Board (IREX...   \n",
       "date                                                    Jan 7, 2004   \n",
       "Title             Full-time Community Connections Intern (paid i...   \n",
       "Company             International Research & Exchanges Board (IREX)   \n",
       "AnnouncementCode                                                NaN   \n",
       "Term                                                            NaN   \n",
       "Eligibility                                                     NaN   \n",
       "Audience                                                        NaN   \n",
       "StartDate                                                       NaN   \n",
       "Duration                                                   3 months   \n",
       "Location          IREX Armenia Main Office; Yerevan, Armenia \\nD...   \n",
       "JobDescription                                                  NaN   \n",
       "JobRequirment                                                   NaN   \n",
       "RequiredQual      - Bachelor's Degree; Master's is preferred;\\n-...   \n",
       "Salary                                                          NaN   \n",
       "ApplicationP      Please submit a cover letter and resume to:\\nI...   \n",
       "OpeningDate                                                     NaN   \n",
       "Deadline                                            12 January 2004   \n",
       "Notes                                                           NaN   \n",
       "AboutC            The International Research & Exchanges Board (...   \n",
       "Attach                                                          NaN   \n",
       "Year                                                           2004   \n",
       "Month                                                             1   \n",
       "IT                                                            False   \n",
       "\n",
       "                                                                  2  \\\n",
       "jobpost           Caucasus Environmental NGO Network (CENN)\\nJOB...   \n",
       "date                                                    Jan 7, 2004   \n",
       "Title                                           Country Coordinator   \n",
       "Company                   Caucasus Environmental NGO Network (CENN)   \n",
       "AnnouncementCode                                                NaN   \n",
       "Term                                                            NaN   \n",
       "Eligibility                                                     NaN   \n",
       "Audience                                                        NaN   \n",
       "StartDate                                                       NaN   \n",
       "Duration                        Renewable annual contract\\nPOSITION   \n",
       "Location                                           Yerevan, Armenia   \n",
       "JobDescription    Public outreach and strengthening of a growing...   \n",
       "JobRequirment     - Working with the Country Director to provide...   \n",
       "RequiredQual      - Degree in environmentally related field, or ...   \n",
       "Salary                                                          NaN   \n",
       "ApplicationP      Please send resume or CV toursula.kazarian@......   \n",
       "OpeningDate                                                     NaN   \n",
       "Deadline                20 January 2004\\nSTART DATE:  February 2004   \n",
       "Notes                                                           NaN   \n",
       "AboutC            The Caucasus Environmental NGO Network is a\\nn...   \n",
       "Attach                                                          NaN   \n",
       "Year                                                           2004   \n",
       "Month                                                             1   \n",
       "IT                                                            False   \n",
       "\n",
       "                                                                  3  \\\n",
       "jobpost           Manoff Group\\nJOB TITLE:  BCC Specialist\\nPOSI...   \n",
       "date                                                    Jan 7, 2004   \n",
       "Title                                                BCC Specialist   \n",
       "Company                                                Manoff Group   \n",
       "AnnouncementCode                                                NaN   \n",
       "Term                                                            NaN   \n",
       "Eligibility                                                     NaN   \n",
       "Audience                                                        NaN   \n",
       "StartDate                                                       NaN   \n",
       "Duration                                                        NaN   \n",
       "Location                                        Manila, Philippines   \n",
       "JobDescription    The LEAD (Local Enhancement and Development fo...   \n",
       "JobRequirment     - Identify gaps in knowledge and overseeing in...   \n",
       "RequiredQual      - Advanced degree in public health, social sci...   \n",
       "Salary                                                          NaN   \n",
       "ApplicationP      Please send cover letter and resume to Amy\\nPe...   \n",
       "OpeningDate                                                     NaN   \n",
       "Deadline                    23 January 2004\\nSTART DATE:  Immediate   \n",
       "Notes                                                           NaN   \n",
       "AboutC                                                          NaN   \n",
       "Attach                                                          NaN   \n",
       "Year                                                           2004   \n",
       "Month                                                             1   \n",
       "IT                                                            False   \n",
       "\n",
       "                                                                  4  \n",
       "jobpost           Yerevan Brandy Company\\nJOB TITLE:  Software D...  \n",
       "date                                                   Jan 10, 2004  \n",
       "Title                                            Software Developer  \n",
       "Company                                      Yerevan Brandy Company  \n",
       "AnnouncementCode                                                NaN  \n",
       "Term                                                            NaN  \n",
       "Eligibility                                                     NaN  \n",
       "Audience                                                        NaN  \n",
       "StartDate                                                       NaN  \n",
       "Duration                                                        NaN  \n",
       "Location                                           Yerevan, Armenia  \n",
       "JobDescription                                                  NaN  \n",
       "JobRequirment     - Rendering technical assistance to Database M...  \n",
       "RequiredQual      - University degree; economical background is ...  \n",
       "Salary                                                          NaN  \n",
       "ApplicationP      Successful candidates should submit\\n- CV; \\n-...  \n",
       "OpeningDate                                                     NaN  \n",
       "Deadline                                     20 January 2004, 18:00  \n",
       "Notes                                                           NaN  \n",
       "AboutC                                                          NaN  \n",
       "Attach                                                          NaN  \n",
       "Year                                                           2004  \n",
       "Month                                                             1  \n",
       "IT                                                             True  "
      ]
     },
     "execution_count": 5,
     "metadata": {},
     "output_type": "execute_result"
    }
   ],
   "source": [
    "jobs.head().T"
   ]
  },
  {
   "cell_type": "code",
   "execution_count": 6,
   "metadata": {},
   "outputs": [
    {
     "data": {
      "text/plain": [
       "(19001, 24)"
      ]
     },
     "execution_count": 6,
     "metadata": {},
     "output_type": "execute_result"
    }
   ],
   "source": [
    "jobs.shape"
   ]
  },
  {
   "cell_type": "code",
   "execution_count": 7,
   "metadata": {},
   "outputs": [
    {
     "name": "stdout",
     "output_type": "stream",
     "text": [
      "<class 'pandas.core.frame.DataFrame'>\n",
      "RangeIndex: 19001 entries, 0 to 19000\n",
      "Data columns (total 24 columns):\n",
      "jobpost             19001 non-null object\n",
      "date                19001 non-null object\n",
      "Title               18973 non-null object\n",
      "Company             18994 non-null object\n",
      "AnnouncementCode    1208 non-null object\n",
      "Term                7676 non-null object\n",
      "Eligibility         4930 non-null object\n",
      "Audience            640 non-null object\n",
      "StartDate           9675 non-null object\n",
      "Duration            10798 non-null object\n",
      "Location            18969 non-null object\n",
      "JobDescription      15109 non-null object\n",
      "JobRequirment       16479 non-null object\n",
      "RequiredQual        18517 non-null object\n",
      "Salary              9622 non-null object\n",
      "ApplicationP        18941 non-null object\n",
      "OpeningDate         18295 non-null object\n",
      "Deadline            18936 non-null object\n",
      "Notes               2211 non-null object\n",
      "AboutC              12470 non-null object\n",
      "Attach              1559 non-null object\n",
      "Year                19001 non-null int64\n",
      "Month               19001 non-null int64\n",
      "IT                  19001 non-null bool\n",
      "dtypes: bool(1), int64(2), object(21)\n",
      "memory usage: 3.4+ MB\n"
     ]
    }
   ],
   "source": [
    "jobs.info()"
   ]
  },
  {
   "cell_type": "code",
   "execution_count": 8,
   "metadata": {},
   "outputs": [],
   "source": [
    "#lowercase the column names\n",
    "jobs.columns = jobs.columns.str.lower()"
   ]
  },
  {
   "cell_type": "code",
   "execution_count": 9,
   "metadata": {},
   "outputs": [
    {
     "data": {
      "text/plain": [
       "Index(['jobpost', 'date', 'title', 'company', 'announcementcode', 'term',\n",
       "       'eligibility', 'audience', 'startdate', 'duration', 'location',\n",
       "       'jobdescription', 'jobrequirment', 'requiredqual', 'salary',\n",
       "       'applicationp', 'openingdate', 'deadline', 'notes', 'aboutc', 'attach',\n",
       "       'year', 'month', 'it'],\n",
       "      dtype='object')"
      ]
     },
     "execution_count": 9,
     "metadata": {},
     "output_type": "execute_result"
    }
   ],
   "source": [
    "jobs.columns"
   ]
  },
  {
   "cell_type": "markdown",
   "metadata": {},
   "source": [
    "### Data Cleaning"
   ]
  },
  {
   "cell_type": "code",
   "execution_count": 10,
   "metadata": {},
   "outputs": [],
   "source": [
    "#removing duplicate jobposts based on title and post\n",
    "jobs = jobs.drop_duplicates(['jobpost', 'title'])"
   ]
  },
  {
   "cell_type": "code",
   "execution_count": 11,
   "metadata": {},
   "outputs": [
    {
     "data": {
      "text/plain": [
       "(18892, 24)"
      ]
     },
     "execution_count": 11,
     "metadata": {},
     "output_type": "execute_result"
    }
   ],
   "source": [
    "jobs.shape"
   ]
  },
  {
   "cell_type": "code",
   "execution_count": 12,
   "metadata": {},
   "outputs": [],
   "source": [
    "#removing records with null title\n",
    "#jobs = jobs[jobs.title.notna()]\n",
    "#jobs.shape"
   ]
  },
  {
   "cell_type": "markdown",
   "metadata": {},
   "source": [
    "## Type of demanding jobs in Armenia"
   ]
  },
  {
   "cell_type": "markdown",
   "metadata": {},
   "source": [
    "**1. Preprocessing the text data**"
   ]
  },
  {
   "cell_type": "code",
   "execution_count": 13,
   "metadata": {},
   "outputs": [],
   "source": [
    "jobs['title'] = jobs['title'].astype('str')"
   ]
  },
  {
   "cell_type": "code",
   "execution_count": 14,
   "metadata": {},
   "outputs": [
    {
     "data": {
      "text/plain": [
       "'!\"#$%&\\'()*+,-./:;<=>?@[\\\\]^_`{|}~'"
      ]
     },
     "execution_count": 14,
     "metadata": {},
     "output_type": "execute_result"
    }
   ],
   "source": [
    "string.punctuation"
   ]
  },
  {
   "cell_type": "code",
   "execution_count": 15,
   "metadata": {},
   "outputs": [],
   "source": [
    "#UDF to do basic cleaning of title column to understand type of jobs\n",
    "def clean_data(text):\n",
    "    text = text.lower()  # convert all the text into lowercase\n",
    "    text = text.strip()  #remove starting and trailing whitespaces\n",
    "    #special_chars = re.compile('[@!#$%^&*()<>?/\\|}{~:;]')\n",
    "    #text = re.sub(special_chars,'', text)\n",
    "    special_char_reg = '([a-zA-Z0-9]+)' + '[!\"#$%&\\'()*+,-./:;<=>?@\\\\^_`{|}~]' + '([a-zA-Z0-9]+)'\n",
    "    text = re.sub(special_char_reg, ' ', text)\n",
    "    text = re.sub(r'\\s+', ' ', text) #remove all line formattings\n",
    "    text = re.sub(r'\\d+', '', text) #remove digits\n",
    "    text = ''.join(c for c in text if c not in string.punctuation)   #remove pecial symbols from job titles\n",
    "    return text"
   ]
  },
  {
   "cell_type": "code",
   "execution_count": 16,
   "metadata": {},
   "outputs": [
    {
     "data": {
      "text/plain": [
       "'Community Connections'"
      ]
     },
     "execution_count": 16,
     "metadata": {},
     "output_type": "execute_result"
    }
   ],
   "source": [
    "a = 'Ful8l-ti9me Community Connections f09:053yy'\n",
    "special_char_reg = '([a-zA-Z0-9]+)' + '[!\"#$%&\\'()*+,-./:;<=>?@\\\\^_`{|}~]' + '([a-zA-Z0-9]+)'\n",
    "re.sub(special_char_reg, ' ', a).strip()"
   ]
  },
  {
   "cell_type": "code",
   "execution_count": 17,
   "metadata": {},
   "outputs": [
    {
     "data": {
      "text/plain": [
       "0                              Chief Financial Officer\n",
       "1    Full-time Community Connections Intern (paid i...\n",
       "2                                  Country Coordinator\n",
       "3                                       BCC Specialist\n",
       "4                                   Software Developer\n",
       "5                                           Saleswoman\n",
       "Name: title, dtype: object"
      ]
     },
     "execution_count": 17,
     "metadata": {},
     "output_type": "execute_result"
    }
   ],
   "source": [
    "jobs.title.head(6)"
   ]
  },
  {
   "cell_type": "code",
   "execution_count": 18,
   "metadata": {},
   "outputs": [
    {
     "data": {
      "text/plain": [
       "0                          chief financial officer\n",
       "1     community connections intern paid internship\n",
       "2                              country coordinator\n",
       "3                                   bcc specialist\n",
       "4                               software developer\n",
       "Name: title, dtype: object"
      ]
     },
     "execution_count": 18,
     "metadata": {},
     "output_type": "execute_result"
    }
   ],
   "source": [
    "title_df = jobs.title.apply(lambda x : clean_data(x))\n",
    "title_df.head()"
   ]
  },
  {
   "cell_type": "code",
   "execution_count": 19,
   "metadata": {},
   "outputs": [],
   "source": [
    "from nltk import WordNetLemmatizer\n",
    "#nltk.download('punkt')"
   ]
  },
  {
   "cell_type": "code",
   "execution_count": 20,
   "metadata": {},
   "outputs": [],
   "source": [
    "#nltk.download('wordnet')"
   ]
  },
  {
   "cell_type": "code",
   "execution_count": 21,
   "metadata": {},
   "outputs": [],
   "source": [
    "def lemma(text):\n",
    "    word_list = nltk.word_tokenize(text) #tokenize beofre lemmatization\n",
    "    lemma_output = ' '.join(WordNetLemmatizer().lemmatize(word) for word in word_list)\n",
    "    return lemma_output"
   ]
  },
  {
   "cell_type": "code",
   "execution_count": 22,
   "metadata": {},
   "outputs": [
    {
     "name": "stdout",
     "output_type": "stream",
     "text": [
      "['The', 'striped', 'bats', 'are', 'hanging', 'on', 'their', 'feet', 'for', 'best']\n",
      "The striped bat are hanging on their foot for best\n"
     ]
    }
   ],
   "source": [
    "# Define the sentence to be lemmatized\n",
    "sentence = \"public bats outreach and strengthening of a growth\"\n",
    "sentence = \"The striped bats are hanging on their feet for best\"\n",
    "# Tokenize: Split the sentence into words\n",
    "word_list = nltk.word_tokenize(sentence)\n",
    "print(word_list)\n",
    "#> ['The', 'striped', 'bats', 'are', 'hanging', 'on', 'their', 'feet', 'for', 'best']\n",
    "\n",
    "# Lemmatize list of words and join\n",
    "lemmatized_output = ' '.join([WordNetLemmatizer().lemmatize(w) for w in word_list])\n",
    "print(lemmatized_output)"
   ]
  },
  {
   "cell_type": "code",
   "execution_count": 23,
   "metadata": {},
   "outputs": [
    {
     "data": {
      "text/plain": [
       "'the stripe bat be hang on -PRON- foot for good'"
      ]
     },
     "execution_count": 23,
     "metadata": {},
     "output_type": "execute_result"
    }
   ],
   "source": [
    "##Lematization\n",
    "import spacy\n",
    "#neccesary to download the english model using \"python -m spacy download en\"\n",
    "nlp = spacy.load('en_core_web_sm')\n",
    "# Parse the sentence using the loaded 'en' model object `nlp`\n",
    "doc = nlp(sentence)\n",
    "\n",
    "# Extract the lemma for each token and join\n",
    "\" \".join([token.lemma_ for token in doc])"
   ]
  },
  {
   "cell_type": "code",
   "execution_count": 24,
   "metadata": {},
   "outputs": [],
   "source": [
    "title_df_1 = title_df.apply(lambda x : lemma(x))"
   ]
  },
  {
   "cell_type": "code",
   "execution_count": 25,
   "metadata": {},
   "outputs": [
    {
     "data": {
      "text/plain": [
       "0                        chief financial officer\n",
       "1    community connection intern paid internship\n",
       "2                            country coordinator\n",
       "3                                 bcc specialist\n",
       "4                             software developer\n",
       "Name: title, dtype: object"
      ]
     },
     "execution_count": 25,
     "metadata": {},
     "output_type": "execute_result"
    }
   ],
   "source": [
    "title_df_1.head()"
   ]
  },
  {
   "cell_type": "code",
   "execution_count": 26,
   "metadata": {},
   "outputs": [],
   "source": [
    "#Stop words removal\n",
    "stop = nltk.corpus.stopwords.words('english')\n",
    "#stop.extend(['armenian', 'armenia', 'job', 'title', 'position', 'location', 'responsibilities', 'application',\n",
    "#                  'procedures', 'deadline', 'required','qualifications', 'renumeration', 'salary', 'date', 'company', 'llc'])"
   ]
  },
  {
   "cell_type": "code",
   "execution_count": 27,
   "metadata": {},
   "outputs": [],
   "source": [
    "title_df_1 = title_df_1.apply(lambda x : ' '.join(x for x in x.split() if x not in stop))"
   ]
  },
  {
   "cell_type": "code",
   "execution_count": 28,
   "metadata": {},
   "outputs": [
    {
     "data": {
      "text/plain": [
       "0                        chief financial officer\n",
       "1    community connection intern paid internship\n",
       "2                            country coordinator\n",
       "3                                 bcc specialist\n",
       "4                             software developer\n",
       "Name: title, dtype: object"
      ]
     },
     "execution_count": 28,
     "metadata": {},
     "output_type": "execute_result"
    }
   ],
   "source": [
    "title_df_1.head()"
   ]
  },
  {
   "cell_type": "markdown",
   "metadata": {},
   "source": [
    "Now to undertand the most demanding jobs in armenia we can create a **bi/tri gram DTM** on the job titles and find the most occuring token to be the most demanding job"
   ]
  },
  {
   "cell_type": "code",
   "execution_count": 29,
   "metadata": {},
   "outputs": [],
   "source": [
    "#Tokenization using count vectorizer\n",
    "count_vect = CountVectorizer(ngram_range=(1,1))\n",
    "token = count_vect.fit_transform(title_df_1)"
   ]
  },
  {
   "cell_type": "code",
   "execution_count": 30,
   "metadata": {},
   "outputs": [
    {
     "data": {
      "text/plain": [
       "<18892x2542 sparse matrix of type '<class 'numpy.int64'>'\n",
       "\twith 53675 stored elements in Compressed Sparse Row format>"
      ]
     },
     "execution_count": 30,
     "metadata": {},
     "output_type": "execute_result"
    }
   ],
   "source": [
    "token"
   ]
  },
  {
   "cell_type": "code",
   "execution_count": 31,
   "metadata": {},
   "outputs": [
    {
     "name": "stdout",
     "output_type": "stream",
     "text": [
      "['aacas', 'abap', 'abatement', 'abattoir', 'abkhazia', 'abovyan', 'abuse', 'academy', 'acca', 'access', 'accident', 'account', 'accountability', 'accountancy', 'accountant', 'accounting', 'achajour', 'acquiring', 'acquisition', 'act', 'action', 'actionscript', 'activation', 'active', 'activity', 'actuarial', 'actuary', 'ad', 'adaptation', 'adb', 'added', 'addition', 'address', 'adherence', 'adjuster', 'adjustor', 'admin', 'administration', 'administrative', 'administrator', 'adminsitrative', 'adminstration', 'adminstrative', 'adminstrator', 'admission', 'adobe', 'adolescent', 'adp', 'advanced', 'adventure', 'advertisement', 'advertising', 'advertizing', 'adviser', 'advising', 'advisor', 'advisory', 'advocacy', 'advocate', 'aerobics', 'affair', 'affiliate', 'affluent', 'agency', 'agent', 'agile', 'agreement', 'agribusiness', 'agricultural', 'agriculture', 'agriculturist', 'agro', 'agronomist', 'agroprocessing', 'aid', 'aide', 'aided', 'aiming', 'air', 'aircraft', 'airline', 'airport', 'airticket', 'airticketing', 'ajax', 'alaverdi', 'alcatel', 'algorithm', 'alleviation', 'alpinist', 'alternative', 'alumnus', 'amadeus', 'amasia', 'ambassador', 'ambulatory', 'amended', 'amendment', 'ameriagroup', 'america', 'american', 'aml', 'among', 'amp', 'amsg', 'analist', 'analog', 'analyse', 'analysis', 'analyst', 'analytic', 'analytical', 'analytics', 'analyze', 'analyzer', 'analyzes', 'android', 'anesthesiology', 'angular', 'angularjs', 'animal', 'animation', 'animator', 'announcement', 'annual', 'anthropology', 'anticorruption', 'aparan', 'app', 'apparel', 'appeal', 'appliance', 'application', 'applied', 'appraisal', 'appraiser', 'apprentice', 'approach', 'apps', 'april', 'aquaculture', 'aquatic', 'arabic', 'aragatsotn', 'ararat', 'archaeologist', 'archhitect', 'architect', 'architectural', 'architecture', 'archive', 'archiving', 'ardi', 'area', 'aregak', 'arm', 'armavir', 'armenia', 'armeniainformation', 'armenian', 'army', 'art', 'artashat', 'artik', 'artist', 'artsakh', 'asco', 'ashtarak', 'asia', 'asic', 'asp', 'aspect', 'aspn', 'assembly', 'assessment', 'assessor', 'asset', 'assist', 'assistance', 'assistant', 'assistat', 'assisting', 'assitant', 'associate', 'association', 'assuarance', 'assurance', 'asterisk', 'astp', 'atcredit', 'atg', 'athgo', 'atl', 'atlas', 'atm', 'attendant', 'attestation', 'attn', 'attorney', 'attraction', 'aua', 'audio', 'audiovisual', 'audit', 'auditing', 'auditor', 'audtior', 'authenticator', 'auto', 'autocad', 'automated', 'automatic', 'automation', 'automotive', 'autumn', 'auxiliary', 'avan', 'avet', 'award', 'awareness', 'awp', 'ax', 'aygavan', 'azerbaijan', 'ba', 'baby', 'babysitter', 'back', 'backend', 'background', 'backhaul', 'backhoe', 'baker', 'bakery', 'baldinini', 'bank', 'banker', 'banking', 'bankmail', 'bankruptcy', 'bar', 'barista', 'barman', 'bartender', 'base', 'based', 'baseline', 'basic', 'basin', 'basis', 'bb', 'bc', 'bcc', 'bd', 'beauty', 'becd', 'bed', 'belgium', 'bell', 'bellman', 'ben', 'benefit', 'beverage', 'bi', 'bid', 'bilateral', 'biling', 'billing', 'biochemist', 'biodiversity', 'biological', 'biologist', 'biomedicine', 'biotechnology', 'bird', 'bitrix', 'blackberry', 'block', 'blog', 'board', 'body', 'boiler', 'booking', 'bookkeeper', 'bookkepeer', 'border', 'bottling', 'boutique', 'boy', 'branch', 'brand', 'branding', 'bread', 'breakfast', 'breathing', 'breeder', 'breeding', 'brewery', 'bridge', 'broadband', 'broadcasting', 'broker', 'brokerage', 'brsc', 'brucellosis', 'brussels', 'bs', 'bsibm', 'bsp', 'btl', 'btrp', 'budget', 'budgeting', 'buffet', 'build', 'builder', 'building', 'bulletin', 'bursar', 'busines', 'business', 'buyer', 'buying', 'cabinet', 'cad', 'cadastre', 'cae', 'caf', 'cafe', 'calculation', 'calibration', 'call', 'calling', 'cam', 'campaign', 'campaigning', 'canada', 'cancelled', 'canned', 'canning', 'capability', 'capacity', 'capex', 'capital', 'car', 'card', 'cardholder', 'cardiologist', 'cardiology', 'cardiologyst', 'care', 'caretaker', 'carfleet', 'cargo', 'caring', 'caritas', 'carrier', 'cartoon', 'case', 'cash', 'cashier', 'catalogue', 'category', 'catering', 'caucasus', 'cba', 'cbd', 'cc', 'ccg', 'ccm', 'cct', 'cedc', 'ceed', 'center', 'central', 'centralized', 'centre', 'century', 'ceo', 'certificate', 'certification', 'certified', 'ceu', 'cf', 'cfa', 'cfo', 'cgi', 'chain', 'chair', 'chairman', 'challenge', 'chambarak', 'championship', 'change', 'changed', 'channel', 'chap', 'charentsavan', 'charge', 'chargeback', 'charging', 'chat', 'chauffeur', 'che', 'check', 'cheef', 'cheese', 'chef', 'cheif', 'chemical', 'chemist', 'chief', 'child', 'childhood', 'childrens', 'chinese', 'chocolate', 'christian', 'ci', 'cif', 'cinema', 'circuit', 'circulation', 'cisco', 'cist', 'citizen', 'civic', 'civil', 'claim', 'class', 'classification', 'clean', 'cleaner', 'cleaning', 'clearance', 'clerk', 'client', 'climate', 'climber', 'clinic', 'clinical', 'clip', 'cloud', 'club', 'cluster', 'cm', 'cnet', 'co', 'coach', 'code', 'coder', 'coding', 'coffee', 'collaboration', 'collateral', 'collection', 'collector', 'college', 'collegial', 'combat', 'combating', 'combining', 'command', 'commerce', 'commercial', 'commissary', 'commission', 'commitment', 'committee', 'commodity', 'communcation', 'communication', 'communicator', 'community', 'company', 'comparative', 'comparison', 'compensation', 'competitive', 'competitiveness', 'compiler', 'complaint', 'complex', 'compliance', 'component', 'computer', 'computing', 'concept', 'concierge', 'conditioning', 'conduct', 'conducting', 'conductor', 'confectioner', 'confectionery', 'conference', 'configuration', 'conflict', 'congenital', 'congress', 'connection', 'connectivity', 'conservation', 'consolidated', 'constraint', 'construction', 'constructor', 'consulant', 'consultancy', 'consultant', 'consultation', 'consulting', 'consumer', 'contact', 'container', 'content', 'context', 'contract', 'contractor', 'contractual', 'control', 'controler', 'controller', 'controlling', 'convention', 'convergent', 'conversation', 'conveyer', 'coo', 'cook', 'cooling', 'coop', 'cooperation', 'cooperative', 'coordiantor', 'coordinating', 'coordination', 'coordinatior', 'coordinator', 'cop', 'copper', 'copy', 'copywriter', 'core', 'corner', 'corp', 'corporate', 'corporation', 'corporative', 'correspondence', 'correspondent', 'corridor', 'corruption', 'cosmetic', 'cosmetologist', 'cost', 'costing', 'council', 'counsel', 'counselling', 'counsellor', 'counselor', 'country', 'courier', 'course', 'court', 'cover', 'covering', 'cp', 'craft', 'crane', 'cre', 'creative', 'creator', 'credit', 'crediting', 'creditor', 'crime', 'criminal', 'crisis', 'critical', 'crm', 'crusher', 'crystal', 'cs', 'csc', 'cso', 'csql', 'csr', 'cto', 'cube', 'cuisine', 'cultural', 'culture', 'cum', 'curator', 'currency', 'current', 'curriculum', 'custodian', 'custom', 'customer', 'cybercrime', 'cyclotron', 'cyd', 'czech', 'dafi', 'daily', 'dairy', 'damage', 'dance', 'data', 'database', 'date', 'day', 'db', 'dba', 'dceo', 'dcfta', 'dcop', 'deadline', 'deal', 'dealer', 'dealing', 'dean', 'debate', 'debt', 'debtor', 'decentralization', 'decision', 'decor', 'decorator', 'deep', 'deepening', 'defence', 'defender', 'defense', 'delegate', 'delinquency', 'delinquent', 'delivering', 'delivery', 'delphi', 'democracy', 'democratic', 'democratisation', 'democratization', 'demographic', 'dentist', 'department', 'deposit', 'deputy', 'description', 'design', 'designer', 'desk', 'desktop', 'detection', 'deterring', 'develop', 'develope', 'developer', 'developing', 'developmant', 'development', 'device', 'devision', 'devops', 'dhtml', 'diagnostic', 'diagnostics', 'dialogue', 'diaspora', 'diesel', 'dietitian', 'digital', 'digitization', 'diligence', 'dilijan', 'diplomacy', 'direct', 'direction', 'director', 'directorate', 'directory', 'disability', 'disaster', 'discourse', 'discussion', 'disease', 'dispatcher', 'dispetcher', 'display', 'dispute', 'dissemination', 'distance', 'distant', 'distributed', 'distribution', 'distributor', 'district', 'diversity', 'division', 'dl', 'dme', 'dns', 'doctor', 'document', 'documentary', 'documentation', 'documenter', 'doka', 'domain', 'domestic', 'done', 'donor', 'doorman', 'dotcom', 'downscaling', 'dr', 'drafting', 'draftsman', 'drainage', 'dried', 'drink', 'driver', 'drr', 'drug', 'drupal', 'dsp', 'dubbing', 'duct', 'due', 'duty', 'dynamic', 'dzor', 'eac', 'early', 'earthmoving', 'earthwork', 'eastern', 'eca', 'echmiadzin', 'ecologist', 'ecommerce', 'econometric', 'econometrics', 'economic', 'economical', 'economics', 'economist', 'economy', 'ed', 'eda', 'edition', 'editor', 'editorial', 'education', 'educational', 'educationusa', 'educator', 'ee', 'effectiveness', 'efficiency', 'efficient', 'egar', 'egineer', 'egovernance', 'eia', 'eiti', 'elaboration', 'election', 'electrical', 'electrician', 'electricity', 'electromechanical', 'electronic', 'electronics', 'elementary', 'elt', 'email', 'emarketing', 'embedded', 'emergency', 'emission', 'employee', 'employment', 'empowerment', 'enabled', 'enabling', 'end', 'endocrinologist', 'energy', 'enforcement', 'eng', 'engagement', 'engine', 'engineer', 'engineering', 'english', 'enpard', 'enpi', 'enrichment', 'enrollment', 'ensuring', 'enterprise', 'entertainment', 'entrepreneur', 'entrepreneurship', 'entry', 'environment', 'environmental', 'epidemiologist', 'epidemiology', 'equal', 'equality', 'equipment', 'equity', 'equivalent', 'erlang', 'erosion', 'erp', 'error', 'escort', 'escrow', 'essential', 'establishing', 'establishment', 'estate', 'estimation', 'estimator', 'etchmiadzin', 'ethic', 'etiquette', 'etl', 'ett', 'ettl', 'eu', 'euag', 'eurasia', 'eurasian', 'european', 'evaluation', 'evaluator', 'evangelist', 'evening', 'event', 'exact', 'exam', 'examination', 'examiner', 'excellence', 'exchange', 'execution', 'executive', 'exercise', 'expansion', 'expatriate', 'expediter', 'experience', 'experienced', 'expert', 'expertise', 'exploration', 'export', 'exposure', 'express', 'expression', 'extended', 'extension', 'exterior', 'external', 'externship', 'extractive', 'eye', 'fa', 'facebook', 'facilitation', 'facilitator', 'facility', 'facing', 'factoring', 'factory', 'factsheet', 'faculty', 'fair', 'fairwild', 'faith', 'family', 'fao', 'farm', 'farmer', 'farsi', 'fashion', 'fast', 'fastfood', 'fdi', 'fea', 'federation', 'feedback', 'feldsher', 'fellow', 'fianance', 'fiber', 'field', 'fieldwork', 'file', 'filler', 'filling', 'film', 'final', 'finance', 'financial', 'financier', 'financing', 'fire', 'fireman', 'firm', 'firmware', 'first', 'fiscal', 'fish', 'fishfarm', 'fitness', 'fitter', 'fix', 'fixed', 'flagship', 'flash', 'flasher', 'flavour', 'fleet', 'flesh', 'flex', 'floor', 'flotation', 'flotator', 'flow', 'fm', 'fmcg', 'food', 'force', 'forced', 'forecast', 'forecasting', 'foreign', 'foreman', 'forest', 'forex', 'formalization', 'forming', 'forum', 'forward', 'forwarding', 'fostering', 'foundation', 'founder', 'fpga', 'framework', 'franchise', 'franchisee', 'fraud', 'free', 'freebsd', 'freedom', 'freehand', 'freelance', 'freelancer', 'freight', 'french', 'frequency', 'front', 'frontend', 'fruit', 'fsdp', 'fsn', 'ftf', 'full', 'function', 'functional', 'fund', 'funded', 'funding', 'fundraiser', 'fundraising', 'furniture', 'future', 'ga', 'gaap', 'game', 'gap', 'garage', 'gardener', 'garment', 'gas', 'gavar', 'gegharkunik', 'gegharqunik', 'gem', 'gemstone', 'gender', 'general', 'generalist', 'generation', 'genetic', 'genocide', 'geologist', 'geomarketing', 'georgia', 'georgian', 'german', 'germany', 'gharabagh', 'ghg', 'gi', 'giz', 'global', 'gm', 'gnoseological', 'goldsmith', 'good', 'goris', 'gortsaranain', 'governance', 'governess', 'government', 'grade', 'graduate', 'graduation', 'grafik', 'grail', 'grant', 'grape', 'graphic', 'graphical', 'greater', 'green', 'greenhouse', 'groovie', 'ground', 'groundwater', 'group', 'growth', 'gsgp', 'gtc', 'guarantee', 'guaranty', 'guard', 'guest', 'gui', 'guide', 'guideline', 'guru', 'gynaecologist', 'gyumri', 'ha', 'hachn', 'hai', 'hairdresser', 'hall', 'handbag', 'handler', 'handling', 'handyman', 'hapnk', 'hardware', 'head', 'headmaster', 'health', 'healthcare', 'healthy', 'heart', 'heating', 'heavy', 'help', 'helpdesk', 'helper', 'herb', 'herbal', 'hexagon', 'hfh', 'high', 'higher', 'highway', 'hilti', 'hiv', 'home', 'horeca', 'hospital', 'hostess', 'hosting', 'hot', 'hotel', 'hotline', 'house', 'household', 'housekeeper', 'housekeeping', 'houseman', 'housing', 'hp', 'hpc', 'hplc', 'hr', 'hrazdan', 'hrci', 'hrm', 'html', 'hub', 'human', 'humanitarian', 'hunan', 'hvac', 'hw', 'hydraulic', 'hydro', 'hydrobiologist', 'hydrologist', 'hygiene', 'iatp', 'ibt', 'ic', 'ict', 'icwb', 'id', 'identical', 'identification', 'iec', 'ielts', 'ifi', 'ifrs', 'ihl', 'ii', 'iii', 'ijevan', 'illustrator', 'image', 'imaging', 'immigrant', 'immigration', 'immunization', 'impact', 'implementation', 'implementer', 'import', 'important', 'improved', 'improvement', 'improving', 'income', 'incoming', 'incorporation', 'increasing', 'independent', 'indexer', 'indicator', 'indirect', 'individual', 'industrial', 'industry', 'informatica', 'informatics', 'information', 'informational', 'infrastructure', 'initiative', 'inl', 'innovation', 'innovative', 'input', 'inspection', 'inspector', 'inspectorate', 'installation', 'installer', 'institute', 'institution', 'institutional', 'instructional', 'instructor', 'instrument', 'instrumentation', 'instumintation', 'insurance', 'integrated', 'integration', 'integrity', 'inteligence', 'intelligence', 'intensive', 'intensivist', 'interaction', 'interconnect', 'interconnection', 'intercultural', 'interface', 'interior', 'intermediate', 'intermediation', 'intern', 'internal', 'international', 'internatioonal', 'internet', 'internship', 'interpreter', 'intervention', 'interview', 'interviewer', 'introducing', 'introduction', 'inventory', 'investigating', 'investigative', 'investment', 'investor', 'invitro', 'invoicing', 'involvement', 'involver', 'involving', 'io', 'ip', 'ipad', 'iphone', 'iqa', 'irm', 'irregular', 'irrigation', 'isp', 'isr', 'issuance', 'issue', 'issuing', 'italian', 'iwrm', 'java', 'javascript', 'jee', 'jeweler', 'jeweller', 'jewellery', 'jewelry', 'jfdp', 'job', 'journal', 'journalism', 'journalist', 'judicial', 'judiciary', 'juice', 'junior', 'justice', 'kad', 'kajaran', 'kam', 'kamo', 'kapan', 'karabakh', 'keeper', 'keeping', 'kernel', 'key', 'kid', 'kindergarten', 'kitchen', 'knowledge', 'komitas', 'korean', 'kotayk', 'kotayq', 'kpi', 'kumayri', 'kurdish', 'kurt', 'lab', 'label', 'labor', 'laboratory', 'labour', 'labview', 'lamp', 'lan', 'land', 'landmine', 'landscape', 'landscaper', 'language', 'languagetranslator', 'large', 'laser', 'latin', 'laundering', 'laundry', 'law', 'lawer', 'lawyer', 'layer', 'layout', 'lcf', 'lcs', 'lead', 'leader', 'leadership', 'leading', 'learned', 'learner', 'learning', 'leasing', 'leather', 'lecture', 'lecturer', 'led', 'leed', 'legal', 'legislation', 'legislative', 'lending', 'lesson', 'level', 'lfp', 'lg', 'lgbt', 'liability', 'liaison', 'librarian', 'library', 'licensed', 'life', 'lighting', 'limit', 'limitation', 'line', 'linguist', 'linguistic', 'link', 'linkage', 'linux', 'lionbridge', 'liquidity', 'list', 'literacy', 'litigation', 'livelihood', 'loader', 'loan', 'lobby', 'local', 'locksmith', 'logic', 'logistic', 'logistician', 'logistics', 'lori', 'loss', 'lot', 'low', 'loyalty', 'lycos', 'maac', 'mab', 'machine', 'machinery', 'macintosh', 'macroeconomic', 'macroeconomics', 'macroeconomist', 'macrophytes', 'made', 'magento', 'mail', 'main', 'mainstreaming', 'maintaining', 'maintenance', 'make', 'maker', 'making', 'malatia', 'mall', 'man', 'management', 'manager', 'managerial', 'managing', 'managment', 'mangaer', 'manger', 'manual', 'manufacture', 'manufacturing', 'mapping', 'marag', 'market', 'marketer', 'marketing', 'marketologist', 'marketplace', 'martuni', 'marz', 'marzes', 'masis', 'mass', 'master', 'material', 'materiological', 'maternal', 'maternity', 'math', 'mathematician', 'mathematics', 'max', 'mba', 'mbbg', 'mca', 'mch', 'mdgr', 'mdr', 'measure', 'meat', 'mechanic', 'mechanical', 'mechanism', 'mechanist', 'mediaplanning', 'medical', 'medicine', 'medium', 'meeting', 'meghri', 'meh', 'member', 'membership', 'memory', 'mental', 'mentor', 'merchandise', 'merchandiser', 'merchandising', 'merchandize', 'merchandizing', 'merchant', 'merger', 'messaging', 'messenger', 'meter', 'method', 'methodological', 'methodologist', 'methodology', 'metric', 'metsamor', 'mfc', 'mi', 'mic', 'micro', 'microbiologist', 'microeconomic', 'microfinance', 'microlending', 'microloan', 'microsoft', 'mid', 'midwife', 'migrant', 'migration', 'mild', 'mill', 'millennium', 'mine', 'miner', 'mining', 'minister', 'ministry', 'minority', 'mission', 'mitigation', 'mmeghri', 'mmt', 'mobile', 'mobilization', 'mobilizer', 'mobilizing', 'model', 'modeler', 'modeling', 'modeller', 'modelling', 'modelmaker', 'moderator', 'modern', 'modified', 'module', 'moes', 'monetary', 'money', 'monitor', 'monitoring', 'mortgage', 'moscow', 'moskovyan', 'motion', 'mountainous', 'mounted', 'mounter', 'mp', 'mri', 'mse', 'msf', 'msme', 'multimedia', 'multisectoral', 'municipal', 'museum', 'music', 'mutual', 'mvc', 'mysql', 'mystery', 'na', 'nac', 'nagorno', 'nan', 'nanny', 'nanometer', 'nation', 'national', 'nationality', 'native', 'natural', 'nature', 'nav', 'ncd', 'ncvetd', 'near', 'negotiation', 'negotiatior', 'negotiator', 'net', 'netherlands', 'network', 'networking', 'new', 'news', 'newscast', 'newsfeed', 'newsletter', 'newsroom', 'newswriter', 'ngo', 'ni', 'night', 'nima', 'nob', 'noc', 'noise', 'non', 'nork', 'normative', 'north', 'notary', 'note', 'notice', 'nova', 'noyemberyan', 'np', 'npc', 'npl', 'npo', 'nuclear', 'numerator', 'nurse', 'nursery', 'nushikyan', 'nutrition', 'objective', 'observer', 'obtain', 'occupational', 'ocd', 'od', 'offer', 'office', 'officer', 'official', 'offier', 'oil', 'ojsc', 'olympiad', 'ombudsman', 'oncologist', 'online', 'oop', 'open', 'opengl', 'operating', 'operation', 'operational', 'operative', 'operator', 'opportunity', 'ops', 'optic', 'optical', 'optimization', 'optimum', 'option', 'oracle', 'orchard', 'order', 'ordinary', 'ordinator', 'organic', 'organisational', 'organization', 'organizational', 'organizer', 'oriented', 'os', 'osh', 'otc', 'outdoor', 'outgoing', 'outreach', 'outreacher', 'outsourcearmenia', 'outsourcing', 'overcoming', 'oversight', 'owner', 'pa', 'packet', 'paediatric', 'page', 'pagemaker', 'paid', 'painter', 'panel', 'paper', 'paralegal', 'parliamentary', 'part', 'participation', 'participatory', 'partner', 'partnership', 'party', 'passive', 'pastry', 'patent', 'patient', 'patrol', 'pay', 'payable', 'payment', 'payroll', 'pb', 'pbx', 'pc', 'pcb', 'pcu', 'pd', 'peace', 'peacebuilding', 'peacemaker', 'pedagogic', 'pedagogical', 'pedagogue', 'pediatric', 'peer', 'penetration', 'penitentiary', 'pension', 'performance', 'performing', 'perfume', 'perl', 'permit', 'persian', 'person', 'personal', 'personnel', 'perspective', 'peugeot', 'pfm', 'pfp', 'pfs', 'pharmaceutical', 'pharmacist', 'pharmacologist', 'pharmacovigilance', 'pharmacy', 'phd', 'philanthropy', 'philately', 'phlebotomist', 'phone', 'photo', 'photographer', 'photojournalism', 'photoshop', 'php', 'physical', 'physician', 'physicist', 'phytobenthos', 'phytoplankton', 'pia', 'pilate', 'pilot', 'piu', 'pl', 'place', 'plan', 'planner', 'planning', 'plant', 'planted', 'plastic', 'platform', 'playground', 'plc', 'pledge', 'plus', 'pm', 'pmdi', 'pmo', 'pmu', 'po', 'point', 'policy', 'poligrapher', 'political', 'politics', 'pollution', 'polymer', 'polyvalent', 'pool', 'poor', 'portal', 'portfolio', 'position', 'possessing', 'post', 'postal', 'postbank', 'postbanking', 'postman', 'postpaid', 'potential', 'poverty', 'power', 'ppc', 'ppp', 'pr', 'practical', 'practice', 'practicing', 'practitioner', 'pre', 'precision', 'preliminary', 'premium', 'preparation', 'preparator', 'preparatory', 'preparedness', 'presales', 'preschool', 'preseller', 'presentation', 'president', 'press', 'preventable', 'prevention', 'prfessional', 'pricing', 'primary', 'prime', 'principal', 'principle', 'print', 'printed', 'printer', 'printing', 'prip', 'priu', 'private', 'privatization', 'privileged', 'prize', 'proactive', 'problem', 'proccesing', 'procedural', 'procedure', 'process', 'processing', 'processor', 'procredit', 'procurement', 'producer', 'product', 'production', 'productivity', 'professional', 'professor', 'profile', 'profit', 'progam', 'prognoss', 'program', 'programe', 'programmatic', 'programme', 'programmer', 'programming', 'progress', 'project', 'projection', 'projectionist', 'promoter', 'promoting', 'promotion', 'property', 'proposal', 'prosperity', 'protected', 'protecting', 'protection', 'protocol', 'provider', 'providing', 'provision', 'psd', 'psr', 'pssr', 'psychologist', 'psychosocial', 'pt', 'pub', 'public', 'publicity', 'publishing', 'pump', 'puppet', 'purchase', 'purchasing', 'python', 'qa', 'qc', 'qe', 'qt', 'qualification', 'qualified', 'qualitative', 'quality', 'quantitative', 'quantity', 'quarry', 'quarterly', 'questionnaire', 'ra', 'radio', 'radiologist', 'radiotechnology', 'rail', 'raising', 'rapid', 'rate', 'rating', 'raw', 'rbd', 'rbwm', 'rd', 'rdc', 'reader', 'readiness', 'ready', 'real', 'reality', 'realtor', 'reanimatology', 'rec', 'receivable', 'receivables', 'recent', 'reception', 'receptionist', 'recipient', 'record', 'recording', 'recourse', 'recovery', 'recruiter', 'recruitment', 'rector', 'redesign', 'reduced', 'reducing', 'reduction', 'reference', 'referendum', 'referent', 'reform', 'refrigeration', 'refugee', 'refurbish', 'region', 'regional', 'registrar', 'registration', 'registry', 'regoinal', 'regulating', 'regulation', 'regulator', 'regulatory', 'rehabilitation', 'related', 'relation', 'relationship', 'release', 'religion', 'remote', 'remuneration', 'rendering', 'renewable', 'rental', 'repair', 'replacement', 'replacing', 'replenishment', 'report', 'reporter', 'reporting', 'represenative', 'representation', 'representative', 'representing', 'reproductive', 'republic', 'request', 'required', 'research', 'researcher', 'reseller', 'reservation', 'resettlement', 'residence', 'resident', 'residential', 'resistant', 'resource', 'response', 'responsibility', 'responsible', 'restaurant', 'restoration', 'restructuring', 'result', 'retail', 'retailer', 'retention', 'returning', 'revenue', 'review', 'reviewing', 'revision', 'revival', 'rf', 'rff', 'rh', 'rhiycauc', 'ria', 'right', 'rim', 'risk', 'river', 'rmd', 'road', 'roaming', 'robotics', 'rockstar', 'role', 'room', 'ropeway', 'route', 'rsd', 'rta', 'rtl', 'ru', 'ruby', 'rule', 'running', 'rural', 'russia', 'russian', 'rx', 'sa', 'safeguard', 'safety', 'salary', 'sale', 'salesman', 'salesperson', 'saleswoman', 'salon', 'sample', 'sampling', 'sandoz', 'sanitary', 'sanitation', 'sanoshops', 'sap', 'sayat', 'scada', 'scale', 'scheduling', 'schematic', 'scheme', 'school', 'schork', 'scibm', 'science', 'scientific', 'scientist', 'scm', 'scoring', 'scr', 'scram', 'scratch', 'screening', 'scripting', 'scriptwriter', 'scrum', 'search', 'second', 'secondary', 'secretarial', 'secretariat', 'secretary', 'section', 'sector', 'security', 'seed', 'seg', 'segment', 'self', 'seller', 'selling', 'sem', 'seminar', 'senior', 'seo', 'server', 'service', 'servicing', 'session', 'set', 'setting', 'settlement', 'setup', 'sevan', 'several', 'sewerage', 'sex', 'sfo', 'sg', 'share', 'sharepoint', 'sharing', 'shed', 'shelter', 'shen', 'shengavit', 'shift', 'shipping', 'shirak', 'shock', 'shoe', 'shop', 'shopper', 'shopping', 'short', 'shot', 'show', 'showroom', 'side', 'sign', 'signal', 'silicon', 'silverlight', 'simultaneous', 'sio', 'sip', 'sisian', 'site', 'sixt', 'skid', 'skill', 'sm', 'small', 'smart', 'smb', 'sme', 'smm', 'sncos', 'social', 'socialization', 'society', 'sociological', 'sociologist', 'sociology', 'softphone', 'software', 'soho', 'soil', 'solaris', 'solution', 'sorting', 'sou', 'sound', 'source', 'south', 'southern', 'sox', 'spa', 'spanish', 'spare', 'spcp', 'speaker', 'speaking', 'special', 'specialist', 'specialty', 'specification', 'specilalist', 'speech', 'spesialist', 'sphere', 'spitak', 'sponsorship', 'sport', 'sposnsorship', 'spring', 'sqa', 'sql', 'sr', 'srecialist', 'srh', 'srsg', 'srtuctural', 'stability', 'stack', 'staff', 'staffer', 'staffing', 'standard', 'standardization', 'standing', 'startegies', 'starting', 'startup', 'state', 'statement', 'static', 'station', 'statistic', 'statistical', 'statistician', 'stay', 'stc', 'steer', 'step', 'stepanakert', 'stepanavan', 'steward', 'stewardess', 'stg', 'stock', 'stockman', 'stone', 'storage', 'store', 'storekeeper', 'storeman', 'storeroom', 'story', 'strand', 'strategic', 'strategist', 'strategy', 'strength', 'strengthen', 'strengthening', 'structural', 'structure', 'structuring', 'stt', 'stta', 'student', 'studio', 'study', 'sub', 'subcomponent', 'subdivision', 'submicron', 'submitting', 'subproject', 'subscribtion', 'subscription', 'subsystem', 'suitably', 'summer', 'summit', 'sun', 'superintendent', 'supermarket', 'superviser', 'supervision', 'supervisor', 'supplement', 'supplementary', 'supplied', 'supplier', 'supply', 'support', 'supporter', 'supporting', 'surface', 'surveillance', 'survey', 'surveyor', 'sustainability', 'sustainable', 'sw', 'swatch', 'swedish', 'swift', 'switching', 'symbian', 'symposium', 'synthesis', 'syrian', 'sysadmin', 'system', 'sysytems', 'syunik', 'ta', 'tactic', 'taiex', 'talent', 'talin', 'targeted', 'tariff', 'task', 'tavush', 'tax', 'taxation', 'taxpayer', 'tb', 'tbd', 'tc', 'tchambarak', 'tdf', 'teacher', 'teaching', 'team', 'tech', 'techincal', 'technic', 'technical', 'technician', 'technics', 'technological', 'technologist', 'technology', 'technopark', 'tecnical', 'teenager', 'tefl', 'telecom', 'telecommunication', 'telemarketer', 'telephone', 'telephony', 'telesales', 'teller', 'temporary', 'tender', 'term', 'terminal', 'territorial', 'territory', 'terrorism', 'test', 'tester', 'testing', 'textile', 'texture', 'th', 'theatre', 'theory', 'therapist', 'thinking', 'thought', 'threat', 'ticket', 'ticketing', 'time', 'tims', 'tire', 'tirm', 'title', 'toefl', 'tolerance', 'tool', 'top', 'topographer', 'toshiba', 'tour', 'tourism', 'tournament', 'toward', 'tower', 'trace', 'tracing', 'track', 'tracking', 'trade', 'trader', 'trading', 'traffic', 'trafficking', 'trainee', 'traineeship', 'trainer', 'training', 'transaction', 'transactional', 'transactons', 'transboundary', 'transfer', 'transformation', 'transformational', 'transition', 'translation', 'translator', 'transmission', 'transparency', 'transport', 'transportation', 'travel', 'trdp', 'treasurer', 'treasury', 'trial', 'troika', 'troubleshooting', 'truck', 'trust', 'trustee', 'truthing', 'tsaghkahovit', 'tsapatagh', 'tse', 'tshambarak', 'tuberculosis', 'tumo', 'turkish', 'turpanjian', 'tutor', 'tv', 'twe', 'twinning', 'two', 'type', 'ubuntu', 'uco', 'ugrad', 'ui', 'ultrasound', 'un', 'unct', 'undaf', 'undergraduate', 'underground', 'underwriter', 'underwriting', 'undp', 'unicef', 'unified', 'union', 'unit', 'united', 'university', 'unix', 'unrc', 'unv', 'update', 'upgrading', 'uplistsikhe', 'upper', 'urban', 'usa', 'usarmenia', 'use', 'used', 'user', 'usg', 'usgaap', 'utility', 'utopian', 'uv', 'ux', 'va', 'vacancy', 'vaccine', 'vacuum', 'validation', 'valuation', 'value', 'valuer', 'van', 'vanadzor', 'vardenis', 'variation', 'vayk', 'vayots', 'vb', 'vba', 'vbscript', 'vct', 'vedi', 'vegetable', 'vehicle', 'ventilation', 'verification', 'veterinarian', 'veterinary', 'vhdl', 'vibration', 'vice', 'video', 'viewbook', 'village', 'violin', 'vip', 'virage', 'virtual', 'visa', 'visibility', 'vision', 'visit', 'visitarm', 'visitor', 'visual', 'visualizer', 'vizualizator', 'vlac', 'vlsi', 'vmd', 'vocational', 'voice', 'voip', 'voltage', 'voluntary', 'volunteer', 'volunteering', 'voter', 'vpn', 'vsa', 'vsr', 'vulnerability', 'waiter', 'waitress', 'warehouse', 'warehouseman', 'warranty', 'wash', 'wastewater', 'watchdog', 'watchmaker', 'watchman', 'water', 'watershed', 'wathab', 'wb', 'wealth', 'web', 'webmaster', 'website', 'welcome', 'welding', 'welfare', 'wholesale', 'window', 'winemaker', 'wink', 'winning', 'wireless', 'within', 'wms', 'woman', 'wood', 'wordpress', 'work', 'worker', 'workforce', 'working', 'workplace', 'workplan', 'workshop', 'world', 'worthiness', 'wostayn', 'wpf', 'write', 'writer', 'writing', 'written', 'wsa', 'wtm', 'wto', 'ya', 'year', 'yearly', 'yeghegnadzor', 'yeravan', 'yerevan', 'yexvard', 'yield', 'yoga', 'young', 'youth', 'zang', 'zend', 'zonal', 'zone', 'zooplankton', 'zvartnots']\n"
     ]
    }
   ],
   "source": [
    "print(count_vect.get_feature_names())"
   ]
  },
  {
   "cell_type": "code",
   "execution_count": 32,
   "metadata": {},
   "outputs": [
    {
     "name": "stdout",
     "output_type": "stream",
     "text": [
      "Total number of tokens/words in all the job titles -  2542\n"
     ]
    }
   ],
   "source": [
    "print('Total number of tokens/words in all the job titles - ', len(count_vect.get_feature_names()))"
   ]
  },
  {
   "cell_type": "code",
   "execution_count": 33,
   "metadata": {},
   "outputs": [
    {
     "data": {
      "text/html": [
       "<div>\n",
       "<style scoped>\n",
       "    .dataframe tbody tr th:only-of-type {\n",
       "        vertical-align: middle;\n",
       "    }\n",
       "\n",
       "    .dataframe tbody tr th {\n",
       "        vertical-align: top;\n",
       "    }\n",
       "\n",
       "    .dataframe thead th {\n",
       "        text-align: right;\n",
       "    }\n",
       "</style>\n",
       "<table border=\"1\" class=\"dataframe\">\n",
       "  <thead>\n",
       "    <tr style=\"text-align: right;\">\n",
       "      <th></th>\n",
       "      <th>aacas</th>\n",
       "      <th>abap</th>\n",
       "      <th>abatement</th>\n",
       "      <th>abattoir</th>\n",
       "      <th>abkhazia</th>\n",
       "      <th>abovyan</th>\n",
       "      <th>abuse</th>\n",
       "      <th>academy</th>\n",
       "      <th>acca</th>\n",
       "      <th>access</th>\n",
       "      <th>...</th>\n",
       "      <th>yield</th>\n",
       "      <th>yoga</th>\n",
       "      <th>young</th>\n",
       "      <th>youth</th>\n",
       "      <th>zang</th>\n",
       "      <th>zend</th>\n",
       "      <th>zonal</th>\n",
       "      <th>zone</th>\n",
       "      <th>zooplankton</th>\n",
       "      <th>zvartnots</th>\n",
       "    </tr>\n",
       "  </thead>\n",
       "  <tbody>\n",
       "    <tr>\n",
       "      <th>18887</th>\n",
       "      <td>0</td>\n",
       "      <td>0</td>\n",
       "      <td>0</td>\n",
       "      <td>0</td>\n",
       "      <td>0</td>\n",
       "      <td>0</td>\n",
       "      <td>0</td>\n",
       "      <td>0</td>\n",
       "      <td>0</td>\n",
       "      <td>0</td>\n",
       "      <td>...</td>\n",
       "      <td>0</td>\n",
       "      <td>0</td>\n",
       "      <td>0</td>\n",
       "      <td>0</td>\n",
       "      <td>0</td>\n",
       "      <td>0</td>\n",
       "      <td>0</td>\n",
       "      <td>0</td>\n",
       "      <td>0</td>\n",
       "      <td>0</td>\n",
       "    </tr>\n",
       "    <tr>\n",
       "      <th>18888</th>\n",
       "      <td>0</td>\n",
       "      <td>0</td>\n",
       "      <td>0</td>\n",
       "      <td>0</td>\n",
       "      <td>0</td>\n",
       "      <td>0</td>\n",
       "      <td>0</td>\n",
       "      <td>0</td>\n",
       "      <td>0</td>\n",
       "      <td>0</td>\n",
       "      <td>...</td>\n",
       "      <td>0</td>\n",
       "      <td>0</td>\n",
       "      <td>0</td>\n",
       "      <td>0</td>\n",
       "      <td>0</td>\n",
       "      <td>0</td>\n",
       "      <td>0</td>\n",
       "      <td>0</td>\n",
       "      <td>0</td>\n",
       "      <td>0</td>\n",
       "    </tr>\n",
       "    <tr>\n",
       "      <th>18889</th>\n",
       "      <td>0</td>\n",
       "      <td>0</td>\n",
       "      <td>0</td>\n",
       "      <td>0</td>\n",
       "      <td>0</td>\n",
       "      <td>0</td>\n",
       "      <td>0</td>\n",
       "      <td>0</td>\n",
       "      <td>0</td>\n",
       "      <td>0</td>\n",
       "      <td>...</td>\n",
       "      <td>0</td>\n",
       "      <td>0</td>\n",
       "      <td>0</td>\n",
       "      <td>0</td>\n",
       "      <td>0</td>\n",
       "      <td>0</td>\n",
       "      <td>0</td>\n",
       "      <td>0</td>\n",
       "      <td>0</td>\n",
       "      <td>0</td>\n",
       "    </tr>\n",
       "    <tr>\n",
       "      <th>18890</th>\n",
       "      <td>0</td>\n",
       "      <td>0</td>\n",
       "      <td>0</td>\n",
       "      <td>0</td>\n",
       "      <td>0</td>\n",
       "      <td>0</td>\n",
       "      <td>0</td>\n",
       "      <td>0</td>\n",
       "      <td>0</td>\n",
       "      <td>0</td>\n",
       "      <td>...</td>\n",
       "      <td>0</td>\n",
       "      <td>0</td>\n",
       "      <td>0</td>\n",
       "      <td>0</td>\n",
       "      <td>0</td>\n",
       "      <td>0</td>\n",
       "      <td>0</td>\n",
       "      <td>0</td>\n",
       "      <td>0</td>\n",
       "      <td>0</td>\n",
       "    </tr>\n",
       "    <tr>\n",
       "      <th>18891</th>\n",
       "      <td>0</td>\n",
       "      <td>0</td>\n",
       "      <td>0</td>\n",
       "      <td>0</td>\n",
       "      <td>0</td>\n",
       "      <td>0</td>\n",
       "      <td>0</td>\n",
       "      <td>0</td>\n",
       "      <td>0</td>\n",
       "      <td>0</td>\n",
       "      <td>...</td>\n",
       "      <td>0</td>\n",
       "      <td>0</td>\n",
       "      <td>0</td>\n",
       "      <td>0</td>\n",
       "      <td>0</td>\n",
       "      <td>0</td>\n",
       "      <td>0</td>\n",
       "      <td>0</td>\n",
       "      <td>0</td>\n",
       "      <td>0</td>\n",
       "    </tr>\n",
       "  </tbody>\n",
       "</table>\n",
       "<p>5 rows × 2542 columns</p>\n",
       "</div>"
      ],
      "text/plain": [
       "       aacas  abap  abatement  abattoir  abkhazia  abovyan  abuse  academy  \\\n",
       "18887      0     0          0         0         0        0      0        0   \n",
       "18888      0     0          0         0         0        0      0        0   \n",
       "18889      0     0          0         0         0        0      0        0   \n",
       "18890      0     0          0         0         0        0      0        0   \n",
       "18891      0     0          0         0         0        0      0        0   \n",
       "\n",
       "       acca  access  ...  yield  yoga  young  youth  zang  zend  zonal  zone  \\\n",
       "18887     0       0  ...      0     0      0      0     0     0      0     0   \n",
       "18888     0       0  ...      0     0      0      0     0     0      0     0   \n",
       "18889     0       0  ...      0     0      0      0     0     0      0     0   \n",
       "18890     0       0  ...      0     0      0      0     0     0      0     0   \n",
       "18891     0       0  ...      0     0      0      0     0     0      0     0   \n",
       "\n",
       "       zooplankton  zvartnots  \n",
       "18887            0          0  \n",
       "18888            0          0  \n",
       "18889            0          0  \n",
       "18890            0          0  \n",
       "18891            0          0  \n",
       "\n",
       "[5 rows x 2542 columns]"
      ]
     },
     "execution_count": 33,
     "metadata": {},
     "output_type": "execute_result"
    }
   ],
   "source": [
    "temp_df =  pd.DataFrame(token.toarray(), columns=count_vect.get_feature_names())\n",
    "temp_df.tail()"
   ]
  },
  {
   "cell_type": "code",
   "execution_count": 34,
   "metadata": {},
   "outputs": [],
   "source": [
    "#count the accurence of each token in entire corpus\n",
    "count_df = temp_df.apply(lambda x : x.sum())"
   ]
  },
  {
   "cell_type": "code",
   "execution_count": 35,
   "metadata": {},
   "outputs": [],
   "source": [
    "count_df = pd.DataFrame(count_df).reset_index()"
   ]
  },
  {
   "cell_type": "code",
   "execution_count": 36,
   "metadata": {},
   "outputs": [],
   "source": [
    "count_df.columns = ['Word', 'Count']"
   ]
  },
  {
   "cell_type": "code",
   "execution_count": 37,
   "metadata": {},
   "outputs": [
    {
     "name": "stderr",
     "output_type": "stream",
     "text": [
      "C:\\Users\\Yoga 500\\Anaconda3\\lib\\site-packages\\ipykernel_launcher.py:1: FutureWarning: by argument to sort_index is deprecated, please use .sort_values(by=...)\n",
      "  \"\"\"Entry point for launching an IPython kernel.\n"
     ]
    }
   ],
   "source": [
    "top_jobs = count_df.sort_index(by= 'Count', ascending=False)"
   ]
  },
  {
   "cell_type": "code",
   "execution_count": 38,
   "metadata": {},
   "outputs": [
    {
     "data": {
      "text/html": [
       "<div>\n",
       "<style scoped>\n",
       "    .dataframe tbody tr th:only-of-type {\n",
       "        vertical-align: middle;\n",
       "    }\n",
       "\n",
       "    .dataframe tbody tr th {\n",
       "        vertical-align: top;\n",
       "    }\n",
       "\n",
       "    .dataframe thead th {\n",
       "        text-align: right;\n",
       "    }\n",
       "</style>\n",
       "<table border=\"1\" class=\"dataframe\">\n",
       "  <thead>\n",
       "    <tr style=\"text-align: right;\">\n",
       "      <th></th>\n",
       "      <th>Word</th>\n",
       "      <th>Count</th>\n",
       "    </tr>\n",
       "  </thead>\n",
       "  <tbody>\n",
       "    <tr>\n",
       "      <th>1382</th>\n",
       "      <td>manager</td>\n",
       "      <td>2587</td>\n",
       "    </tr>\n",
       "    <tr>\n",
       "      <th>2134</th>\n",
       "      <td>specialist</td>\n",
       "      <td>2067</td>\n",
       "    </tr>\n",
       "    <tr>\n",
       "      <th>661</th>\n",
       "      <td>developer</td>\n",
       "      <td>1942</td>\n",
       "    </tr>\n",
       "    <tr>\n",
       "      <th>797</th>\n",
       "      <td>engineer</td>\n",
       "      <td>1601</td>\n",
       "    </tr>\n",
       "    <tr>\n",
       "      <th>2053</th>\n",
       "      <td>senior</td>\n",
       "      <td>1490</td>\n",
       "    </tr>\n",
       "    <tr>\n",
       "      <th>179</th>\n",
       "      <td>assistant</td>\n",
       "      <td>1234</td>\n",
       "    </tr>\n",
       "    <tr>\n",
       "      <th>2115</th>\n",
       "      <td>software</td>\n",
       "      <td>1099</td>\n",
       "    </tr>\n",
       "    <tr>\n",
       "      <th>2003</th>\n",
       "      <td>sale</td>\n",
       "      <td>855</td>\n",
       "    </tr>\n",
       "    <tr>\n",
       "      <th>14</th>\n",
       "      <td>accountant</td>\n",
       "      <td>779</td>\n",
       "    </tr>\n",
       "    <tr>\n",
       "      <th>649</th>\n",
       "      <td>department</td>\n",
       "      <td>742</td>\n",
       "    </tr>\n",
       "  </tbody>\n",
       "</table>\n",
       "</div>"
      ],
      "text/plain": [
       "            Word  Count\n",
       "1382     manager   2587\n",
       "2134  specialist   2067\n",
       "661    developer   1942\n",
       "797     engineer   1601\n",
       "2053      senior   1490\n",
       "179    assistant   1234\n",
       "2115    software   1099\n",
       "2003        sale    855\n",
       "14    accountant    779\n",
       "649   department    742"
      ]
     },
     "execution_count": 38,
     "metadata": {},
     "output_type": "execute_result"
    }
   ],
   "source": [
    "top_jobs[:10]"
   ]
  },
  {
   "cell_type": "code",
   "execution_count": 39,
   "metadata": {},
   "outputs": [
    {
     "data": {
      "image/png": "[encoded data removed]",
      "text/plain": [
       "<Figure size 576x576 with 1 Axes>"
      ]
     },
     "metadata": {
      "needs_background": "light"
     },
     "output_type": "display_data"
    }
   ],
   "source": [
    "# plot the WordCloud image to show top 50 type of demanding jobs in armenia     \n",
    "wordcloud = WordCloud(width = 1000, height = 500).generate(' '.join(top_jobs[:50].Word))\n",
    "plt.figure(figsize = (8, 8), facecolor = None) \n",
    "plt.imshow(wordcloud) \n",
    "plt.axis(\"off\") \n",
    "plt.tight_layout(pad = 0) \n",
    "  \n",
    "plt.show()"
   ]
  },
  {
   "cell_type": "markdown",
   "metadata": {},
   "source": [
    "### Job Nature changing over time"
   ]
  },
  {
   "cell_type": "markdown",
   "metadata": {},
   "source": [
    "We can use dispersion plot to see how jobs change over time. To do this we need to get the important topics out of the jobpost and then plot their dispersion over time."
   ]
  },
  {
   "cell_type": "code",
   "execution_count": 40,
   "metadata": {},
   "outputs": [],
   "source": [
    "jobs['jobpost'] = jobs['jobpost'].astype('str')"
   ]
  },
  {
   "cell_type": "code",
   "execution_count": 41,
   "metadata": {},
   "outputs": [],
   "source": [
    "#UDF to do basic cleaning of title column to understand type of jobs\n",
    "def clean_data(text):\n",
    "    text = text.lower()  # convert all the text into lowercase\n",
    "    text = text.strip()  #remove starting and trailing whitespaces\n",
    "    #special_chars = re.compile('[@!#$%^&*()<>?/\\|}{~:;]')\n",
    "    #text = re.sub(special_chars,'', text)\n",
    "    special_char_reg = '([a-zA-Z0-9]+)' + '[!\"#$%&\\'()*+,-./:;<=>?@\\\\^_`{|}~]' + '([a-zA-Z0-9]+)'\n",
    "    text = re.sub(special_char_reg, ' ', text)\n",
    "    text = re.sub(r'\\s+', ' ', text) #remove all line formattings\n",
    "    text = re.sub(r'\\d+', '', text) #remove digits\n",
    "    text = ''.join(c for c in text if c not in string.punctuation)   #remove pecial symbols from job titles\n",
    "    return text"
   ]
  },
  {
   "cell_type": "code",
   "execution_count": 42,
   "metadata": {},
   "outputs": [
    {
     "data": {
      "text/plain": [
       "0    AMERIA Investment Consulting Company\\nJOB TITL...\n",
       "1    International Research & Exchanges Board (IREX...\n",
       "2    Caucasus Environmental NGO Network (CENN)\\nJOB...\n",
       "3    Manoff Group\\nJOB TITLE:  BCC Specialist\\nPOSI...\n",
       "4    Yerevan Brandy Company\\nJOB TITLE:  Software D...\n",
       "Name: jobpost, dtype: object"
      ]
     },
     "execution_count": 42,
     "metadata": {},
     "output_type": "execute_result"
    }
   ],
   "source": [
    "jobs.jobpost.head()"
   ]
  },
  {
   "cell_type": "code",
   "execution_count": 43,
   "metadata": {},
   "outputs": [],
   "source": [
    "jobpost_df = jobs.jobpost.apply(lambda x : clean_data(x))"
   ]
  },
  {
   "cell_type": "code",
   "execution_count": 44,
   "metadata": {},
   "outputs": [
    {
     "data": {
      "text/plain": [
       "0    ameria investment consulting company job title...\n",
       "1    international research  exchanges board irex t...\n",
       "2    caucasus environmental ngo network cenn job ti...\n",
       "3    manoff group job title bcc specialist position...\n",
       "4    yerevan brandy company job title software deve...\n",
       "5    boutique appollo job title saleswoman position...\n",
       "6    osi assistance foundation  armenian branch off...\n",
       "7    international research  exchanges board irex t...\n",
       "8    yerevan brandy company job title assistant to ...\n",
       "9    american embassy yerevan announcement number j...\n",
       "Name: jobpost, dtype: object"
      ]
     },
     "execution_count": 44,
     "metadata": {},
     "output_type": "execute_result"
    }
   ],
   "source": [
    "jobpost_df.head(10)"
   ]
  },
  {
   "cell_type": "code",
   "execution_count": 45,
   "metadata": {},
   "outputs": [],
   "source": [
    "##Lematization\n",
    "import spacy\n",
    "#neccesary to download the english model using \"python -m spacy download en\"\n",
    "#nlp = spacy.load('en_core_web_sm')\n",
    "lemmatized_out = []\n",
    "count = 0\n",
    "#for jobpost in jobpost_df:\n",
    "#    doc = nlp(jobpost)\n",
    "#    x = \" \".join(word.lemma_ for word in doc)\n",
    "#    print(count)\n",
    "#    count += 1\n",
    "#    lemmatized_out.append(x)"
   ]
  },
  {
   "cell_type": "code",
   "execution_count": 46,
   "metadata": {
    "scrolled": true
   },
   "outputs": [],
   "source": [
    "#lemmatized_out[0]"
   ]
  },
  {
   "cell_type": "code",
   "execution_count": 47,
   "metadata": {},
   "outputs": [],
   "source": [
    "#Stop words removal\n",
    "stop = nltk.corpus.stopwords.words('english')\n",
    "stop.extend(['armenian', 'armenia', 'job', 'title', 'position', 'location', 'responsibility', 'application',\n",
    "             'procedure', 'deadline', 'requirement','qualification', 'renumeration', 'salary', 'date', 'company', 'llc',\n",
    "             'person', 'employement', 'post', 'follow', 'resume', 'open', 'about', 'announcement', 'link', 'website',\n",
    "             'organization', 'duration'])"
   ]
  },
  {
   "cell_type": "code",
   "execution_count": 48,
   "metadata": {},
   "outputs": [],
   "source": [
    "#jobpost_df_0 = pd.Series(lemmatized_out)"
   ]
  },
  {
   "cell_type": "code",
   "execution_count": 49,
   "metadata": {},
   "outputs": [
    {
     "data": {
      "text/plain": [
       "0    ameria investment consulting company job title...\n",
       "1    international research  exchanges board irex t...\n",
       "2    caucasus environmental ngo network cenn job ti...\n",
       "3    manoff group job title bcc specialist position...\n",
       "4    yerevan brandy company job title software deve...\n",
       "5    boutique appollo job title saleswoman position...\n",
       "6    osi assistance foundation  armenian branch off...\n",
       "7    international research  exchanges board irex t...\n",
       "8    yerevan brandy company job title assistant to ...\n",
       "9    american embassy yerevan announcement number j...\n",
       "Name: jobpost, dtype: object"
      ]
     },
     "execution_count": 49,
     "metadata": {},
     "output_type": "execute_result"
    }
   ],
   "source": [
    "jobpost_df.head(10)"
   ]
  },
  {
   "cell_type": "code",
   "execution_count": 50,
   "metadata": {},
   "outputs": [],
   "source": [
    "jobpost_df_1 = jobpost_df.apply(lambda x : ' '.join(word for word in x.split() if word not in stop))"
   ]
  },
  {
   "cell_type": "code",
   "execution_count": 51,
   "metadata": {},
   "outputs": [
    {
     "data": {
      "text/plain": [
       "0    ameria investment consulting chief financial o...\n",
       "1    international research exchanges board irex co...\n",
       "2    caucasus environmental ngo network cenn countr...\n",
       "3    manoff group bcc specialist manila philippines...\n",
       "4    yerevan brandy software developer yerevan resp...\n",
       "5    boutique appollo saleswoman yerevan work hours...\n",
       "6    osi assistance foundation branch office chief ...\n",
       "7    international research exchanges board irex pa...\n",
       "8    yerevan brandy assistant managing director yer...\n",
       "9    american embassy yerevan number program assist...\n",
       "Name: jobpost, dtype: object"
      ]
     },
     "execution_count": 51,
     "metadata": {},
     "output_type": "execute_result"
    }
   ],
   "source": [
    "jobpost_df_1.head(10)"
   ]
  },
  {
   "cell_type": "code",
   "execution_count": 52,
   "metadata": {},
   "outputs": [
    {
     "data": {
      "text/plain": [
       "TfidfVectorizer(analyzer='word', binary=False, decode_error='strict',\n",
       "                dtype=<class 'numpy.float64'>, encoding='utf-8',\n",
       "                input='content', lowercase=True, max_df=0.95, max_features=None,\n",
       "                min_df=0.05, ngram_range=(1, 1), norm='l2', preprocessor=None,\n",
       "                smooth_idf=True, stop_words=None, strip_accents=None,\n",
       "                sublinear_tf=False, token_pattern='(?u)\\\\b\\\\w\\\\w+\\\\b',\n",
       "                tokenizer=None, use_idf=True, vocabulary=None)"
      ]
     },
     "execution_count": 52,
     "metadata": {},
     "output_type": "execute_result"
    }
   ],
   "source": [
    "#Now we will create tokens out of this processed data\n",
    "\n",
    "tfidf_vect = TfidfVectorizer(ngram_range=(1,1), min_df=0.05, max_df=0.95)\n",
    "tfidf_vect"
   ]
  },
  {
   "cell_type": "code",
   "execution_count": 53,
   "metadata": {},
   "outputs": [],
   "source": [
    "token_jobpost = tfidf_vect.fit_transform(jobpost_df_1)"
   ]
  },
  {
   "cell_type": "code",
   "execution_count": 54,
   "metadata": {
    "scrolled": true
   },
   "outputs": [],
   "source": [
    "vocab = tfidf_vect.get_feature_names()\n",
    "#print(vocab)"
   ]
  },
  {
   "cell_type": "code",
   "execution_count": 55,
   "metadata": {},
   "outputs": [
    {
     "data": {
      "text/plain": [
       "<18892x533 sparse matrix of type '<class 'numpy.float64'>'\n",
       "\twith 1465884 stored elements in Compressed Sparse Row format>"
      ]
     },
     "execution_count": 55,
     "metadata": {},
     "output_type": "execute_result"
    }
   ],
   "source": [
    "token_jobpost"
   ]
  },
  {
   "cell_type": "code",
   "execution_count": 56,
   "metadata": {},
   "outputs": [
    {
     "data": {
      "text/plain": [
       "533"
      ]
     },
     "execution_count": 56,
     "metadata": {},
     "output_type": "execute_result"
    }
   ],
   "source": [
    "len(tfidf_vect.get_feature_names())"
   ]
  },
  {
   "cell_type": "code",
   "execution_count": 57,
   "metadata": {},
   "outputs": [
    {
     "data": {
      "text/html": [
       "<div>\n",
       "<style scoped>\n",
       "    .dataframe tbody tr th:only-of-type {\n",
       "        vertical-align: middle;\n",
       "    }\n",
       "\n",
       "    .dataframe tbody tr th {\n",
       "        vertical-align: top;\n",
       "    }\n",
       "\n",
       "    .dataframe thead th {\n",
       "        text-align: right;\n",
       "    }\n",
       "</style>\n",
       "<table border=\"1\" class=\"dataframe\">\n",
       "  <thead>\n",
       "    <tr style=\"text-align: right;\">\n",
       "      <th></th>\n",
       "      <th>ability</th>\n",
       "      <th>access</th>\n",
       "      <th>accordance</th>\n",
       "      <th>according</th>\n",
       "      <th>accounting</th>\n",
       "      <th>accounts</th>\n",
       "      <th>accuracy</th>\n",
       "      <th>accurate</th>\n",
       "      <th>activities</th>\n",
       "      <th>activity</th>\n",
       "      <th>...</th>\n",
       "      <th>work</th>\n",
       "      <th>working</th>\n",
       "      <th>works</th>\n",
       "      <th>world</th>\n",
       "      <th>write</th>\n",
       "      <th>writing</th>\n",
       "      <th>written</th>\n",
       "      <th>year</th>\n",
       "      <th>years</th>\n",
       "      <th>yerevan</th>\n",
       "    </tr>\n",
       "  </thead>\n",
       "  <tbody>\n",
       "    <tr>\n",
       "      <th>0</th>\n",
       "      <td>0.044335</td>\n",
       "      <td>0.0</td>\n",
       "      <td>0.0</td>\n",
       "      <td>0.0</td>\n",
       "      <td>0.332841</td>\n",
       "      <td>0.0</td>\n",
       "      <td>0.0</td>\n",
       "      <td>0.0</td>\n",
       "      <td>0.065833</td>\n",
       "      <td>0.0</td>\n",
       "      <td>...</td>\n",
       "      <td>0.061415</td>\n",
       "      <td>0.000000</td>\n",
       "      <td>0.0</td>\n",
       "      <td>0.000000</td>\n",
       "      <td>0.0</td>\n",
       "      <td>0.029689</td>\n",
       "      <td>0.000000</td>\n",
       "      <td>0.0</td>\n",
       "      <td>0.015553</td>\n",
       "      <td>0.010359</td>\n",
       "    </tr>\n",
       "    <tr>\n",
       "      <th>1</th>\n",
       "      <td>0.040246</td>\n",
       "      <td>0.0</td>\n",
       "      <td>0.0</td>\n",
       "      <td>0.0</td>\n",
       "      <td>0.000000</td>\n",
       "      <td>0.0</td>\n",
       "      <td>0.0</td>\n",
       "      <td>0.0</td>\n",
       "      <td>0.000000</td>\n",
       "      <td>0.0</td>\n",
       "      <td>...</td>\n",
       "      <td>0.033451</td>\n",
       "      <td>0.000000</td>\n",
       "      <td>0.0</td>\n",
       "      <td>0.000000</td>\n",
       "      <td>0.0</td>\n",
       "      <td>0.000000</td>\n",
       "      <td>0.060026</td>\n",
       "      <td>0.0</td>\n",
       "      <td>0.000000</td>\n",
       "      <td>0.169271</td>\n",
       "    </tr>\n",
       "    <tr>\n",
       "      <th>2</th>\n",
       "      <td>0.000000</td>\n",
       "      <td>0.0</td>\n",
       "      <td>0.0</td>\n",
       "      <td>0.0</td>\n",
       "      <td>0.000000</td>\n",
       "      <td>0.0</td>\n",
       "      <td>0.0</td>\n",
       "      <td>0.0</td>\n",
       "      <td>0.000000</td>\n",
       "      <td>0.0</td>\n",
       "      <td>...</td>\n",
       "      <td>0.000000</td>\n",
       "      <td>0.136958</td>\n",
       "      <td>0.0</td>\n",
       "      <td>0.000000</td>\n",
       "      <td>0.0</td>\n",
       "      <td>0.000000</td>\n",
       "      <td>0.070316</td>\n",
       "      <td>0.0</td>\n",
       "      <td>0.049618</td>\n",
       "      <td>0.033048</td>\n",
       "    </tr>\n",
       "    <tr>\n",
       "      <th>3</th>\n",
       "      <td>0.000000</td>\n",
       "      <td>0.0</td>\n",
       "      <td>0.0</td>\n",
       "      <td>0.0</td>\n",
       "      <td>0.000000</td>\n",
       "      <td>0.0</td>\n",
       "      <td>0.0</td>\n",
       "      <td>0.0</td>\n",
       "      <td>0.065992</td>\n",
       "      <td>0.0</td>\n",
       "      <td>...</td>\n",
       "      <td>0.055407</td>\n",
       "      <td>0.096829</td>\n",
       "      <td>0.0</td>\n",
       "      <td>0.051248</td>\n",
       "      <td>0.0</td>\n",
       "      <td>0.000000</td>\n",
       "      <td>0.033142</td>\n",
       "      <td>0.0</td>\n",
       "      <td>0.023387</td>\n",
       "      <td>0.000000</td>\n",
       "    </tr>\n",
       "    <tr>\n",
       "      <th>4</th>\n",
       "      <td>0.000000</td>\n",
       "      <td>0.0</td>\n",
       "      <td>0.0</td>\n",
       "      <td>0.0</td>\n",
       "      <td>0.000000</td>\n",
       "      <td>0.0</td>\n",
       "      <td>0.0</td>\n",
       "      <td>0.0</td>\n",
       "      <td>0.099334</td>\n",
       "      <td>0.0</td>\n",
       "      <td>...</td>\n",
       "      <td>0.000000</td>\n",
       "      <td>0.000000</td>\n",
       "      <td>0.0</td>\n",
       "      <td>0.000000</td>\n",
       "      <td>0.0</td>\n",
       "      <td>0.000000</td>\n",
       "      <td>0.000000</td>\n",
       "      <td>0.0</td>\n",
       "      <td>0.070404</td>\n",
       "      <td>0.140677</td>\n",
       "    </tr>\n",
       "  </tbody>\n",
       "</table>\n",
       "<p>5 rows × 533 columns</p>\n",
       "</div>"
      ],
      "text/plain": [
       "    ability  access  accordance  according  accounting  accounts  accuracy  \\\n",
       "0  0.044335     0.0         0.0        0.0    0.332841       0.0       0.0   \n",
       "1  0.040246     0.0         0.0        0.0    0.000000       0.0       0.0   \n",
       "2  0.000000     0.0         0.0        0.0    0.000000       0.0       0.0   \n",
       "3  0.000000     0.0         0.0        0.0    0.000000       0.0       0.0   \n",
       "4  0.000000     0.0         0.0        0.0    0.000000       0.0       0.0   \n",
       "\n",
       "   accurate  activities  activity  ...      work   working  works     world  \\\n",
       "0       0.0    0.065833       0.0  ...  0.061415  0.000000    0.0  0.000000   \n",
       "1       0.0    0.000000       0.0  ...  0.033451  0.000000    0.0  0.000000   \n",
       "2       0.0    0.000000       0.0  ...  0.000000  0.136958    0.0  0.000000   \n",
       "3       0.0    0.065992       0.0  ...  0.055407  0.096829    0.0  0.051248   \n",
       "4       0.0    0.099334       0.0  ...  0.000000  0.000000    0.0  0.000000   \n",
       "\n",
       "   write   writing   written  year     years   yerevan  \n",
       "0    0.0  0.029689  0.000000   0.0  0.015553  0.010359  \n",
       "1    0.0  0.000000  0.060026   0.0  0.000000  0.169271  \n",
       "2    0.0  0.000000  0.070316   0.0  0.049618  0.033048  \n",
       "3    0.0  0.000000  0.033142   0.0  0.023387  0.000000  \n",
       "4    0.0  0.000000  0.000000   0.0  0.070404  0.140677  \n",
       "\n",
       "[5 rows x 533 columns]"
      ]
     },
     "execution_count": 57,
     "metadata": {},
     "output_type": "execute_result"
    }
   ],
   "source": [
    "token_df = pd.DataFrame(token_jobpost.toarray(), columns=tfidf_vect.get_feature_names())\n",
    "token_df.head()"
   ]
  },
  {
   "cell_type": "code",
   "execution_count": 58,
   "metadata": {},
   "outputs": [],
   "source": [
    "#Apply LDA technique to understand important job nature and profiles\n",
    "\n",
    "lda = decomposition.LatentDirichletAllocation(n_components = 5, learning_method = 'online', max_iter = 50, random_state = 3)\n",
    "lda.fit_transform(token_jobpost)\n",
    "topics = lda.components_"
   ]
  },
  {
   "cell_type": "code",
   "execution_count": 59,
   "metadata": {},
   "outputs": [
    {
     "data": {
      "text/plain": [
       "array([[1.64272158e+02, 4.71842064e+01, 4.38314204e+01, ...,\n",
       "        4.22495138e+01, 1.14032518e+02, 1.22129592e+02],\n",
       "       [2.99808960e+02, 1.74463516e+01, 3.27514835e+01, ...,\n",
       "        8.43070630e+01, 1.18471399e+02, 2.76357159e+02],\n",
       "       [2.04265525e-01, 5.02069511e+00, 2.02793341e-01, ...,\n",
       "        2.65319970e+01, 1.40533316e+01, 4.97503827e+01],\n",
       "       [2.59113454e+02, 2.61292632e+01, 2.60893749e+01, ...,\n",
       "        6.38980124e+01, 1.70319881e+02, 1.73197912e+02],\n",
       "       [1.53523477e+02, 1.11487603e+01, 5.08634977e+01, ...,\n",
       "        6.50884485e+01, 1.13779753e+02, 1.25471691e+02]])"
      ]
     },
     "execution_count": 59,
     "metadata": {},
     "output_type": "execute_result"
    }
   ],
   "source": [
    "topics"
   ]
  },
  {
   "cell_type": "code",
   "execution_count": 60,
   "metadata": {},
   "outputs": [
    {
     "data": {
      "text/plain": [
       "['project development program management international activities implementation experience support work',\n",
       " 'sales marketing skills knowledge work russian excellent candidates languages ability',\n",
       " 'form language english training following education study us contact attachments',\n",
       " 'software development design knowledge experience web developer technical team engineer',\n",
       " 'accounting bank financial credit knowledge finance banking cjsc legal skills']"
      ]
     },
     "execution_count": 60,
     "metadata": {},
     "output_type": "execute_result"
    }
   ],
   "source": [
    "# view the topic models for cluster 0\n",
    "n_top_words = 10\n",
    "topic_summaries = []\n",
    "for i, topic_dist in enumerate(topics):\n",
    "    topic_words = np.array(vocab)[np.argsort(topic_dist)][:-(n_top_words+1):-1]\n",
    "    topic_summaries.append(' '.join(topic_words))\n",
    "\n",
    "topic_summaries"
   ]
  },
  {
   "cell_type": "code",
   "execution_count": 61,
   "metadata": {},
   "outputs": [],
   "source": [
    "#vocab = []\n",
    "#def fn_token(post):\n",
    "#    list_temp = nltk.word_tokenize(post)\n",
    "#    vocab.extend(list_temp)\n",
    "\n",
    "#jobpost_df_1.apply(lambda x : fn_token(x))"
   ]
  },
  {
   "cell_type": "code",
   "execution_count": 62,
   "metadata": {
    "scrolled": false
   },
   "outputs": [],
   "source": [
    "#full_vocab = []\n",
    "#for word in  vocab:\n",
    "#        if word not in full_vocab:\n",
    "#            full_vocab.append(word)"
   ]
  },
  {
   "cell_type": "code",
   "execution_count": 63,
   "metadata": {},
   "outputs": [],
   "source": [
    "#print(full_vocab)"
   ]
  },
  {
   "cell_type": "code",
   "execution_count": 64,
   "metadata": {},
   "outputs": [
    {
     "name": "stdout",
     "output_type": "stream",
     "text": [
      "['project', 'development', 'program', 'management', 'international', 'activities', 'implementation', 'experience', 'support', 'work', 'sales', 'marketing', 'skills', 'knowledge', 'work', 'russian', 'excellent', 'candidates', 'languages', 'ability', 'form', 'language', 'english', 'training', 'following', 'education', 'study', 'us', 'contact', 'attachments', 'software', 'development', 'design', 'knowledge', 'experience', 'web', 'developer', 'technical', 'team', 'engineer', 'accounting', 'bank', 'financial', 'credit', 'knowledge', 'finance', 'banking', 'cjsc', 'legal', 'skills']\n"
     ]
    }
   ],
   "source": [
    "topic_words_tokens = []\n",
    "for topic in topic_summaries:\n",
    "    word_token = nltk.word_tokenize(topic)\n",
    "    topic_words_tokens.extend(word_token)\n",
    "print(topic_words_tokens)\n"
   ]
  },
  {
   "cell_type": "code",
   "execution_count": 66,
   "metadata": {},
   "outputs": [],
   "source": [
    "#use lexical dispersion plot to see the topics use over time\n",
    "#Start pylab inline mode, so figures will appear in the notebook\n",
    "#%pylab inline\n",
    "\n",
    "#from nltk.draw.dispersion import dispersion_plot\n",
    "\n",
    "#dispersion_plot(vocab, topic_words_tokens[:10])"
   ]
  },
  {
   "cell_type": "code",
   "execution_count": 65,
   "metadata": {},
   "outputs": [],
   "source": [
    "plot_df = pd.concat([jobpost_df_1, jobs.year], axis = 1)\n",
    "#plot_df = jobpost_df_2.apply(lambda x : fn() )"
   ]
  },
  {
   "cell_type": "code",
   "execution_count": 66,
   "metadata": {},
   "outputs": [
    {
     "data": {
      "text/plain": [
       "['project',\n",
       " 'development',\n",
       " 'program',\n",
       " 'management',\n",
       " 'international',\n",
       " 'activities',\n",
       " 'implementation',\n",
       " 'experience',\n",
       " 'support',\n",
       " 'work']"
      ]
     },
     "execution_count": 66,
     "metadata": {},
     "output_type": "execute_result"
    }
   ],
   "source": [
    "topic_words_tokens[:10]"
   ]
  },
  {
   "cell_type": "code",
   "execution_count": 69,
   "metadata": {},
   "outputs": [
    {
     "data": {
      "text/plain": [
       "('topic', '2018')"
      ]
     },
     "execution_count": 69,
     "metadata": {},
     "output_type": "execute_result"
    }
   ],
   "source": [
    "('topic', '2018')"
   ]
  },
  {
   "cell_type": "code",
   "execution_count": 67,
   "metadata": {
    "scrolled": true
   },
   "outputs": [],
   "source": [
    "nt = [(topic, year)  for year in plot_df.year  for topic in topic_words_tokens[0:9] ]"
   ]
  },
  {
   "cell_type": "code",
   "execution_count": 68,
   "metadata": {},
   "outputs": [],
   "source": [
    "cfd = nltk.ConditionalFreqDist(nt)"
   ]
  },
  {
   "cell_type": "code",
   "execution_count": null,
   "metadata": {},
   "outputs": [],
   "source": [
    "#conditional frequency distribution plot to see the use of topics over time\n",
    "cfd = nltk.ConditionalFreqDist(\n",
    "    (target, year)\n",
    "    for year in plot_df.year\n",
    "    for a in plot_df.jobpost\n",
    "    for w in nltk.word_tokenize(a)    \n",
    "    for target in topic_words_tokens[:10]\n",
    "    if w.lower().startswith(target))\n",
    "cfd.plot()\n",
    "\n",
    "#    for w in jobpost_df_1.words(year)"
   ]
  },
  {
   "cell_type": "markdown",
   "metadata": {},
   "source": [
    "## Desired characteristics and  Skill-sets\n",
    "To understand this we can make clusters using job description column of the data"
   ]
  },
  {
   "cell_type": "code",
   "execution_count": 69,
   "metadata": {},
   "outputs": [],
   "source": [
    "x = jobs[jobs.jobdescription.isna() == False]"
   ]
  },
  {
   "cell_type": "code",
   "execution_count": 70,
   "metadata": {},
   "outputs": [
    {
     "data": {
      "text/plain": [
       "(18892, 24)"
      ]
     },
     "execution_count": 70,
     "metadata": {},
     "output_type": "execute_result"
    }
   ],
   "source": [
    "jobs.shape"
   ]
  },
  {
   "cell_type": "code",
   "execution_count": 71,
   "metadata": {},
   "outputs": [
    {
     "data": {
      "text/plain": [
       "(15059, 24)"
      ]
     },
     "execution_count": 71,
     "metadata": {},
     "output_type": "execute_result"
    }
   ],
   "source": [
    "x.shape"
   ]
  },
  {
   "cell_type": "code",
   "execution_count": 72,
   "metadata": {
    "scrolled": true
   },
   "outputs": [
    {
     "data": {
      "text/html": [
       "<div>\n",
       "<style scoped>\n",
       "    .dataframe tbody tr th:only-of-type {\n",
       "        vertical-align: middle;\n",
       "    }\n",
       "\n",
       "    .dataframe tbody tr th {\n",
       "        vertical-align: top;\n",
       "    }\n",
       "\n",
       "    .dataframe thead th {\n",
       "        text-align: right;\n",
       "    }\n",
       "</style>\n",
       "<table border=\"1\" class=\"dataframe\">\n",
       "  <thead>\n",
       "    <tr style=\"text-align: right;\">\n",
       "      <th></th>\n",
       "      <th>jobpost</th>\n",
       "      <th>date</th>\n",
       "      <th>title</th>\n",
       "      <th>company</th>\n",
       "      <th>announcementcode</th>\n",
       "      <th>term</th>\n",
       "      <th>eligibility</th>\n",
       "      <th>audience</th>\n",
       "      <th>startdate</th>\n",
       "      <th>duration</th>\n",
       "      <th>...</th>\n",
       "      <th>salary</th>\n",
       "      <th>applicationp</th>\n",
       "      <th>openingdate</th>\n",
       "      <th>deadline</th>\n",
       "      <th>notes</th>\n",
       "      <th>aboutc</th>\n",
       "      <th>attach</th>\n",
       "      <th>year</th>\n",
       "      <th>month</th>\n",
       "      <th>it</th>\n",
       "    </tr>\n",
       "  </thead>\n",
       "  <tbody>\n",
       "    <tr>\n",
       "      <th>0</th>\n",
       "      <td>AMERIA Investment Consulting Company\\nJOB TITL...</td>\n",
       "      <td>Jan 5, 2004</td>\n",
       "      <td>Chief Financial Officer</td>\n",
       "      <td>AMERIA Investment Consulting Company</td>\n",
       "      <td>NaN</td>\n",
       "      <td>NaN</td>\n",
       "      <td>NaN</td>\n",
       "      <td>NaN</td>\n",
       "      <td>NaN</td>\n",
       "      <td>NaN</td>\n",
       "      <td>...</td>\n",
       "      <td>NaN</td>\n",
       "      <td>To apply for this position, please submit a\\nc...</td>\n",
       "      <td>NaN</td>\n",
       "      <td>26 January 2004</td>\n",
       "      <td>NaN</td>\n",
       "      <td>NaN</td>\n",
       "      <td>NaN</td>\n",
       "      <td>2004</td>\n",
       "      <td>1</td>\n",
       "      <td>False</td>\n",
       "    </tr>\n",
       "    <tr>\n",
       "      <th>2</th>\n",
       "      <td>Caucasus Environmental NGO Network (CENN)\\nJOB...</td>\n",
       "      <td>Jan 7, 2004</td>\n",
       "      <td>Country Coordinator</td>\n",
       "      <td>Caucasus Environmental NGO Network (CENN)</td>\n",
       "      <td>NaN</td>\n",
       "      <td>NaN</td>\n",
       "      <td>NaN</td>\n",
       "      <td>NaN</td>\n",
       "      <td>NaN</td>\n",
       "      <td>Renewable annual contract\\nPOSITION</td>\n",
       "      <td>...</td>\n",
       "      <td>NaN</td>\n",
       "      <td>Please send resume or CV toursula.kazarian@......</td>\n",
       "      <td>NaN</td>\n",
       "      <td>20 January 2004\\nSTART DATE:  February 2004</td>\n",
       "      <td>NaN</td>\n",
       "      <td>The Caucasus Environmental NGO Network is a\\nn...</td>\n",
       "      <td>NaN</td>\n",
       "      <td>2004</td>\n",
       "      <td>1</td>\n",
       "      <td>False</td>\n",
       "    </tr>\n",
       "    <tr>\n",
       "      <th>3</th>\n",
       "      <td>Manoff Group\\nJOB TITLE:  BCC Specialist\\nPOSI...</td>\n",
       "      <td>Jan 7, 2004</td>\n",
       "      <td>BCC Specialist</td>\n",
       "      <td>Manoff Group</td>\n",
       "      <td>NaN</td>\n",
       "      <td>NaN</td>\n",
       "      <td>NaN</td>\n",
       "      <td>NaN</td>\n",
       "      <td>NaN</td>\n",
       "      <td>NaN</td>\n",
       "      <td>...</td>\n",
       "      <td>NaN</td>\n",
       "      <td>Please send cover letter and resume to Amy\\nPe...</td>\n",
       "      <td>NaN</td>\n",
       "      <td>23 January 2004\\nSTART DATE:  Immediate</td>\n",
       "      <td>NaN</td>\n",
       "      <td>NaN</td>\n",
       "      <td>NaN</td>\n",
       "      <td>2004</td>\n",
       "      <td>1</td>\n",
       "      <td>False</td>\n",
       "    </tr>\n",
       "    <tr>\n",
       "      <th>5</th>\n",
       "      <td>Boutique \"Appollo\"\\nJOB TITLE:  Saleswoman\\nPO...</td>\n",
       "      <td>Jan 10, 2004</td>\n",
       "      <td>Saleswoman</td>\n",
       "      <td>Boutique \"Appollo\"</td>\n",
       "      <td>NaN</td>\n",
       "      <td>NaN</td>\n",
       "      <td>NaN</td>\n",
       "      <td>NaN</td>\n",
       "      <td>NaN</td>\n",
       "      <td>NaN</td>\n",
       "      <td>...</td>\n",
       "      <td>NaN</td>\n",
       "      <td>For further information, please contact Irina\\...</td>\n",
       "      <td>NaN</td>\n",
       "      <td>01 February 2004</td>\n",
       "      <td>NaN</td>\n",
       "      <td>NaN</td>\n",
       "      <td>NaN</td>\n",
       "      <td>2004</td>\n",
       "      <td>1</td>\n",
       "      <td>False</td>\n",
       "    </tr>\n",
       "    <tr>\n",
       "      <th>6</th>\n",
       "      <td>OSI Assistance Foundation - Armenian Branch Of...</td>\n",
       "      <td>Jan 11, 2004</td>\n",
       "      <td>Chief Accountant/ Finance Assistant</td>\n",
       "      <td>OSI Assistance Foundation - Armenian Branch Of...</td>\n",
       "      <td>NaN</td>\n",
       "      <td>NaN</td>\n",
       "      <td>NaN</td>\n",
       "      <td>NaN</td>\n",
       "      <td>NaN</td>\n",
       "      <td>NaN</td>\n",
       "      <td>...</td>\n",
       "      <td>NaN</td>\n",
       "      <td>For submission of applications/ CVs, please\\nc...</td>\n",
       "      <td>NaN</td>\n",
       "      <td>16 January 2004, 6:00 pm.</td>\n",
       "      <td>NaN</td>\n",
       "      <td>NaN</td>\n",
       "      <td>NaN</td>\n",
       "      <td>2004</td>\n",
       "      <td>1</td>\n",
       "      <td>False</td>\n",
       "    </tr>\n",
       "  </tbody>\n",
       "</table>\n",
       "<p>5 rows × 24 columns</p>\n",
       "</div>"
      ],
      "text/plain": [
       "                                             jobpost          date  \\\n",
       "0  AMERIA Investment Consulting Company\\nJOB TITL...   Jan 5, 2004   \n",
       "2  Caucasus Environmental NGO Network (CENN)\\nJOB...   Jan 7, 2004   \n",
       "3  Manoff Group\\nJOB TITLE:  BCC Specialist\\nPOSI...   Jan 7, 2004   \n",
       "5  Boutique \"Appollo\"\\nJOB TITLE:  Saleswoman\\nPO...  Jan 10, 2004   \n",
       "6  OSI Assistance Foundation - Armenian Branch Of...  Jan 11, 2004   \n",
       "\n",
       "                                 title  \\\n",
       "0              Chief Financial Officer   \n",
       "2                  Country Coordinator   \n",
       "3                       BCC Specialist   \n",
       "5                           Saleswoman   \n",
       "6  Chief Accountant/ Finance Assistant   \n",
       "\n",
       "                                             company announcementcode term  \\\n",
       "0               AMERIA Investment Consulting Company              NaN  NaN   \n",
       "2          Caucasus Environmental NGO Network (CENN)              NaN  NaN   \n",
       "3                                       Manoff Group              NaN  NaN   \n",
       "5                                 Boutique \"Appollo\"              NaN  NaN   \n",
       "6  OSI Assistance Foundation - Armenian Branch Of...              NaN  NaN   \n",
       "\n",
       "  eligibility audience startdate                             duration  ...  \\\n",
       "0         NaN      NaN       NaN                                  NaN  ...   \n",
       "2         NaN      NaN       NaN  Renewable annual contract\\nPOSITION  ...   \n",
       "3         NaN      NaN       NaN                                  NaN  ...   \n",
       "5         NaN      NaN       NaN                                  NaN  ...   \n",
       "6         NaN      NaN       NaN                                  NaN  ...   \n",
       "\n",
       "  salary                                       applicationp openingdate  \\\n",
       "0    NaN  To apply for this position, please submit a\\nc...         NaN   \n",
       "2    NaN  Please send resume or CV toursula.kazarian@......         NaN   \n",
       "3    NaN  Please send cover letter and resume to Amy\\nPe...         NaN   \n",
       "5    NaN  For further information, please contact Irina\\...         NaN   \n",
       "6    NaN  For submission of applications/ CVs, please\\nc...         NaN   \n",
       "\n",
       "                                      deadline notes  \\\n",
       "0                              26 January 2004   NaN   \n",
       "2  20 January 2004\\nSTART DATE:  February 2004   NaN   \n",
       "3      23 January 2004\\nSTART DATE:  Immediate   NaN   \n",
       "5                             01 February 2004   NaN   \n",
       "6                    16 January 2004, 6:00 pm.   NaN   \n",
       "\n",
       "                                              aboutc attach  year month     it  \n",
       "0                                                NaN    NaN  2004     1  False  \n",
       "2  The Caucasus Environmental NGO Network is a\\nn...    NaN  2004     1  False  \n",
       "3                                                NaN    NaN  2004     1  False  \n",
       "5                                                NaN    NaN  2004     1  False  \n",
       "6                                                NaN    NaN  2004     1  False  \n",
       "\n",
       "[5 rows x 24 columns]"
      ]
     },
     "execution_count": 72,
     "metadata": {},
     "output_type": "execute_result"
    }
   ],
   "source": [
    "x.head()"
   ]
  },
  {
   "cell_type": "markdown",
   "metadata": {},
   "source": [
    "#### Text pre-processing"
   ]
  },
  {
   "cell_type": "code",
   "execution_count": 73,
   "metadata": {},
   "outputs": [
    {
     "name": "stderr",
     "output_type": "stream",
     "text": [
      "C:\\Users\\Yoga 500\\Anaconda3\\lib\\site-packages\\ipykernel_launcher.py:1: SettingWithCopyWarning: \n",
      "A value is trying to be set on a copy of a slice from a DataFrame.\n",
      "Try using .loc[row_indexer,col_indexer] = value instead\n",
      "\n",
      "See the caveats in the documentation: http://pandas.pydata.org/pandas-docs/stable/indexing.html#indexing-view-versus-copy\n",
      "  \"\"\"Entry point for launching an IPython kernel.\n"
     ]
    }
   ],
   "source": [
    "x['jobdescription'] = x['jobdescription'].astype('str')"
   ]
  },
  {
   "cell_type": "code",
   "execution_count": 74,
   "metadata": {},
   "outputs": [
    {
     "data": {
      "text/plain": [
       "0    ameria investment consulting company is seekin...\n",
       "2    public outreach and strengthening of a growing...\n",
       "3    the lead local enhancement and development for...\n",
       "5        saleswoman will sell menswear and accessories\n",
       "6    the armenian branch office of the open society...\n",
       "Name: jobdescription, dtype: object"
      ]
     },
     "execution_count": 74,
     "metadata": {},
     "output_type": "execute_result"
    }
   ],
   "source": [
    "desc_df = x.jobdescription.apply(lambda x : clean_data(x))\n",
    "desc_df.head()"
   ]
  },
  {
   "cell_type": "code",
   "execution_count": 75,
   "metadata": {
    "scrolled": true
   },
   "outputs": [],
   "source": [
    "#LEmmatization\n",
    "desc_df_1 = desc_df.apply(lambda x : lemma(x))"
   ]
  },
  {
   "cell_type": "code",
   "execution_count": 76,
   "metadata": {},
   "outputs": [],
   "source": [
    "#lemmatized_out[0:6]"
   ]
  },
  {
   "cell_type": "code",
   "execution_count": 77,
   "metadata": {},
   "outputs": [],
   "source": [
    "#desc_df_0 = pd.Series(lemmatized_out)"
   ]
  },
  {
   "cell_type": "code",
   "execution_count": 78,
   "metadata": {},
   "outputs": [
    {
     "data": {
      "text/plain": [
       "0    ameria investment consulting company is seekin...\n",
       "2    public outreach and strengthening of a growing...\n",
       "3    the lead local enhancement and development for...\n",
       "5          saleswoman will sell menswear and accessory\n",
       "6    the armenian branch office of the open society...\n",
       "Name: jobdescription, dtype: object"
      ]
     },
     "execution_count": 78,
     "metadata": {},
     "output_type": "execute_result"
    }
   ],
   "source": [
    "desc_df_1.head()"
   ]
  },
  {
   "cell_type": "code",
   "execution_count": 79,
   "metadata": {},
   "outputs": [],
   "source": [
    "#stop word removal\n",
    "desc_df_1 = desc_df_1.apply(lambda x : ' '.join(x for x in x.split() if x not in stop))"
   ]
  },
  {
   "cell_type": "code",
   "execution_count": 80,
   "metadata": {},
   "outputs": [
    {
     "data": {
      "text/plain": [
       "0    ameria investment consulting seeking chief fin...\n",
       "2    public outreach strengthening growing network ...\n",
       "3    lead local enhancement development health bcc ...\n",
       "5                   saleswoman sell menswear accessory\n",
       "6    branch office society institute assistance fou...\n",
       "Name: jobdescription, dtype: object"
      ]
     },
     "execution_count": 80,
     "metadata": {},
     "output_type": "execute_result"
    }
   ],
   "source": [
    "desc_df_1.head()"
   ]
  },
  {
   "cell_type": "code",
   "execution_count": 81,
   "metadata": {
    "scrolled": true
   },
   "outputs": [],
   "source": [
    "#Tokenization\n",
    "tfidf_vect = TfidfVectorizer(ngram_range=(1,1), min_df = 0.05, max_df=0.95, stop_words='english')\n",
    "x_tdm = tfidf_vect.fit_transform(desc_df_1)\n",
    "#print(x_tdm)"
   ]
  },
  {
   "cell_type": "code",
   "execution_count": 82,
   "metadata": {},
   "outputs": [],
   "source": [
    "df_clust = pd.DataFrame(x_tdm.toarray(), columns=tfidf_vect.get_feature_names())"
   ]
  },
  {
   "cell_type": "code",
   "execution_count": 83,
   "metadata": {},
   "outputs": [
    {
     "data": {
      "text/html": [
       "<div>\n",
       "<style scoped>\n",
       "    .dataframe tbody tr th:only-of-type {\n",
       "        vertical-align: middle;\n",
       "    }\n",
       "\n",
       "    .dataframe tbody tr th {\n",
       "        vertical-align: top;\n",
       "    }\n",
       "\n",
       "    .dataframe thead th {\n",
       "        text-align: right;\n",
       "    }\n",
       "</style>\n",
       "<table border=\"1\" class=\"dataframe\">\n",
       "  <thead>\n",
       "    <tr style=\"text-align: right;\">\n",
       "      <th></th>\n",
       "      <th>activity</th>\n",
       "      <th>business</th>\n",
       "      <th>candidate</th>\n",
       "      <th>cjsc</th>\n",
       "      <th>customer</th>\n",
       "      <th>department</th>\n",
       "      <th>design</th>\n",
       "      <th>develop</th>\n",
       "      <th>developer</th>\n",
       "      <th>development</th>\n",
       "      <th>...</th>\n",
       "      <th>specialist</th>\n",
       "      <th>staff</th>\n",
       "      <th>supervision</th>\n",
       "      <th>support</th>\n",
       "      <th>team</th>\n",
       "      <th>technical</th>\n",
       "      <th>web</th>\n",
       "      <th>work</th>\n",
       "      <th>working</th>\n",
       "      <th>yerevan</th>\n",
       "    </tr>\n",
       "  </thead>\n",
       "  <tbody>\n",
       "    <tr>\n",
       "      <th>0</th>\n",
       "      <td>0.0</td>\n",
       "      <td>0.000000</td>\n",
       "      <td>0.0</td>\n",
       "      <td>0.0</td>\n",
       "      <td>0.0</td>\n",
       "      <td>0.0</td>\n",
       "      <td>0.0</td>\n",
       "      <td>0.0</td>\n",
       "      <td>0.0</td>\n",
       "      <td>0.000000</td>\n",
       "      <td>...</td>\n",
       "      <td>0.000000</td>\n",
       "      <td>0.257426</td>\n",
       "      <td>0.0</td>\n",
       "      <td>0.000000</td>\n",
       "      <td>0.0</td>\n",
       "      <td>0.246513</td>\n",
       "      <td>0.0</td>\n",
       "      <td>0.178471</td>\n",
       "      <td>0.000000</td>\n",
       "      <td>0.0</td>\n",
       "    </tr>\n",
       "    <tr>\n",
       "      <th>1</th>\n",
       "      <td>0.0</td>\n",
       "      <td>0.702718</td>\n",
       "      <td>0.0</td>\n",
       "      <td>0.0</td>\n",
       "      <td>0.0</td>\n",
       "      <td>0.0</td>\n",
       "      <td>0.0</td>\n",
       "      <td>0.0</td>\n",
       "      <td>0.0</td>\n",
       "      <td>0.000000</td>\n",
       "      <td>...</td>\n",
       "      <td>0.000000</td>\n",
       "      <td>0.000000</td>\n",
       "      <td>0.0</td>\n",
       "      <td>0.000000</td>\n",
       "      <td>0.0</td>\n",
       "      <td>0.000000</td>\n",
       "      <td>0.0</td>\n",
       "      <td>0.000000</td>\n",
       "      <td>0.000000</td>\n",
       "      <td>0.0</td>\n",
       "    </tr>\n",
       "    <tr>\n",
       "      <th>2</th>\n",
       "      <td>0.0</td>\n",
       "      <td>0.000000</td>\n",
       "      <td>0.0</td>\n",
       "      <td>0.0</td>\n",
       "      <td>0.0</td>\n",
       "      <td>0.0</td>\n",
       "      <td>0.0</td>\n",
       "      <td>0.0</td>\n",
       "      <td>0.0</td>\n",
       "      <td>0.116718</td>\n",
       "      <td>...</td>\n",
       "      <td>0.152405</td>\n",
       "      <td>0.352672</td>\n",
       "      <td>0.0</td>\n",
       "      <td>0.283144</td>\n",
       "      <td>0.0</td>\n",
       "      <td>0.000000</td>\n",
       "      <td>0.0</td>\n",
       "      <td>0.244504</td>\n",
       "      <td>0.343333</td>\n",
       "      <td>0.0</td>\n",
       "    </tr>\n",
       "    <tr>\n",
       "      <th>3</th>\n",
       "      <td>0.0</td>\n",
       "      <td>0.000000</td>\n",
       "      <td>0.0</td>\n",
       "      <td>0.0</td>\n",
       "      <td>0.0</td>\n",
       "      <td>0.0</td>\n",
       "      <td>0.0</td>\n",
       "      <td>0.0</td>\n",
       "      <td>0.0</td>\n",
       "      <td>0.000000</td>\n",
       "      <td>...</td>\n",
       "      <td>0.000000</td>\n",
       "      <td>0.000000</td>\n",
       "      <td>0.0</td>\n",
       "      <td>0.000000</td>\n",
       "      <td>0.0</td>\n",
       "      <td>0.000000</td>\n",
       "      <td>0.0</td>\n",
       "      <td>0.000000</td>\n",
       "      <td>0.000000</td>\n",
       "      <td>0.0</td>\n",
       "    </tr>\n",
       "    <tr>\n",
       "      <th>4</th>\n",
       "      <td>0.0</td>\n",
       "      <td>0.000000</td>\n",
       "      <td>0.0</td>\n",
       "      <td>0.0</td>\n",
       "      <td>0.0</td>\n",
       "      <td>0.0</td>\n",
       "      <td>0.0</td>\n",
       "      <td>0.0</td>\n",
       "      <td>0.0</td>\n",
       "      <td>0.000000</td>\n",
       "      <td>...</td>\n",
       "      <td>0.000000</td>\n",
       "      <td>0.000000</td>\n",
       "      <td>0.0</td>\n",
       "      <td>0.000000</td>\n",
       "      <td>0.0</td>\n",
       "      <td>0.000000</td>\n",
       "      <td>0.0</td>\n",
       "      <td>0.000000</td>\n",
       "      <td>0.000000</td>\n",
       "      <td>0.0</td>\n",
       "    </tr>\n",
       "  </tbody>\n",
       "</table>\n",
       "<p>5 rows × 51 columns</p>\n",
       "</div>"
      ],
      "text/plain": [
       "   activity  business  candidate  cjsc  customer  department  design  develop  \\\n",
       "0       0.0  0.000000        0.0   0.0       0.0         0.0     0.0      0.0   \n",
       "1       0.0  0.702718        0.0   0.0       0.0         0.0     0.0      0.0   \n",
       "2       0.0  0.000000        0.0   0.0       0.0         0.0     0.0      0.0   \n",
       "3       0.0  0.000000        0.0   0.0       0.0         0.0     0.0      0.0   \n",
       "4       0.0  0.000000        0.0   0.0       0.0         0.0     0.0      0.0   \n",
       "\n",
       "   developer  development  ...  specialist     staff  supervision   support  \\\n",
       "0        0.0     0.000000  ...    0.000000  0.257426          0.0  0.000000   \n",
       "1        0.0     0.000000  ...    0.000000  0.000000          0.0  0.000000   \n",
       "2        0.0     0.116718  ...    0.152405  0.352672          0.0  0.283144   \n",
       "3        0.0     0.000000  ...    0.000000  0.000000          0.0  0.000000   \n",
       "4        0.0     0.000000  ...    0.000000  0.000000          0.0  0.000000   \n",
       "\n",
       "   team  technical  web      work   working  yerevan  \n",
       "0   0.0   0.246513  0.0  0.178471  0.000000      0.0  \n",
       "1   0.0   0.000000  0.0  0.000000  0.000000      0.0  \n",
       "2   0.0   0.000000  0.0  0.244504  0.343333      0.0  \n",
       "3   0.0   0.000000  0.0  0.000000  0.000000      0.0  \n",
       "4   0.0   0.000000  0.0  0.000000  0.000000      0.0  \n",
       "\n",
       "[5 rows x 51 columns]"
      ]
     },
     "execution_count": 83,
     "metadata": {},
     "output_type": "execute_result"
    }
   ],
   "source": [
    "df_clust.head()"
   ]
  },
  {
   "cell_type": "markdown",
   "metadata": {},
   "source": [
    "### Clustering"
   ]
  },
  {
   "cell_type": "markdown",
   "metadata": {},
   "source": [
    "#### Dimension Reduction"
   ]
  },
  {
   "cell_type": "code",
   "execution_count": 84,
   "metadata": {},
   "outputs": [],
   "source": [
    "from sklearn.cluster import KMeans\n",
    "from sklearn import metrics"
   ]
  },
  {
   "cell_type": "code",
   "execution_count": 85,
   "metadata": {},
   "outputs": [],
   "source": [
    "\n",
    "model = KMeans(n_clusters=5, \n",
    "               init='k-means++', \n",
    "               max_iter=100, n_init=1,random_state=5)\n",
    "kmeans = model.fit(x_tdm)"
   ]
  },
  {
   "cell_type": "code",
   "execution_count": 86,
   "metadata": {},
   "outputs": [],
   "source": [
    "# we create a kmeans model\n",
    "km_3 = KMeans(n_clusters=3,init='k-means++', max_iter=100, n_init=1, random_state=5).fit(x_tdm)\n",
    "km_4 = KMeans(n_clusters=4,init='k-means++', max_iter=100, n_init=1, random_state=5).fit(x_tdm)\n",
    "km_5 = KMeans(n_clusters=5,init='k-means++', max_iter=100, n_init=1, random_state=5).fit(x_tdm)\n",
    "km_6 = KMeans(n_clusters=6,init='k-means++', max_iter=100, n_init=1, random_state=5).fit(x_tdm)\n",
    "km_7 = KMeans(n_clusters=7,init='k-means++', max_iter=100, n_init=1, random_state=5).fit(x_tdm)\n",
    "km_8 = KMeans(n_clusters=8,init='k-means++', max_iter=100, n_init=1, random_state=5).fit(x_tdm)\n",
    "km_9 = KMeans(n_clusters=9,init='k-means++', max_iter=100, n_init=1, random_state=5).fit(x_tdm)"
   ]
  },
  {
   "cell_type": "code",
   "execution_count": 87,
   "metadata": {},
   "outputs": [
    {
     "name": "stderr",
     "output_type": "stream",
     "text": [
      "C:\\Users\\Yoga 500\\Anaconda3\\lib\\site-packages\\ipykernel_launcher.py:2: SettingWithCopyWarning: \n",
      "A value is trying to be set on a copy of a slice from a DataFrame.\n",
      "Try using .loc[row_indexer,col_indexer] = value instead\n",
      "\n",
      "See the caveats in the documentation: http://pandas.pydata.org/pandas-docs/stable/indexing.html#indexing-view-versus-copy\n",
      "  \n",
      "C:\\Users\\Yoga 500\\Anaconda3\\lib\\site-packages\\ipykernel_launcher.py:3: SettingWithCopyWarning: \n",
      "A value is trying to be set on a copy of a slice from a DataFrame.\n",
      "Try using .loc[row_indexer,col_indexer] = value instead\n",
      "\n",
      "See the caveats in the documentation: http://pandas.pydata.org/pandas-docs/stable/indexing.html#indexing-view-versus-copy\n",
      "  This is separate from the ipykernel package so we can avoid doing imports until\n",
      "C:\\Users\\Yoga 500\\Anaconda3\\lib\\site-packages\\ipykernel_launcher.py:4: SettingWithCopyWarning: \n",
      "A value is trying to be set on a copy of a slice from a DataFrame.\n",
      "Try using .loc[row_indexer,col_indexer] = value instead\n",
      "\n",
      "See the caveats in the documentation: http://pandas.pydata.org/pandas-docs/stable/indexing.html#indexing-view-versus-copy\n",
      "  after removing the cwd from sys.path.\n",
      "C:\\Users\\Yoga 500\\Anaconda3\\lib\\site-packages\\ipykernel_launcher.py:5: SettingWithCopyWarning: \n",
      "A value is trying to be set on a copy of a slice from a DataFrame.\n",
      "Try using .loc[row_indexer,col_indexer] = value instead\n",
      "\n",
      "See the caveats in the documentation: http://pandas.pydata.org/pandas-docs/stable/indexing.html#indexing-view-versus-copy\n",
      "  \"\"\"\n",
      "C:\\Users\\Yoga 500\\Anaconda3\\lib\\site-packages\\ipykernel_launcher.py:6: SettingWithCopyWarning: \n",
      "A value is trying to be set on a copy of a slice from a DataFrame.\n",
      "Try using .loc[row_indexer,col_indexer] = value instead\n",
      "\n",
      "See the caveats in the documentation: http://pandas.pydata.org/pandas-docs/stable/indexing.html#indexing-view-versus-copy\n",
      "  \n",
      "C:\\Users\\Yoga 500\\Anaconda3\\lib\\site-packages\\ipykernel_launcher.py:7: SettingWithCopyWarning: \n",
      "A value is trying to be set on a copy of a slice from a DataFrame.\n",
      "Try using .loc[row_indexer,col_indexer] = value instead\n",
      "\n",
      "See the caveats in the documentation: http://pandas.pydata.org/pandas-docs/stable/indexing.html#indexing-view-versus-copy\n",
      "  import sys\n",
      "C:\\Users\\Yoga 500\\Anaconda3\\lib\\site-packages\\ipykernel_launcher.py:8: SettingWithCopyWarning: \n",
      "A value is trying to be set on a copy of a slice from a DataFrame.\n",
      "Try using .loc[row_indexer,col_indexer] = value instead\n",
      "\n",
      "See the caveats in the documentation: http://pandas.pydata.org/pandas-docs/stable/indexing.html#indexing-view-versus-copy\n",
      "  \n"
     ]
    }
   ],
   "source": [
    "# save the cluster labels and sort by cluster\n",
    "x['cluster_3'] = km_3.labels_\n",
    "x['cluster_4'] = km_4.labels_\n",
    "x['cluster_5'] = km_5.labels_\n",
    "x['cluster_6'] = km_6.labels_\n",
    "x['cluster_7'] = km_7.labels_\n",
    "x['cluster_8'] = km_8.labels_\n",
    "x['cluster_9'] = km_9.labels_"
   ]
  },
  {
   "cell_type": "code",
   "execution_count": 88,
   "metadata": {},
   "outputs": [
    {
     "data": {
      "text/plain": [
       "51"
      ]
     },
     "execution_count": 88,
     "metadata": {},
     "output_type": "execute_result"
    }
   ],
   "source": [
    "len(tfidf_vect.get_feature_names())"
   ]
  },
  {
   "cell_type": "code",
   "execution_count": 89,
   "metadata": {},
   "outputs": [
    {
     "data": {
      "text/plain": [
       "array(['activity', 'business', 'candidate', 'cjsc', 'customer',\n",
       "       'department', 'design', 'develop', 'developer', 'development',\n",
       "       'direct', 'director', 'engineer', 'ensure', 'experienced',\n",
       "       'financial', 'highly', 'implementation', 'incumbent',\n",
       "       'international', 'looking', 'management', 'manager', 'motivated',\n",
       "       'office', 'operation', 'process', 'product', 'professional',\n",
       "       'program', 'project', 'provide', 'qualified', 'quality', 'report',\n",
       "       'responsible', 'sale', 'seeking', 'senior', 'service', 'software',\n",
       "       'specialist', 'staff', 'supervision', 'support', 'team',\n",
       "       'technical', 'web', 'work', 'working', 'yerevan'], dtype='<U14')"
      ]
     },
     "execution_count": 89,
     "metadata": {},
     "output_type": "execute_result"
    }
   ],
   "source": [
    "vocab = np.array(tfidf_vect.get_feature_names())\n",
    "vocab"
   ]
  },
  {
   "cell_type": "code",
   "execution_count": 90,
   "metadata": {},
   "outputs": [
    {
     "data": {
      "text/plain": [
       "array([37, 40, 13, 17, 10, 29, 42, 31, 46, 33, 43, 26,  7, 47,  8, 30, 38,\n",
       "        4, 25, 44, 34,  6, 12, 27, 21, 18, 50,  1, 39, 49,  9,  0, 45, 11,\n",
       "       15, 24,  5, 36, 35, 19, 16, 28, 48, 14, 41, 22, 32,  3, 23,  2, 20],\n",
       "      dtype=int64)"
      ]
     },
     "execution_count": 90,
     "metadata": {},
     "output_type": "execute_result"
    }
   ],
   "source": [
    "cluster_centers = np.array(km_5.cluster_centers_)\n",
    "cluster_centers[0].argsort()"
   ]
  },
  {
   "cell_type": "code",
   "execution_count": 91,
   "metadata": {},
   "outputs": [
    {
     "data": {
      "text/plain": [
       "array([2, 2, 2, ..., 0, 0, 2])"
      ]
     },
     "execution_count": 91,
     "metadata": {},
     "output_type": "execute_result"
    }
   ],
   "source": [
    "km_3.labels_"
   ]
  },
  {
   "cell_type": "code",
   "execution_count": 92,
   "metadata": {},
   "outputs": [
    {
     "data": {
      "text/plain": [
       "0    0.444452\n",
       "2    0.333289\n",
       "1    0.222259\n",
       "Name: cluster_3, dtype: float64"
      ]
     },
     "execution_count": 92,
     "metadata": {},
     "output_type": "execute_result"
    }
   ],
   "source": [
    "x['cluster_3'].value_counts()/sum(x['cluster_3'].value_counts())"
   ]
  },
  {
   "cell_type": "code",
   "execution_count": 93,
   "metadata": {},
   "outputs": [
    {
     "data": {
      "text/plain": [
       "2    0.344379\n",
       "0    0.313434\n",
       "1    0.185404\n",
       "3    0.156783\n",
       "Name: cluster_4, dtype: float64"
      ]
     },
     "execution_count": 93,
     "metadata": {},
     "output_type": "execute_result"
    }
   ],
   "source": [
    "x['cluster_4'].value_counts()/sum(x['cluster_4'].value_counts())"
   ]
  },
  {
   "cell_type": "code",
   "execution_count": 94,
   "metadata": {
    "scrolled": true
   },
   "outputs": [
    {
     "data": {
      "text/plain": [
       "3    0.372668\n",
       "0    0.168205\n",
       "2    0.161963\n",
       "4    0.155588\n",
       "1    0.141576\n",
       "Name: cluster_5, dtype: float64"
      ]
     },
     "execution_count": 94,
     "metadata": {},
     "output_type": "execute_result"
    }
   ],
   "source": [
    "x['cluster_5'].value_counts()/sum(x['cluster_5'].value_counts())"
   ]
  },
  {
   "cell_type": "code",
   "execution_count": 95,
   "metadata": {},
   "outputs": [
    {
     "data": {
      "text/plain": [
       "5    0.382429\n",
       "0    0.152865\n",
       "4    0.146291\n",
       "1    0.134139\n",
       "2    0.121588\n",
       "3    0.062687\n",
       "Name: cluster_6, dtype: float64"
      ]
     },
     "execution_count": 95,
     "metadata": {},
     "output_type": "execute_result"
    }
   ],
   "source": [
    "x['cluster_6'].value_counts()/sum(x['cluster_6'].value_counts())"
   ]
  },
  {
   "cell_type": "code",
   "execution_count": 96,
   "metadata": {},
   "outputs": [
    {
     "data": {
      "text/plain": [
       "5    0.300817\n",
       "0    0.155123\n",
       "4    0.140381\n",
       "6    0.119264\n",
       "1    0.115280\n",
       "2    0.107245\n",
       "3    0.061890\n",
       "Name: cluster_7, dtype: float64"
      ]
     },
     "execution_count": 96,
     "metadata": {},
     "output_type": "execute_result"
    }
   ],
   "source": [
    "x['cluster_7'].value_counts()/sum(x['cluster_7'].value_counts())"
   ]
  },
  {
   "cell_type": "code",
   "execution_count": 97,
   "metadata": {},
   "outputs": [
    {
     "data": {
      "text/plain": [
       "5    0.310047\n",
       "0    0.149545\n",
       "7    0.116741\n",
       "3    0.105253\n",
       "2    0.105053\n",
       "4    0.077030\n",
       "1    0.074640\n",
       "6    0.061691\n",
       "Name: cluster_8, dtype: float64"
      ]
     },
     "execution_count": 97,
     "metadata": {},
     "output_type": "execute_result"
    }
   ],
   "source": [
    "x['cluster_8'].value_counts()/sum(x['cluster_8'].value_counts())"
   ]
  },
  {
   "cell_type": "markdown",
   "metadata": {},
   "source": [
    "Either 5-6 , is the optimal solution for our clusters"
   ]
  },
  {
   "cell_type": "markdown",
   "metadata": {},
   "source": [
    "### Evaluation clusters"
   ]
  },
  {
   "cell_type": "markdown",
   "metadata": {},
   "source": [
    "### 1. Silhouette Coefficient(Higher the better)"
   ]
  },
  {
   "cell_type": "code",
   "execution_count": 98,
   "metadata": {},
   "outputs": [
    {
     "data": {
      "text/plain": [
       "0.04722834516642163"
      ]
     },
     "execution_count": 98,
     "metadata": {},
     "output_type": "execute_result"
    }
   ],
   "source": [
    "from sklearn import  metrics\n",
    "metrics.silhouette_score(x_tdm, labels=km_3.labels_)"
   ]
  },
  {
   "cell_type": "code",
   "execution_count": 99,
   "metadata": {},
   "outputs": [
    {
     "data": {
      "text/plain": [
       "[0.04722834516642163,\n",
       " 0.053124641715571824,\n",
       " 0.05797515524728512,\n",
       " 0.06652506859226567,\n",
       " 0.0719422622937439,\n",
       " 0.07593943442916783,\n",
       " 0.07639976479058319]"
      ]
     },
     "execution_count": 99,
     "metadata": {},
     "output_type": "execute_result"
    }
   ],
   "source": [
    "scores = []\n",
    "scores.append(metrics.silhouette_score(x_tdm, labels=km_3.labels_))\n",
    "scores.append(metrics.silhouette_score(x_tdm, labels=km_4.labels_))\n",
    "scores.append(metrics.silhouette_score(x_tdm, labels=km_5.labels_))\n",
    "scores.append(metrics.silhouette_score(x_tdm, labels=km_6.labels_))\n",
    "scores.append(metrics.silhouette_score(x_tdm, labels=km_7.labels_))\n",
    "scores.append(metrics.silhouette_score(x_tdm, labels=km_8.labels_))\n",
    "scores.append(metrics.silhouette_score(x_tdm, labels=km_9.labels_))\n",
    "scores"
   ]
  },
  {
   "cell_type": "code",
   "execution_count": 100,
   "metadata": {},
   "outputs": [
    {
     "data": {
      "image/png": "[encoded data removed]",
      "text/plain": [
       "<Figure size 432x288 with 1 Axes>"
      ]
     },
     "metadata": {
      "needs_background": "light"
     },
     "output_type": "display_data"
    }
   ],
   "source": [
    "plt.plot(range(3,10), scores)\n",
    "plt.xlabel('Number of clusters')\n",
    "plt.ylabel('Silhouette Score')\n",
    "plt.grid('True')"
   ]
  },
  {
   "cell_type": "markdown",
   "metadata": {},
   "source": [
    "7 Cluster seems to be optimal"
   ]
  },
  {
   "cell_type": "code",
   "execution_count": 101,
   "metadata": {},
   "outputs": [],
   "source": [
    "# sorting the cluster centers for 5 clusters\n",
    "sorted_vals = [km_5.cluster_centers_[i].argsort() for i in range(0,np.shape(km_5.cluster_centers_)[0])]"
   ]
  },
  {
   "cell_type": "code",
   "execution_count": 102,
   "metadata": {},
   "outputs": [
    {
     "name": "stdout",
     "output_type": "stream",
     "text": [
      "{'cjsc', 'motivated', 'manager', 'qualified', 'candidate', 'specialist', 'looking', 'professional', 'experienced', 'work'}\n",
      "{'activity', 'responsible', 'supervision', 'operation', 'development', 'product', 'incumbent', 'service', 'management', 'work'}\n",
      "{'responsible', 'support', 'activity', 'program', 'development', 'incumbent', 'implementation', 'management', 'project', 'work'}\n",
      "{'responsible', 'support', 'customer', 'sale', 'candidate', 'seeking', 'specialist', 'manager', 'service', 'work'}\n",
      "{'design', 'developer', 'web', 'development', 'team', 'product', 'software', 'engineer', 'looking', 'senior'}\n"
     ]
    }
   ],
   "source": [
    "# get top 10 words from that cluster\n",
    "words=set()\n",
    "for i in range(len(km_5.cluster_centers_)):\n",
    "    words = set(vocab[sorted_vals[i][-10:]])\n",
    "    print(words)"
   ]
  },
  {
   "cell_type": "code",
   "execution_count": 103,
   "metadata": {},
   "outputs": [],
   "source": [
    "# sorting the cluster centers for 6 clusters\n",
    "sorted_vals = [km_6.cluster_centers_[i].argsort() for i in range(0,np.shape(km_6.cluster_centers_)[0])]"
   ]
  },
  {
   "cell_type": "code",
   "execution_count": 104,
   "metadata": {},
   "outputs": [
    {
     "name": "stdout",
     "output_type": "stream",
     "text": [
      "{'cjsc', 'motivated', 'manager', 'qualified', 'candidate', 'specialist', 'looking', 'professional', 'experienced', 'work'}\n",
      "{'activity', 'responsible', 'supervision', 'operation', 'development', 'product', 'incumbent', 'service', 'management', 'work'}\n",
      "{'responsible', 'support', 'activity', 'development', 'looking', 'implementation', 'manager', 'management', 'project', 'work'}\n",
      "{'responsible', 'motivated', 'customer', 'sale', 'seeking', 'incumbent', 'product', 'looking', 'manager', 'service'}\n",
      "{'design', 'developer', 'seeking', 'web', 'development', 'team', 'senior', 'software', 'looking', 'engineer'}\n",
      "{'activity', 'support', 'seeking', 'development', 'office', 'specialist', 'program', 'manager', 'service', 'work'}\n"
     ]
    }
   ],
   "source": [
    "# get top 10 words from that cluster\n",
    "words=set()\n",
    "for i in range(len(km_6.cluster_centers_)):\n",
    "    words = set(vocab[sorted_vals[i][-10:]])\n",
    "    print(words)"
   ]
  },
  {
   "cell_type": "markdown",
   "metadata": {},
   "source": [
    "Above analysis shows that in cluster 6 the tokens get repeated and clusters are more similar to each other. That means **cluster 5** is optimal. "
   ]
  },
  {
   "cell_type": "markdown",
   "metadata": {},
   "source": [
    "### IT Job Classification"
   ]
  },
  {
   "cell_type": "code",
   "execution_count": 105,
   "metadata": {},
   "outputs": [],
   "source": [
    "class_data = jobs[(jobs.title.isna() == False) & (jobs.jobrequirment.isna() == False) & (jobs.requiredqual.isna() == False) &\n",
    "                 (jobs.jobdescription.isna() == False) & (jobs.aboutc.isna() == False) & (jobs.company.isna() == False)]"
   ]
  },
  {
   "cell_type": "code",
   "execution_count": 106,
   "metadata": {},
   "outputs": [
    {
     "data": {
      "text/plain": [
       "(8993, 24)"
      ]
     },
     "execution_count": 106,
     "metadata": {},
     "output_type": "execute_result"
    }
   ],
   "source": [
    "class_data.shape"
   ]
  },
  {
   "cell_type": "code",
   "execution_count": 107,
   "metadata": {},
   "outputs": [
    {
     "data": {
      "text/plain": [
       "jobpost                0\n",
       "date                   0\n",
       "title                  0\n",
       "company                0\n",
       "announcementcode    8379\n",
       "term                4359\n",
       "eligibility         6619\n",
       "audience            8648\n",
       "startdate           3830\n",
       "duration            2860\n",
       "location               1\n",
       "jobdescription         0\n",
       "jobrequirment          0\n",
       "requiredqual           0\n",
       "salary              3549\n",
       "applicationp           0\n",
       "openingdate          125\n",
       "deadline               4\n",
       "notes               8036\n",
       "aboutc                 0\n",
       "attach              8528\n",
       "year                   0\n",
       "month                  0\n",
       "it                     0\n",
       "dtype: int64"
      ]
     },
     "execution_count": 107,
     "metadata": {},
     "output_type": "execute_result"
    }
   ],
   "source": [
    "class_data.isna().sum()"
   ]
  },
  {
   "cell_type": "code",
   "execution_count": 108,
   "metadata": {},
   "outputs": [
    {
     "name": "stderr",
     "output_type": "stream",
     "text": [
      "C:\\Users\\Yoga 500\\Anaconda3\\lib\\site-packages\\ipykernel_launcher.py:2: SettingWithCopyWarning: \n",
      "A value is trying to be set on a copy of a slice from a DataFrame.\n",
      "Try using .loc[row_indexer,col_indexer] = value instead\n",
      "\n",
      "See the caveats in the documentation: http://pandas.pydata.org/pandas-docs/stable/indexing.html#indexing-view-versus-copy\n",
      "  \n"
     ]
    }
   ],
   "source": [
    "#identify Y variable\n",
    "class_data['it'] = class_data.it.apply(lambda x : 0 if (x is False) else 1)\n",
    "y=class_data['it']"
   ]
  },
  {
   "cell_type": "code",
   "execution_count": 109,
   "metadata": {},
   "outputs": [
    {
     "data": {
      "text/plain": [
       "0    6780\n",
       "1    2213\n",
       "Name: it, dtype: int64"
      ]
     },
     "execution_count": 109,
     "metadata": {},
     "output_type": "execute_result"
    }
   ],
   "source": [
    "y.value_counts()"
   ]
  },
  {
   "cell_type": "code",
   "execution_count": 110,
   "metadata": {},
   "outputs": [
    {
     "data": {
      "text/plain": [
       "<matplotlib.axes._subplots.AxesSubplot at 0xcdf4464080>"
      ]
     },
     "execution_count": 110,
     "metadata": {},
     "output_type": "execute_result"
    },
    {
     "data": {
      "image/png": "[encoded data removed]",
      "text/plain": [
       "<Figure size 432x288 with 1 Axes>"
      ]
     },
     "metadata": {
      "needs_background": "light"
     },
     "output_type": "display_data"
    }
   ],
   "source": [
    "sns.countplot(y)"
   ]
  },
  {
   "cell_type": "code",
   "execution_count": 111,
   "metadata": {},
   "outputs": [],
   "source": [
    "class_data = class_data['title'].str.cat(class_data['jobrequirment'], sep =\" \").str.cat(class_data['requiredqual'], sep =\" \").str.cat(\n",
    "    class_data['jobdescription'], sep =\" \").str.cat(class_data['aboutc'], sep =\" \").str.cat(class_data['company'], sep =\" \")\n",
    "class_df = class_data"
   ]
  },
  {
   "cell_type": "code",
   "execution_count": 112,
   "metadata": {
    "scrolled": true
   },
   "outputs": [
    {
     "data": {
      "text/plain": [
       "2     Country Coordinator - Working with the Country...\n",
       "22    Marketing Advisor - Lead the effort to identif...\n",
       "56    Manufacturing Chief - To manage all manufactur...\n",
       "64    Administrative Assistant/ Secretary - To welco...\n",
       "67    Salesman / Trade agent - To distribute and dis...\n",
       "Name: title, dtype: object"
      ]
     },
     "execution_count": 112,
     "metadata": {},
     "output_type": "execute_result"
    }
   ],
   "source": [
    "class_df.head()"
   ]
  },
  {
   "cell_type": "markdown",
   "metadata": {},
   "source": [
    "### Text pre-processing"
   ]
  },
  {
   "cell_type": "code",
   "execution_count": 113,
   "metadata": {},
   "outputs": [
    {
     "data": {
      "text/plain": [
       "2     country coordinator  working with the country ...\n",
       "22    marketing advisor  lead the effort to identify...\n",
       "56    manufacturing chief  to manage all manufacturi...\n",
       "64    administrative assistant secretary  to welcome...\n",
       "67    salesman  trade agent  to distribute and displ...\n",
       "Name: title, dtype: object"
      ]
     },
     "execution_count": 113,
     "metadata": {},
     "output_type": "execute_result"
    }
   ],
   "source": [
    "class_df = class_df.apply(lambda x : clean_data(str(x)))\n",
    "class_df.head()"
   ]
  },
  {
   "cell_type": "code",
   "execution_count": 114,
   "metadata": {
    "scrolled": true
   },
   "outputs": [],
   "source": [
    "#Lemmatization\n",
    "class_df_1 = class_df.apply(lambda x : lemma(x))"
   ]
  },
  {
   "cell_type": "code",
   "execution_count": 115,
   "metadata": {},
   "outputs": [
    {
     "data": {
      "text/plain": [
       "2     country coordinator working with the country d...\n",
       "22    marketing advisor lead the effort to identify ...\n",
       "56    manufacturing chief to manage all manufacturin...\n",
       "64    administrative assistant secretary to welcome ...\n",
       "67    salesman trade agent to distribute and display...\n",
       "Name: title, dtype: object"
      ]
     },
     "execution_count": 115,
     "metadata": {},
     "output_type": "execute_result"
    }
   ],
   "source": [
    "class_df_1.head()"
   ]
  },
  {
   "cell_type": "code",
   "execution_count": 116,
   "metadata": {},
   "outputs": [],
   "source": [
    "#stop word removal\n",
    "class_df_1 = class_df_1.apply(lambda x : ' '.join(x for x in x.split() if x not in stop))"
   ]
  },
  {
   "cell_type": "code",
   "execution_count": 117,
   "metadata": {},
   "outputs": [
    {
     "data": {
      "text/plain": [
       "2     country coordinator working country director p...\n",
       "22    marketing advisor lead effort identify target ...\n",
       "56    manufacturing chief manage manufacturing funct...\n",
       "64    administrative assistant secretary welcome vis...\n",
       "67    salesman trade agent distribute display import...\n",
       "Name: title, dtype: object"
      ]
     },
     "execution_count": 117,
     "metadata": {},
     "output_type": "execute_result"
    }
   ],
   "source": [
    "class_df_1.head()"
   ]
  },
  {
   "cell_type": "code",
   "execution_count": 118,
   "metadata": {
    "scrolled": true
   },
   "outputs": [],
   "source": [
    "#Tokenization\n",
    "tfidf_vect = TfidfVectorizer(ngram_range=(1,1), min_df = 0.05, max_df=0.95, stop_words='english')\n",
    "x_tdm = tfidf_vect.fit_transform(class_df_1)\n",
    "#print(x_tdm)"
   ]
  },
  {
   "cell_type": "code",
   "execution_count": 119,
   "metadata": {},
   "outputs": [],
   "source": [
    "df_clust = pd.DataFrame(x_tdm.toarray(), columns=tfidf_vect.get_feature_names())"
   ]
  },
  {
   "cell_type": "code",
   "execution_count": 120,
   "metadata": {},
   "outputs": [
    {
     "data": {
      "text/html": [
       "<div>\n",
       "<style scoped>\n",
       "    .dataframe tbody tr th:only-of-type {\n",
       "        vertical-align: middle;\n",
       "    }\n",
       "\n",
       "    .dataframe tbody tr th {\n",
       "        vertical-align: top;\n",
       "    }\n",
       "\n",
       "    .dataframe thead th {\n",
       "        text-align: right;\n",
       "    }\n",
       "</style>\n",
       "<table border=\"1\" class=\"dataframe\">\n",
       "  <thead>\n",
       "    <tr style=\"text-align: right;\">\n",
       "      <th></th>\n",
       "      <th>ability</th>\n",
       "      <th>access</th>\n",
       "      <th>accordance</th>\n",
       "      <th>according</th>\n",
       "      <th>account</th>\n",
       "      <th>accountant</th>\n",
       "      <th>accounting</th>\n",
       "      <th>accuracy</th>\n",
       "      <th>accurate</th>\n",
       "      <th>achieve</th>\n",
       "      <th>...</th>\n",
       "      <th>window</th>\n",
       "      <th>word</th>\n",
       "      <th>work</th>\n",
       "      <th>working</th>\n",
       "      <th>world</th>\n",
       "      <th>write</th>\n",
       "      <th>writing</th>\n",
       "      <th>written</th>\n",
       "      <th>year</th>\n",
       "      <th>yerevan</th>\n",
       "    </tr>\n",
       "  </thead>\n",
       "  <tbody>\n",
       "    <tr>\n",
       "      <th>0</th>\n",
       "      <td>0.000000</td>\n",
       "      <td>0.0</td>\n",
       "      <td>0.0</td>\n",
       "      <td>0.0</td>\n",
       "      <td>0.0</td>\n",
       "      <td>0.0</td>\n",
       "      <td>0.0</td>\n",
       "      <td>0.0</td>\n",
       "      <td>0.0</td>\n",
       "      <td>0.00000</td>\n",
       "      <td>...</td>\n",
       "      <td>0.000000</td>\n",
       "      <td>0.000000</td>\n",
       "      <td>0.000000</td>\n",
       "      <td>0.124273</td>\n",
       "      <td>0.0</td>\n",
       "      <td>0.0</td>\n",
       "      <td>0.0</td>\n",
       "      <td>0.063437</td>\n",
       "      <td>0.040290</td>\n",
       "      <td>0.000000</td>\n",
       "    </tr>\n",
       "    <tr>\n",
       "      <th>1</th>\n",
       "      <td>0.014898</td>\n",
       "      <td>0.0</td>\n",
       "      <td>0.0</td>\n",
       "      <td>0.0</td>\n",
       "      <td>0.0</td>\n",
       "      <td>0.0</td>\n",
       "      <td>0.0</td>\n",
       "      <td>0.0</td>\n",
       "      <td>0.0</td>\n",
       "      <td>0.00000</td>\n",
       "      <td>...</td>\n",
       "      <td>0.038868</td>\n",
       "      <td>0.031142</td>\n",
       "      <td>0.012675</td>\n",
       "      <td>0.000000</td>\n",
       "      <td>0.0</td>\n",
       "      <td>0.0</td>\n",
       "      <td>0.0</td>\n",
       "      <td>0.000000</td>\n",
       "      <td>0.043389</td>\n",
       "      <td>0.000000</td>\n",
       "    </tr>\n",
       "    <tr>\n",
       "      <th>2</th>\n",
       "      <td>0.032916</td>\n",
       "      <td>0.0</td>\n",
       "      <td>0.0</td>\n",
       "      <td>0.0</td>\n",
       "      <td>0.0</td>\n",
       "      <td>0.0</td>\n",
       "      <td>0.0</td>\n",
       "      <td>0.0</td>\n",
       "      <td>0.0</td>\n",
       "      <td>0.00000</td>\n",
       "      <td>...</td>\n",
       "      <td>0.000000</td>\n",
       "      <td>0.000000</td>\n",
       "      <td>0.112018</td>\n",
       "      <td>0.000000</td>\n",
       "      <td>0.0</td>\n",
       "      <td>0.0</td>\n",
       "      <td>0.0</td>\n",
       "      <td>0.050313</td>\n",
       "      <td>0.031954</td>\n",
       "      <td>0.000000</td>\n",
       "    </tr>\n",
       "    <tr>\n",
       "      <th>3</th>\n",
       "      <td>0.000000</td>\n",
       "      <td>0.0</td>\n",
       "      <td>0.0</td>\n",
       "      <td>0.0</td>\n",
       "      <td>0.0</td>\n",
       "      <td>0.0</td>\n",
       "      <td>0.0</td>\n",
       "      <td>0.0</td>\n",
       "      <td>0.0</td>\n",
       "      <td>0.00000</td>\n",
       "      <td>...</td>\n",
       "      <td>0.000000</td>\n",
       "      <td>0.129004</td>\n",
       "      <td>0.000000</td>\n",
       "      <td>0.000000</td>\n",
       "      <td>0.0</td>\n",
       "      <td>0.0</td>\n",
       "      <td>0.0</td>\n",
       "      <td>0.094335</td>\n",
       "      <td>0.059912</td>\n",
       "      <td>0.122743</td>\n",
       "    </tr>\n",
       "    <tr>\n",
       "      <th>4</th>\n",
       "      <td>0.000000</td>\n",
       "      <td>0.0</td>\n",
       "      <td>0.0</td>\n",
       "      <td>0.0</td>\n",
       "      <td>0.0</td>\n",
       "      <td>0.0</td>\n",
       "      <td>0.0</td>\n",
       "      <td>0.0</td>\n",
       "      <td>0.0</td>\n",
       "      <td>0.32856</td>\n",
       "      <td>...</td>\n",
       "      <td>0.000000</td>\n",
       "      <td>0.000000</td>\n",
       "      <td>0.000000</td>\n",
       "      <td>0.177316</td>\n",
       "      <td>0.0</td>\n",
       "      <td>0.0</td>\n",
       "      <td>0.0</td>\n",
       "      <td>0.000000</td>\n",
       "      <td>0.229945</td>\n",
       "      <td>0.000000</td>\n",
       "    </tr>\n",
       "  </tbody>\n",
       "</table>\n",
       "<p>5 rows × 489 columns</p>\n",
       "</div>"
      ],
      "text/plain": [
       "    ability  access  accordance  according  account  accountant  accounting  \\\n",
       "0  0.000000     0.0         0.0        0.0      0.0         0.0         0.0   \n",
       "1  0.014898     0.0         0.0        0.0      0.0         0.0         0.0   \n",
       "2  0.032916     0.0         0.0        0.0      0.0         0.0         0.0   \n",
       "3  0.000000     0.0         0.0        0.0      0.0         0.0         0.0   \n",
       "4  0.000000     0.0         0.0        0.0      0.0         0.0         0.0   \n",
       "\n",
       "   accuracy  accurate  achieve  ...    window      word      work   working  \\\n",
       "0       0.0       0.0  0.00000  ...  0.000000  0.000000  0.000000  0.124273   \n",
       "1       0.0       0.0  0.00000  ...  0.038868  0.031142  0.012675  0.000000   \n",
       "2       0.0       0.0  0.00000  ...  0.000000  0.000000  0.112018  0.000000   \n",
       "3       0.0       0.0  0.00000  ...  0.000000  0.129004  0.000000  0.000000   \n",
       "4       0.0       0.0  0.32856  ...  0.000000  0.000000  0.000000  0.177316   \n",
       "\n",
       "   world  write  writing   written      year   yerevan  \n",
       "0    0.0    0.0      0.0  0.063437  0.040290  0.000000  \n",
       "1    0.0    0.0      0.0  0.000000  0.043389  0.000000  \n",
       "2    0.0    0.0      0.0  0.050313  0.031954  0.000000  \n",
       "3    0.0    0.0      0.0  0.094335  0.059912  0.122743  \n",
       "4    0.0    0.0      0.0  0.000000  0.229945  0.000000  \n",
       "\n",
       "[5 rows x 489 columns]"
      ]
     },
     "execution_count": 120,
     "metadata": {},
     "output_type": "execute_result"
    }
   ],
   "source": [
    "df_clust.head()"
   ]
  },
  {
   "cell_type": "markdown",
   "metadata": {},
   "source": [
    "## Building a Random Forest Model"
   ]
  },
  {
   "cell_type": "markdown",
   "metadata": {},
   "source": [
    "#### Divide the data into train and test"
   ]
  },
  {
   "cell_type": "code",
   "execution_count": 121,
   "metadata": {},
   "outputs": [
    {
     "data": {
      "text/plain": [
       "(8993, 489)"
      ]
     },
     "execution_count": 121,
     "metadata": {},
     "output_type": "execute_result"
    }
   ],
   "source": [
    "df_clust.shape"
   ]
  },
  {
   "cell_type": "code",
   "execution_count": 122,
   "metadata": {},
   "outputs": [
    {
     "name": "stdout",
     "output_type": "stream",
     "text": [
      "(7194, 489) (1799, 489)\n"
     ]
    }
   ],
   "source": [
    "from sklearn.model_selection import train_test_split\n",
    "\n",
    "train_x, test_x,train_y, test_y = train_test_split(df_clust,y, test_size = 0.2, random_state = 5)\n",
    "print(train_x.shape, test_x.shape)"
   ]
  },
  {
   "cell_type": "code",
   "execution_count": 123,
   "metadata": {},
   "outputs": [],
   "source": [
    "from sklearn.ensemble import RandomForestClassifier\n",
    "from sklearn.model_selection import GridSearchCV"
   ]
  },
  {
   "cell_type": "code",
   "execution_count": 314,
   "metadata": {},
   "outputs": [
    {
     "data": {
      "text/plain": [
       "GridSearchCV(cv=10, error_score=nan,\n",
       "             estimator=RandomForestClassifier(bootstrap=True, ccp_alpha=0.0,\n",
       "                                              class_weight=None,\n",
       "                                              criterion='gini', max_depth=None,\n",
       "                                              max_features='auto',\n",
       "                                              max_leaf_nodes=None,\n",
       "                                              max_samples=None,\n",
       "                                              min_impurity_decrease=0.0,\n",
       "                                              min_impurity_split=None,\n",
       "                                              min_samples_leaf=1,\n",
       "                                              min_samples_split=2,\n",
       "                                              min_weight_fraction_leaf=0.0,\n",
       "                                              n_estimators=100, n_jobs=None,\n",
       "                                              oob_score=False,\n",
       "                                              random_state=None, verbose=0,\n",
       "                                              warm_start=False),\n",
       "             iid='deprecated', n_jobs=-1,\n",
       "             param_grid={'max_features': [9, 10, 13, 15, 17, 19],\n",
       "                         'n_estimators': [120, 130, 150, 160, 180, 200, 300,\n",
       "                                          400, 500, 600, 700]},\n",
       "             pre_dispatch='2*n_jobs', refit=True, return_train_score=False,\n",
       "             scoring=None, verbose=0)"
      ]
     },
     "execution_count": 314,
     "metadata": {},
     "output_type": "execute_result"
    }
   ],
   "source": [
    "param_grid = {'n_estimators':[120,130,150,160,180,200,300,400,500,600,700],\n",
    "              'max_features':[9,10,13,15,17,19]}\n",
    "\n",
    "grid_rf = GridSearchCV(estimator= RandomForestClassifier(),\n",
    "                      param_grid=param_grid,\n",
    "                      cv = 10,\n",
    "                      n_jobs=-1)\n",
    "\n",
    "grid_rf.fit(train_x,train_y)"
   ]
  },
  {
   "cell_type": "code",
   "execution_count": 315,
   "metadata": {},
   "outputs": [
    {
     "data": {
      "text/plain": [
       "0.9506517539792922"
      ]
     },
     "execution_count": 315,
     "metadata": {},
     "output_type": "execute_result"
    }
   ],
   "source": [
    "grid_rf.best_score_"
   ]
  },
  {
   "cell_type": "code",
   "execution_count": 316,
   "metadata": {},
   "outputs": [
    {
     "data": {
      "text/plain": [
       "{'max_features': 19, 'n_estimators': 180}"
      ]
     },
     "execution_count": 316,
     "metadata": {},
     "output_type": "execute_result"
    }
   ],
   "source": [
    "grid_rf.best_params_"
   ]
  },
  {
   "cell_type": "code",
   "execution_count": 317,
   "metadata": {},
   "outputs": [
    {
     "data": {
      "text/plain": [
       "RandomForestClassifier(bootstrap=True, ccp_alpha=0.0, class_weight=None,\n",
       "                       criterion='gini', max_depth=None, max_features=19,\n",
       "                       max_leaf_nodes=None, max_samples=None,\n",
       "                       min_impurity_decrease=0.0, min_impurity_split=None,\n",
       "                       min_samples_leaf=1, min_samples_split=2,\n",
       "                       min_weight_fraction_leaf=0.0, n_estimators=180,\n",
       "                       n_jobs=None, oob_score=False, random_state=None,\n",
       "                       verbose=0, warm_start=False)"
      ]
     },
     "execution_count": 317,
     "metadata": {},
     "output_type": "execute_result"
    }
   ],
   "source": [
    "grid_rf.best_estimator_"
   ]
  },
  {
   "cell_type": "code",
   "execution_count": 318,
   "metadata": {},
   "outputs": [
    {
     "data": {
      "text/plain": [
       "RandomForestClassifier(bootstrap=True, ccp_alpha=0.0, class_weight=None,\n",
       "                       criterion='gini', max_depth=None, max_features=19,\n",
       "                       max_leaf_nodes=None, max_samples=None,\n",
       "                       min_impurity_decrease=0.0, min_impurity_split=None,\n",
       "                       min_samples_leaf=1, min_samples_split=2,\n",
       "                       min_weight_fraction_leaf=0.0, n_estimators=180,\n",
       "                       n_jobs=None, oob_score=False, random_state=None,\n",
       "                       verbose=0, warm_start=False)"
      ]
     },
     "execution_count": 318,
     "metadata": {},
     "output_type": "execute_result"
    }
   ],
   "source": [
    "#Fit the model\n",
    "rf_model = grid_rf.best_estimator_\n",
    "rf_model.fit(train_x, train_y)"
   ]
  },
  {
   "cell_type": "markdown",
   "metadata": {},
   "source": [
    "#### Prdict the output for train and validation set"
   ]
  },
  {
   "cell_type": "code",
   "execution_count": 319,
   "metadata": {},
   "outputs": [
    {
     "data": {
      "text/html": [
       "<div>\n",
       "<style scoped>\n",
       "    .dataframe tbody tr th:only-of-type {\n",
       "        vertical-align: middle;\n",
       "    }\n",
       "\n",
       "    .dataframe tbody tr th {\n",
       "        vertical-align: top;\n",
       "    }\n",
       "\n",
       "    .dataframe thead th {\n",
       "        text-align: right;\n",
       "    }\n",
       "</style>\n",
       "<table border=\"1\" class=\"dataframe\">\n",
       "  <thead>\n",
       "    <tr style=\"text-align: right;\">\n",
       "      <th></th>\n",
       "      <th>actual</th>\n",
       "      <th>predicted</th>\n",
       "    </tr>\n",
       "  </thead>\n",
       "  <tbody>\n",
       "    <tr>\n",
       "      <th>18595</th>\n",
       "      <td>1</td>\n",
       "      <td>1</td>\n",
       "    </tr>\n",
       "    <tr>\n",
       "      <th>14290</th>\n",
       "      <td>1</td>\n",
       "      <td>1</td>\n",
       "    </tr>\n",
       "    <tr>\n",
       "      <th>12772</th>\n",
       "      <td>1</td>\n",
       "      <td>1</td>\n",
       "    </tr>\n",
       "    <tr>\n",
       "      <th>13946</th>\n",
       "      <td>0</td>\n",
       "      <td>0</td>\n",
       "    </tr>\n",
       "    <tr>\n",
       "      <th>9745</th>\n",
       "      <td>0</td>\n",
       "      <td>0</td>\n",
       "    </tr>\n",
       "  </tbody>\n",
       "</table>\n",
       "</div>"
      ],
      "text/plain": [
       "       actual  predicted\n",
       "18595       1          1\n",
       "14290       1          1\n",
       "12772       1          1\n",
       "13946       0          0\n",
       "9745        0          0"
      ]
     },
     "execution_count": 319,
     "metadata": {},
     "output_type": "execute_result"
    }
   ],
   "source": [
    "rf_train_predict = pd.DataFrame({'actual' : train_y,\n",
    "                                 'predicted' : rf_model.predict(train_x)})\n",
    "rf_train_predict.head()"
   ]
  },
  {
   "cell_type": "code",
   "execution_count": 320,
   "metadata": {},
   "outputs": [
    {
     "data": {
      "text/html": [
       "<div>\n",
       "<style scoped>\n",
       "    .dataframe tbody tr th:only-of-type {\n",
       "        vertical-align: middle;\n",
       "    }\n",
       "\n",
       "    .dataframe tbody tr th {\n",
       "        vertical-align: top;\n",
       "    }\n",
       "\n",
       "    .dataframe thead th {\n",
       "        text-align: right;\n",
       "    }\n",
       "</style>\n",
       "<table border=\"1\" class=\"dataframe\">\n",
       "  <thead>\n",
       "    <tr style=\"text-align: right;\">\n",
       "      <th></th>\n",
       "      <th>actual</th>\n",
       "      <th>predicted</th>\n",
       "    </tr>\n",
       "  </thead>\n",
       "  <tbody>\n",
       "    <tr>\n",
       "      <th>8007</th>\n",
       "      <td>0</td>\n",
       "      <td>0</td>\n",
       "    </tr>\n",
       "    <tr>\n",
       "      <th>6159</th>\n",
       "      <td>0</td>\n",
       "      <td>0</td>\n",
       "    </tr>\n",
       "    <tr>\n",
       "      <th>9782</th>\n",
       "      <td>0</td>\n",
       "      <td>0</td>\n",
       "    </tr>\n",
       "    <tr>\n",
       "      <th>6132</th>\n",
       "      <td>0</td>\n",
       "      <td>0</td>\n",
       "    </tr>\n",
       "    <tr>\n",
       "      <th>6649</th>\n",
       "      <td>0</td>\n",
       "      <td>0</td>\n",
       "    </tr>\n",
       "  </tbody>\n",
       "</table>\n",
       "</div>"
      ],
      "text/plain": [
       "      actual  predicted\n",
       "8007       0          0\n",
       "6159       0          0\n",
       "9782       0          0\n",
       "6132       0          0\n",
       "6649       0          0"
      ]
     },
     "execution_count": 320,
     "metadata": {},
     "output_type": "execute_result"
    }
   ],
   "source": [
    "rf_test_predict = pd.DataFrame({'actual' : test_y,\n",
    "                                 'predicted' : rf_model.predict(test_x)})\n",
    "rf_test_predict.head()"
   ]
  },
  {
   "cell_type": "markdown",
   "metadata": {},
   "source": [
    "### Model Evaluation"
   ]
  },
  {
   "cell_type": "code",
   "execution_count": 321,
   "metadata": {},
   "outputs": [
    {
     "name": "stdout",
     "output_type": "stream",
     "text": [
      "Accuracy Score for train dataset :  0.9998609952738393\n",
      "Accuracy Score for test dataset :  0.9449694274596998\n"
     ]
    }
   ],
   "source": [
    "#1. Check accuracy score on train and test\n",
    "\n",
    "print('Accuracy Score for train dataset : ' , metrics.accuracy_score(rf_train_predict.actual, rf_train_predict.predicted))\n",
    "print('Accuracy Score for test dataset : ' , metrics.accuracy_score(rf_test_predict.actual, rf_test_predict.predicted))"
   ]
  },
  {
   "cell_type": "code",
   "execution_count": 322,
   "metadata": {},
   "outputs": [
    {
     "name": "stdout",
     "output_type": "stream",
     "text": [
      "ROC-AUC Score for train dataset :  0.9997209821428572\n",
      "ROC-AUC Score for validation dataset :  0.9055173079508669\n"
     ]
    }
   ],
   "source": [
    "#2. Check roc_auc score on train and test\n",
    "\n",
    "print('ROC-AUC Score for train dataset : ' , metrics.roc_auc_score(rf_train_predict.actual, rf_train_predict.predicted))\n",
    "print('ROC-AUC Score for validation dataset : ' , metrics.roc_auc_score(rf_test_predict.actual, rf_test_predict.predicted))"
   ]
  },
  {
   "cell_type": "code",
   "execution_count": 323,
   "metadata": {},
   "outputs": [
    {
     "data": {
      "text/plain": [
       "<matplotlib.axes._subplots.AxesSubplot at 0xcdb6fae400>"
      ]
     },
     "execution_count": 323,
     "metadata": {},
     "output_type": "execute_result"
    },
    {
     "data": {
      "image/png": "[encoded data removed]",
      "text/plain": [
       "<Figure size 432x288 with 2 Axes>"
      ]
     },
     "metadata": {
      "needs_background": "light"
     },
     "output_type": "display_data"
    }
   ],
   "source": [
    "#3. Create confusion matrix\n",
    "#for test\n",
    "\n",
    "conn_cm_test = metrics.confusion_matrix(rf_test_predict.actual, rf_test_predict.predicted, [1,0])\n",
    "sns.heatmap(conn_cm_test, fmt= '.2f', annot=True,  xticklabels=['IT', 'NOT IT'], yticklabels=['IT', 'NOT IT'])"
   ]
  },
  {
   "cell_type": "code",
   "execution_count": 324,
   "metadata": {},
   "outputs": [
    {
     "name": "stdout",
     "output_type": "stream",
     "text": [
      "              precision    recall  f1-score   support\n",
      "\n",
      "           0       0.95      0.98      0.96      1378\n",
      "           1       0.93      0.83      0.88       421\n",
      "\n",
      "    accuracy                           0.94      1799\n",
      "   macro avg       0.94      0.91      0.92      1799\n",
      "weighted avg       0.94      0.94      0.94      1799\n",
      "\n"
     ]
    }
   ],
   "source": [
    "#4. Create classification report\n",
    "print(metrics.classification_report(rf_test_predict.actual, rf_test_predict.predicted))"
   ]
  },
  {
   "cell_type": "code",
   "execution_count": 325,
   "metadata": {
    "scrolled": true
   },
   "outputs": [
    {
     "data": {
      "text/html": [
       "<div>\n",
       "<style scoped>\n",
       "    .dataframe tbody tr th:only-of-type {\n",
       "        vertical-align: middle;\n",
       "    }\n",
       "\n",
       "    .dataframe tbody tr th {\n",
       "        vertical-align: top;\n",
       "    }\n",
       "\n",
       "    .dataframe thead th {\n",
       "        text-align: right;\n",
       "    }\n",
       "</style>\n",
       "<table border=\"1\" class=\"dataframe\">\n",
       "  <thead>\n",
       "    <tr style=\"text-align: right;\">\n",
       "      <th></th>\n",
       "      <th>rank</th>\n",
       "      <th>feature</th>\n",
       "      <th>importance</th>\n",
       "    </tr>\n",
       "  </thead>\n",
       "  <tbody>\n",
       "    <tr>\n",
       "      <th>0</th>\n",
       "      <td>1</td>\n",
       "      <td>developer</td>\n",
       "      <td>0.092</td>\n",
       "    </tr>\n",
       "    <tr>\n",
       "      <th>1</th>\n",
       "      <td>2</td>\n",
       "      <td>software</td>\n",
       "      <td>0.052</td>\n",
       "    </tr>\n",
       "    <tr>\n",
       "      <th>2</th>\n",
       "      <td>3</td>\n",
       "      <td>design</td>\n",
       "      <td>0.039</td>\n",
       "    </tr>\n",
       "    <tr>\n",
       "      <th>3</th>\n",
       "      <td>4</td>\n",
       "      <td>programming</td>\n",
       "      <td>0.026</td>\n",
       "    </tr>\n",
       "    <tr>\n",
       "      <th>4</th>\n",
       "      <td>5</td>\n",
       "      <td>sql</td>\n",
       "      <td>0.024</td>\n",
       "    </tr>\n",
       "    <tr>\n",
       "      <th>5</th>\n",
       "      <td>6</td>\n",
       "      <td>experience</td>\n",
       "      <td>0.022</td>\n",
       "    </tr>\n",
       "    <tr>\n",
       "      <th>6</th>\n",
       "      <td>7</td>\n",
       "      <td>code</td>\n",
       "      <td>0.021</td>\n",
       "    </tr>\n",
       "    <tr>\n",
       "      <th>7</th>\n",
       "      <td>8</td>\n",
       "      <td>web</td>\n",
       "      <td>0.021</td>\n",
       "    </tr>\n",
       "    <tr>\n",
       "      <th>8</th>\n",
       "      <td>9</td>\n",
       "      <td>javascript</td>\n",
       "      <td>0.020</td>\n",
       "    </tr>\n",
       "    <tr>\n",
       "      <th>9</th>\n",
       "      <td>10</td>\n",
       "      <td>development</td>\n",
       "      <td>0.019</td>\n",
       "    </tr>\n",
       "    <tr>\n",
       "      <th>10</th>\n",
       "      <td>11</td>\n",
       "      <td>database</td>\n",
       "      <td>0.018</td>\n",
       "    </tr>\n",
       "    <tr>\n",
       "      <th>11</th>\n",
       "      <td>12</td>\n",
       "      <td>oop</td>\n",
       "      <td>0.018</td>\n",
       "    </tr>\n",
       "    <tr>\n",
       "      <th>12</th>\n",
       "      <td>13</td>\n",
       "      <td>java</td>\n",
       "      <td>0.017</td>\n",
       "    </tr>\n",
       "    <tr>\n",
       "      <th>13</th>\n",
       "      <td>14</td>\n",
       "      <td>html</td>\n",
       "      <td>0.016</td>\n",
       "    </tr>\n",
       "    <tr>\n",
       "      <th>14</th>\n",
       "      <td>15</td>\n",
       "      <td>technology</td>\n",
       "      <td>0.016</td>\n",
       "    </tr>\n",
       "    <tr>\n",
       "      <th>15</th>\n",
       "      <td>16</td>\n",
       "      <td>linux</td>\n",
       "      <td>0.013</td>\n",
       "    </tr>\n",
       "    <tr>\n",
       "      <th>16</th>\n",
       "      <td>17</td>\n",
       "      <td>server</td>\n",
       "      <td>0.013</td>\n",
       "    </tr>\n",
       "    <tr>\n",
       "      <th>17</th>\n",
       "      <td>18</td>\n",
       "      <td>team</td>\n",
       "      <td>0.011</td>\n",
       "    </tr>\n",
       "    <tr>\n",
       "      <th>18</th>\n",
       "      <td>19</td>\n",
       "      <td>mysql</td>\n",
       "      <td>0.011</td>\n",
       "    </tr>\n",
       "    <tr>\n",
       "      <th>19</th>\n",
       "      <td>20</td>\n",
       "      <td>cs</td>\n",
       "      <td>0.010</td>\n",
       "    </tr>\n",
       "    <tr>\n",
       "      <th>20</th>\n",
       "      <td>21</td>\n",
       "      <td>science</td>\n",
       "      <td>0.010</td>\n",
       "    </tr>\n",
       "    <tr>\n",
       "      <th>21</th>\n",
       "      <td>22</td>\n",
       "      <td>test</td>\n",
       "      <td>0.010</td>\n",
       "    </tr>\n",
       "    <tr>\n",
       "      <th>22</th>\n",
       "      <td>23</td>\n",
       "      <td>solution</td>\n",
       "      <td>0.009</td>\n",
       "    </tr>\n",
       "    <tr>\n",
       "      <th>23</th>\n",
       "      <td>24</td>\n",
       "      <td>russian</td>\n",
       "      <td>0.009</td>\n",
       "    </tr>\n",
       "    <tr>\n",
       "      <th>24</th>\n",
       "      <td>25</td>\n",
       "      <td>framework</td>\n",
       "      <td>0.009</td>\n",
       "    </tr>\n",
       "    <tr>\n",
       "      <th>25</th>\n",
       "      <td>26</td>\n",
       "      <td>knowledge</td>\n",
       "      <td>0.007</td>\n",
       "    </tr>\n",
       "    <tr>\n",
       "      <th>26</th>\n",
       "      <td>27</td>\n",
       "      <td>platform</td>\n",
       "      <td>0.007</td>\n",
       "    </tr>\n",
       "    <tr>\n",
       "      <th>27</th>\n",
       "      <td>28</td>\n",
       "      <td>net</td>\n",
       "      <td>0.007</td>\n",
       "    </tr>\n",
       "    <tr>\n",
       "      <th>28</th>\n",
       "      <td>29</td>\n",
       "      <td>senior</td>\n",
       "      <td>0.007</td>\n",
       "    </tr>\n",
       "    <tr>\n",
       "      <th>29</th>\n",
       "      <td>30</td>\n",
       "      <td>technical</td>\n",
       "      <td>0.006</td>\n",
       "    </tr>\n",
       "    <tr>\n",
       "      <th>...</th>\n",
       "      <td>...</td>\n",
       "      <td>...</td>\n",
       "      <td>...</td>\n",
       "    </tr>\n",
       "    <tr>\n",
       "      <th>459</th>\n",
       "      <td>460</td>\n",
       "      <td>child</td>\n",
       "      <td>0.000</td>\n",
       "    </tr>\n",
       "    <tr>\n",
       "      <th>460</th>\n",
       "      <td>461</td>\n",
       "      <td>care</td>\n",
       "      <td>0.000</td>\n",
       "    </tr>\n",
       "    <tr>\n",
       "      <th>461</th>\n",
       "      <td>462</td>\n",
       "      <td>carry</td>\n",
       "      <td>0.000</td>\n",
       "    </tr>\n",
       "    <tr>\n",
       "      <th>462</th>\n",
       "      <td>463</td>\n",
       "      <td>cooperation</td>\n",
       "      <td>0.000</td>\n",
       "    </tr>\n",
       "    <tr>\n",
       "      <th>463</th>\n",
       "      <td>464</td>\n",
       "      <td>consultant</td>\n",
       "      <td>0.000</td>\n",
       "    </tr>\n",
       "    <tr>\n",
       "      <th>464</th>\n",
       "      <td>465</td>\n",
       "      <td>investment</td>\n",
       "      <td>0.000</td>\n",
       "    </tr>\n",
       "    <tr>\n",
       "      <th>465</th>\n",
       "      <td>466</td>\n",
       "      <td>commitment</td>\n",
       "      <td>0.000</td>\n",
       "    </tr>\n",
       "    <tr>\n",
       "      <th>466</th>\n",
       "      <td>467</td>\n",
       "      <td>promotion</td>\n",
       "      <td>0.000</td>\n",
       "    </tr>\n",
       "    <tr>\n",
       "      <th>467</th>\n",
       "      <td>468</td>\n",
       "      <td>employee</td>\n",
       "      <td>0.000</td>\n",
       "    </tr>\n",
       "    <tr>\n",
       "      <th>468</th>\n",
       "      <td>469</td>\n",
       "      <td>oversee</td>\n",
       "      <td>0.000</td>\n",
       "    </tr>\n",
       "    <tr>\n",
       "      <th>469</th>\n",
       "      <td>470</td>\n",
       "      <td>coordinator</td>\n",
       "      <td>0.000</td>\n",
       "    </tr>\n",
       "    <tr>\n",
       "      <th>470</th>\n",
       "      <td>471</td>\n",
       "      <td>personnel</td>\n",
       "      <td>0.000</td>\n",
       "    </tr>\n",
       "    <tr>\n",
       "      <th>471</th>\n",
       "      <td>472</td>\n",
       "      <td>license</td>\n",
       "      <td>0.000</td>\n",
       "    </tr>\n",
       "    <tr>\n",
       "      <th>472</th>\n",
       "      <td>473</td>\n",
       "      <td>tax</td>\n",
       "      <td>0.000</td>\n",
       "    </tr>\n",
       "    <tr>\n",
       "      <th>473</th>\n",
       "      <td>474</td>\n",
       "      <td>target</td>\n",
       "      <td>0.000</td>\n",
       "    </tr>\n",
       "    <tr>\n",
       "      <th>474</th>\n",
       "      <td>475</td>\n",
       "      <td>foreign</td>\n",
       "      <td>0.000</td>\n",
       "    </tr>\n",
       "    <tr>\n",
       "      <th>475</th>\n",
       "      <td>476</td>\n",
       "      <td>delivery</td>\n",
       "      <td>0.000</td>\n",
       "    </tr>\n",
       "    <tr>\n",
       "      <th>476</th>\n",
       "      <td>477</td>\n",
       "      <td>cost</td>\n",
       "      <td>0.000</td>\n",
       "    </tr>\n",
       "    <tr>\n",
       "      <th>477</th>\n",
       "      <td>478</td>\n",
       "      <td>supply</td>\n",
       "      <td>0.000</td>\n",
       "    </tr>\n",
       "    <tr>\n",
       "      <th>478</th>\n",
       "      <td>479</td>\n",
       "      <td>chief</td>\n",
       "      <td>0.000</td>\n",
       "    </tr>\n",
       "    <tr>\n",
       "      <th>479</th>\n",
       "      <td>480</td>\n",
       "      <td>correspondence</td>\n",
       "      <td>0.000</td>\n",
       "    </tr>\n",
       "    <tr>\n",
       "      <th>480</th>\n",
       "      <td>481</td>\n",
       "      <td>fund</td>\n",
       "      <td>0.000</td>\n",
       "    </tr>\n",
       "    <tr>\n",
       "      <th>481</th>\n",
       "      <td>482</td>\n",
       "      <td>region</td>\n",
       "      <td>0.000</td>\n",
       "    </tr>\n",
       "    <tr>\n",
       "      <th>482</th>\n",
       "      <td>483</td>\n",
       "      <td>donor</td>\n",
       "      <td>0.000</td>\n",
       "    </tr>\n",
       "    <tr>\n",
       "      <th>483</th>\n",
       "      <td>484</td>\n",
       "      <td>official</td>\n",
       "      <td>0.000</td>\n",
       "    </tr>\n",
       "    <tr>\n",
       "      <th>484</th>\n",
       "      <td>485</td>\n",
       "      <td>executive</td>\n",
       "      <td>0.000</td>\n",
       "    </tr>\n",
       "    <tr>\n",
       "      <th>485</th>\n",
       "      <td>486</td>\n",
       "      <td>officer</td>\n",
       "      <td>0.000</td>\n",
       "    </tr>\n",
       "    <tr>\n",
       "      <th>486</th>\n",
       "      <td>487</td>\n",
       "      <td>statement</td>\n",
       "      <td>0.000</td>\n",
       "    </tr>\n",
       "    <tr>\n",
       "      <th>487</th>\n",
       "      <td>488</td>\n",
       "      <td>accountant</td>\n",
       "      <td>0.000</td>\n",
       "    </tr>\n",
       "    <tr>\n",
       "      <th>488</th>\n",
       "      <td>489</td>\n",
       "      <td>cash</td>\n",
       "      <td>0.000</td>\n",
       "    </tr>\n",
       "  </tbody>\n",
       "</table>\n",
       "<p>489 rows × 3 columns</p>\n",
       "</div>"
      ],
      "text/plain": [
       "    rank         feature  importance\n",
       "0      1       developer       0.092\n",
       "1      2        software       0.052\n",
       "2      3          design       0.039\n",
       "3      4     programming       0.026\n",
       "4      5             sql       0.024\n",
       "5      6      experience       0.022\n",
       "6      7            code       0.021\n",
       "7      8             web       0.021\n",
       "8      9      javascript       0.020\n",
       "9     10     development       0.019\n",
       "10    11        database       0.018\n",
       "11    12             oop       0.018\n",
       "12    13            java       0.017\n",
       "13    14            html       0.016\n",
       "14    15      technology       0.016\n",
       "15    16           linux       0.013\n",
       "16    17          server       0.013\n",
       "17    18            team       0.011\n",
       "18    19           mysql       0.011\n",
       "19    20              cs       0.010\n",
       "20    21         science       0.010\n",
       "21    22            test       0.010\n",
       "22    23        solution       0.009\n",
       "23    24         russian       0.009\n",
       "24    25       framework       0.009\n",
       "25    26       knowledge       0.007\n",
       "26    27        platform       0.007\n",
       "27    28             net       0.007\n",
       "28    29          senior       0.007\n",
       "29    30       technical       0.006\n",
       "..   ...             ...         ...\n",
       "459  460           child       0.000\n",
       "460  461            care       0.000\n",
       "461  462           carry       0.000\n",
       "462  463     cooperation       0.000\n",
       "463  464      consultant       0.000\n",
       "464  465      investment       0.000\n",
       "465  466      commitment       0.000\n",
       "466  467       promotion       0.000\n",
       "467  468        employee       0.000\n",
       "468  469         oversee       0.000\n",
       "469  470     coordinator       0.000\n",
       "470  471       personnel       0.000\n",
       "471  472         license       0.000\n",
       "472  473             tax       0.000\n",
       "473  474          target       0.000\n",
       "474  475         foreign       0.000\n",
       "475  476        delivery       0.000\n",
       "476  477            cost       0.000\n",
       "477  478          supply       0.000\n",
       "478  479           chief       0.000\n",
       "479  480  correspondence       0.000\n",
       "480  481            fund       0.000\n",
       "481  482          region       0.000\n",
       "482  483           donor       0.000\n",
       "483  484        official       0.000\n",
       "484  485       executive       0.000\n",
       "485  486         officer       0.000\n",
       "486  487       statement       0.000\n",
       "487  488      accountant       0.000\n",
       "488  489            cash       0.000\n",
       "\n",
       "[489 rows x 3 columns]"
      ]
     },
     "execution_count": 325,
     "metadata": {},
     "output_type": "execute_result"
    }
   ],
   "source": [
    "indices = np.argsort(rf_model.feature_importances_)[::-1]\n",
    "feature_rank = pd.DataFrame(columns = ['rank', 'feature', 'importance'])\n",
    "for f in range(train_x.shape[1]):\n",
    "    feature_rank.loc[f] = [f+1,\n",
    "                          train_x.columns[indices[f]],\n",
    "                          rf_model.feature_importances_[indices[f]]]\n",
    "feature_rank.round(3)"
   ]
  },
  {
   "cell_type": "code",
   "execution_count": 326,
   "metadata": {
    "scrolled": true
   },
   "outputs": [
    {
     "data": {
      "text/html": [
       "<div>\n",
       "<style scoped>\n",
       "    .dataframe tbody tr th:only-of-type {\n",
       "        vertical-align: middle;\n",
       "    }\n",
       "\n",
       "    .dataframe tbody tr th {\n",
       "        vertical-align: top;\n",
       "    }\n",
       "\n",
       "    .dataframe thead th {\n",
       "        text-align: right;\n",
       "    }\n",
       "</style>\n",
       "<table border=\"1\" class=\"dataframe\">\n",
       "  <thead>\n",
       "    <tr style=\"text-align: right;\">\n",
       "      <th></th>\n",
       "      <th>rank</th>\n",
       "      <th>feature</th>\n",
       "      <th>importance</th>\n",
       "    </tr>\n",
       "  </thead>\n",
       "  <tbody>\n",
       "    <tr>\n",
       "      <th>0</th>\n",
       "      <td>1</td>\n",
       "      <td>developer</td>\n",
       "      <td>0.091986</td>\n",
       "    </tr>\n",
       "    <tr>\n",
       "      <th>1</th>\n",
       "      <td>2</td>\n",
       "      <td>software</td>\n",
       "      <td>0.052484</td>\n",
       "    </tr>\n",
       "    <tr>\n",
       "      <th>2</th>\n",
       "      <td>3</td>\n",
       "      <td>design</td>\n",
       "      <td>0.039021</td>\n",
       "    </tr>\n",
       "    <tr>\n",
       "      <th>3</th>\n",
       "      <td>4</td>\n",
       "      <td>programming</td>\n",
       "      <td>0.025965</td>\n",
       "    </tr>\n",
       "    <tr>\n",
       "      <th>4</th>\n",
       "      <td>5</td>\n",
       "      <td>sql</td>\n",
       "      <td>0.024310</td>\n",
       "    </tr>\n",
       "    <tr>\n",
       "      <th>5</th>\n",
       "      <td>6</td>\n",
       "      <td>experience</td>\n",
       "      <td>0.021616</td>\n",
       "    </tr>\n",
       "    <tr>\n",
       "      <th>6</th>\n",
       "      <td>7</td>\n",
       "      <td>code</td>\n",
       "      <td>0.020580</td>\n",
       "    </tr>\n",
       "    <tr>\n",
       "      <th>7</th>\n",
       "      <td>8</td>\n",
       "      <td>web</td>\n",
       "      <td>0.020533</td>\n",
       "    </tr>\n",
       "    <tr>\n",
       "      <th>8</th>\n",
       "      <td>9</td>\n",
       "      <td>javascript</td>\n",
       "      <td>0.020234</td>\n",
       "    </tr>\n",
       "    <tr>\n",
       "      <th>9</th>\n",
       "      <td>10</td>\n",
       "      <td>development</td>\n",
       "      <td>0.019417</td>\n",
       "    </tr>\n",
       "    <tr>\n",
       "      <th>10</th>\n",
       "      <td>11</td>\n",
       "      <td>database</td>\n",
       "      <td>0.017890</td>\n",
       "    </tr>\n",
       "    <tr>\n",
       "      <th>11</th>\n",
       "      <td>12</td>\n",
       "      <td>oop</td>\n",
       "      <td>0.017580</td>\n",
       "    </tr>\n",
       "    <tr>\n",
       "      <th>12</th>\n",
       "      <td>13</td>\n",
       "      <td>java</td>\n",
       "      <td>0.016570</td>\n",
       "    </tr>\n",
       "    <tr>\n",
       "      <th>13</th>\n",
       "      <td>14</td>\n",
       "      <td>html</td>\n",
       "      <td>0.016339</td>\n",
       "    </tr>\n",
       "    <tr>\n",
       "      <th>14</th>\n",
       "      <td>15</td>\n",
       "      <td>technology</td>\n",
       "      <td>0.015889</td>\n",
       "    </tr>\n",
       "    <tr>\n",
       "      <th>15</th>\n",
       "      <td>16</td>\n",
       "      <td>linux</td>\n",
       "      <td>0.013020</td>\n",
       "    </tr>\n",
       "    <tr>\n",
       "      <th>16</th>\n",
       "      <td>17</td>\n",
       "      <td>server</td>\n",
       "      <td>0.012511</td>\n",
       "    </tr>\n",
       "  </tbody>\n",
       "</table>\n",
       "</div>"
      ],
      "text/plain": [
       "   rank      feature  importance\n",
       "0     1    developer    0.091986\n",
       "1     2     software    0.052484\n",
       "2     3       design    0.039021\n",
       "3     4  programming    0.025965\n",
       "4     5          sql    0.024310\n",
       "5     6   experience    0.021616\n",
       "6     7         code    0.020580\n",
       "7     8          web    0.020533\n",
       "8     9   javascript    0.020234\n",
       "9    10  development    0.019417\n",
       "10   11     database    0.017890\n",
       "11   12          oop    0.017580\n",
       "12   13         java    0.016570\n",
       "13   14         html    0.016339\n",
       "14   15   technology    0.015889\n",
       "15   16        linux    0.013020\n",
       "16   17       server    0.012511"
      ]
     },
     "execution_count": 326,
     "metadata": {},
     "output_type": "execute_result"
    }
   ],
   "source": [
    "feature_rank[:17]"
   ]
  },
  {
   "cell_type": "markdown",
   "metadata": {},
   "source": [
    "Presence of keywords like software, developer, web, design, cs are the important feautures while clasifying any job as **IT or NON-IT**"
   ]
  },
  {
   "cell_type": "markdown",
   "metadata": {},
   "source": [
    "### Similarity of Jobs"
   ]
  },
  {
   "cell_type": "code",
   "execution_count": null,
   "metadata": {},
   "outputs": [],
   "source": [
    "###Using TF-IDF as cosine similarity"
   ]
  },
  {
   "cell_type": "code",
   "execution_count": 151,
   "metadata": {},
   "outputs": [],
   "source": [
    "#from sklearn.metrics.pairwise import cosine_similarity"
   ]
  },
  {
   "cell_type": "code",
   "execution_count": null,
   "metadata": {},
   "outputs": [],
   "source": [
    "def get_cosine_sim(doc): \n",
    "    vectors = [t for t in get_vectors(doc)]\n",
    "    return cosine_similarity(vectors)\n",
    "    \n",
    "def get_vectors(doc):\n",
    "    text = [t for t in doc]\n",
    "    vectorizer = CountVectorizer(text)\n",
    "    vectorizer.fit(text)\n",
    "    return vectorizer.transform(text).toarray()"
   ]
  },
  {
   "cell_type": "markdown",
   "metadata": {},
   "source": [
    "### Using word embeddings Doc2Vec"
   ]
  },
  {
   "cell_type": "code",
   "execution_count": 133,
   "metadata": {},
   "outputs": [],
   "source": [
    "from gensim import utils\n",
    "from gensim.models.doc2vec import TaggedDocument\n",
    "from gensim.models import Doc2Vec"
   ]
  },
  {
   "cell_type": "code",
   "execution_count": 295,
   "metadata": {},
   "outputs": [
    {
     "data": {
      "text/plain": [
       "(18892,)"
      ]
     },
     "execution_count": 295,
     "metadata": {},
     "output_type": "execute_result"
    }
   ],
   "source": [
    "jobpost_df_1.shape"
   ]
  },
  {
   "cell_type": "code",
   "execution_count": 138,
   "metadata": {},
   "outputs": [
    {
     "data": {
      "text/plain": [
       "0    ameria investment consulting chief financial o...\n",
       "1    international research exchanges board irex co...\n",
       "2    caucasus environmental ngo network cenn countr...\n",
       "3    manoff group bcc specialist manila philippines...\n",
       "4    yerevan brandy software developer yerevan resp...\n",
       "5    boutique appollo saleswoman yerevan work hours...\n",
       "6    osi assistance foundation branch office chief ...\n",
       "7    international research exchanges board irex pa...\n",
       "8    yerevan brandy assistant managing director yer...\n",
       "9    american embassy yerevan number program assist...\n",
       "Name: jobpost, dtype: object"
      ]
     },
     "execution_count": 138,
     "metadata": {},
     "output_type": "execute_result"
    }
   ],
   "source": [
    "#Pre-processed text of jobpost column\n",
    "jobpost_df_1.head(10)"
   ]
  },
  {
   "cell_type": "code",
   "execution_count": 296,
   "metadata": {},
   "outputs": [
    {
     "data": {
      "text/plain": [
       "(18892,)"
      ]
     },
     "execution_count": 296,
     "metadata": {},
     "output_type": "execute_result"
    }
   ],
   "source": [
    "title_df_1.shape"
   ]
  },
  {
   "cell_type": "code",
   "execution_count": 175,
   "metadata": {},
   "outputs": [
    {
     "data": {
      "text/plain": [
       "0                        chief financial officer\n",
       "1    community connection intern paid internship\n",
       "2                            country coordinator\n",
       "3                                 bcc specialist\n",
       "4                             software developer\n",
       "Name: title, dtype: object"
      ]
     },
     "execution_count": 175,
     "metadata": {},
     "output_type": "execute_result"
    }
   ],
   "source": [
    "#Pre-processed text of title column column\n",
    "title_df_1.head()"
   ]
  },
  {
   "cell_type": "markdown",
   "metadata": {},
   "source": [
    "#### 1. Create the tags with each post"
   ]
  },
  {
   "cell_type": "code",
   "execution_count": 294,
   "metadata": {},
   "outputs": [
    {
     "data": {
      "text/plain": [
       "jobpost    kre consulting csql server programmer eligibil...\n",
       "title                                 csql server programmer\n",
       "Name: 1810, dtype: object"
      ]
     },
     "execution_count": 294,
     "metadata": {},
     "output_type": "execute_result"
    }
   ],
   "source": [
    "df_sim = pd.concat([jobpost_df_1, title_df_1], axis = 1)\n",
    "df_sim.loc[1810]"
   ]
  },
  {
   "cell_type": "code",
   "execution_count": 200,
   "metadata": {
    "collapsed": true
   },
   "outputs": [
    {
     "data": {
      "text/plain": [
       "0        None\n",
       "1        None\n",
       "2        None\n",
       "3        None\n",
       "4        None\n",
       "5        None\n",
       "6        None\n",
       "7        None\n",
       "8        None\n",
       "9        None\n",
       "10       None\n",
       "11       None\n",
       "12       None\n",
       "13       None\n",
       "14       None\n",
       "15       None\n",
       "16       None\n",
       "17       None\n",
       "18       None\n",
       "19       None\n",
       "20       None\n",
       "21       None\n",
       "22       None\n",
       "23       None\n",
       "24       None\n",
       "25       None\n",
       "26       None\n",
       "27       None\n",
       "28       None\n",
       "29       None\n",
       "         ... \n",
       "18971    None\n",
       "18972    None\n",
       "18973    None\n",
       "18974    None\n",
       "18975    None\n",
       "18976    None\n",
       "18977    None\n",
       "18978    None\n",
       "18979    None\n",
       "18980    None\n",
       "18981    None\n",
       "18982    None\n",
       "18983    None\n",
       "18984    None\n",
       "18985    None\n",
       "18986    None\n",
       "18987    None\n",
       "18988    None\n",
       "18989    None\n",
       "18990    None\n",
       "18991    None\n",
       "18992    None\n",
       "18993    None\n",
       "18994    None\n",
       "18995    None\n",
       "18996    None\n",
       "18997    None\n",
       "18998    None\n",
       "18999    None\n",
       "19000    None\n",
       "Length: 18892, dtype: object"
      ]
     },
     "execution_count": 200,
     "metadata": {},
     "output_type": "execute_result"
    }
   ],
   "source": [
    "docs=[]\n",
    "def fn_tag_doc(jobpost, title):\n",
    "        docs.append(TaggedDocument(words = jobpost.split(), tags = [title]))     \n",
    "\n",
    "df_sim.apply(lambda x : fn_tag_doc(x['jobpost'], x['title']), axis = 1)"
   ]
  },
  {
   "cell_type": "code",
   "execution_count": 312,
   "metadata": {
    "scrolled": true
   },
   "outputs": [
    {
     "data": {
      "text/plain": [
       "TaggedDocument(words=['international', 'research', 'exchanges', 'board', 'irex', 'community', 'connections', 'intern', 'paid', 'internship', 'months', 'irex', 'main', 'office', 'yerevan', 'description', 'irex', 'currently', 'seeks', 'fill', 'paid', 'intern', 'community', 'connections', 'cc', 'program', 'based', 'yerevan', 'office', 'however', 'applicants', 'must', 'willing', 'travel', 'throughout', 'necessary', 'reports', 'directly', 'cc', 'program', 'manager', 'responsibilities', 'presenting', 'cc', 'program', 'interested', 'parties', 'assisting', 'planning', 'scheduling', 'programmatic', 'meetings', 'events', 'includes', 'coordinating', 'logistics', 'cc', 'staff', 'visitors', 'participants', 'assisting', 'program', 'staff', 'english', 'vice', 'versa', 'helping', 'create', 'maintain', 'update', 'cc', 'filing', 'system', 'databases', 'completing', 'general', 'administrative', 'tasks', 'cc', 'program', 'within', 'office', 'duties', 'assigned', 'needed', 'required', 'qualifications', 'degree', 'preferred', 'excellent', 'skills', 'spoken', 'written', 'english', 'languages', 'past', 'english', 'translation', 'english', 'translation', 'experience', 'good', 'communication', 'public', 'speaking', 'skills', 'ability', 'work', 'independently', 'part', 'team', 'remuneration', 'commensurate', 'experience', 'procedures', 'please', 'submit', 'cover', 'letter', 'irex', 'yerevan', 'office', 'attn', 'community', 'connections', 'program', 'khanjian', 'str', 'tekeyan', 'center', 'nd', 'floor', 'yerevan', 'cc', 'please', 'clearly', 'mention', 'letter', 'learned', 'opportunity', 'career', 'center', 'mention', 'url', 'thanks', 'january', 'international', 'research', 'exchanges', 'board', 'irex', 'private', 'irex', 'yerevan', 'office', 'established', 'place', 'interested', 'individuals', 'obtain', 'information', 'study', 'research', 'professional', 'internship', 'opportunities', 'unites', 'states', 'irex', 'yerevan', 'collaborates', 'national', 'government', 'branches', 'local', 'international', 'ngos', 'institutions', 'higher', 'education', 'promotion', 'irex', 'administered', 'research', 'professional', 'programs', 'goal', 'programs', 'make', 'american', 'academic', 'professional', 'experiences', 'available', 'qualified', 'individuals', 'place', 'free', 'posting', 'career', 'related', 'opportunities', 'us', 'atmailbox'], tags=['community connection intern paid internship'])"
      ]
     },
     "execution_count": 312,
     "metadata": {},
     "output_type": "execute_result"
    }
   ],
   "source": [
    "docs[1]"
   ]
  },
  {
   "cell_type": "markdown",
   "metadata": {},
   "source": [
    "#### 2. Build a Model to convert each document(jobpost) into vectors to be used to check similarity"
   ]
  },
  {
   "cell_type": "code",
   "execution_count": 202,
   "metadata": {},
   "outputs": [],
   "source": [
    "model_sim = Doc2Vec(docs, dm=0, alpha = 0.025, min_alpha = 0.025, min_count = 0)  # use fixed learning rate"
   ]
  },
  {
   "cell_type": "code",
   "execution_count": 204,
   "metadata": {},
   "outputs": [],
   "source": [
    "for epoch in range(10):\n",
    "    model_sim.train(docs, total_examples= model_sim.corpus_count, epochs=model_sim.epochs)\n",
    "    model_sim.alpha -= 0.002  # decrease the learning rate\n",
    "    model_sim.min_alpha = model_sim.alpha  # fix the learning rate, no decay"
   ]
  },
  {
   "cell_type": "markdown",
   "metadata": {},
   "source": [
    "#### 3.Check the similarity of a given job title and get top 10 jobposts similar to that job_title"
   ]
  },
  {
   "cell_type": "code",
   "execution_count": 313,
   "metadata": {
    "scrolled": true
   },
   "outputs": [
    {
     "data": {
      "text/plain": [
       "[('finance director', 0.5625116229057312),\n",
       " ('chief accountant', 0.5528969764709473),\n",
       " ('credit officer sevan branch', 0.5511462092399597),\n",
       " ('specialist reporting subdivision payment account', 0.5506600141525269),\n",
       " ('credit officer ararat', 0.5474196076393127),\n",
       " ('chief accountant armavir branch', 0.5470607280731201),\n",
       " ('microfinance officer', 0.5437276363372803),\n",
       " ('deputy chief accountant', 0.5420640110969543),\n",
       " ('credit officer sevan', 0.5419756174087524),\n",
       " ('chief engineer', 0.5417341589927673)]"
      ]
     },
     "execution_count": 313,
     "metadata": {},
     "output_type": "execute_result"
    }
   ],
   "source": [
    "model_sim.docvecs.most_similar(positive=[model_sim.infer_vector('chief financial officer'.split())],topn=10)"
   ]
  },
  {
   "cell_type": "markdown",
   "metadata": {},
   "source": [
    "Above shows **top 10 titles** which are similar to the title 'chief financial officer'."
   ]
  },
  {
   "cell_type": "code",
   "execution_count": 307,
   "metadata": {},
   "outputs": [],
   "source": [
    "#docs[0].tags"
   ]
  },
  {
   "cell_type": "code",
   "execution_count": 308,
   "metadata": {},
   "outputs": [],
   "source": [
    "#tags_list=[]\n",
    "#for i in range(0, df_sim.shape[0]):\n",
    "#    c = str(docs[i].tags).replace('[', '')\n",
    "#    c = c.replace(']', '')\n",
    "#    c = c.replace(\"'\", '')\n",
    "#    tags_list.append(c)"
   ]
  },
  {
   "cell_type": "code",
   "execution_count": 309,
   "metadata": {},
   "outputs": [],
   "source": [
    "#tags_list[0]"
   ]
  },
  {
   "cell_type": "code",
   "execution_count": 310,
   "metadata": {
    "scrolled": true
   },
   "outputs": [],
   "source": [
    "#sim_list = []\n",
    "#for tag in tags_list:\n",
    "    #print(model_sim.docvecs.similarity('bcc specialist', tag))\n",
    "#    sim_list.append(model_sim.docvecs.similarity('software developer', tag))\n",
    "    \n",
    "#sim_list[0]"
   ]
  },
  {
   "cell_type": "code",
   "execution_count": 305,
   "metadata": {},
   "outputs": [],
   "source": [
    "#sim_score_df = pd.concat([pd.Series(jobpost_df_1),pd.Series(tags_list), pd.Series(sim_list)], axis =1)\n",
    "#sim_score_df.columns=['jobpost', 'title', 'similarity_score']\n",
    "#sim_score_df\n",
    "#sim_score_df.sort_values(by = 'similarity_score', ascending = False)"
   ]
  },
  {
   "cell_type": "code",
   "execution_count": null,
   "metadata": {},
   "outputs": [],
   "source": []
  }
 ],
 "metadata": {
  "kernelspec": {
   "display_name": "Python 3",
   "language": "python",
   "name": "python3"
  },
  "language_info": {
   "codemirror_mode": {
    "name": "ipython",
    "version": 3
   },
   "file_extension": ".py",
   "mimetype": "text/x-python",
   "name": "python",
   "nbconvert_exporter": "python",
   "pygments_lexer": "ipython3",
   "version": "3.7.3"
  }
 },
 "nbformat": 4,
 "nbformat_minor": 2
}
